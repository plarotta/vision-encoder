{
  "cells": [
    {
      "cell_type": "code",
      "execution_count": 7,
      "metadata": {},
      "outputs": [],
      "source": [
        "import pybullet as p\n",
        "import pybullet_data\n",
        "import cv2\n",
        "import random\n",
        "import cv2\n",
        "import numpy as np\n",
        "import os\n",
        "import pandas as pd"
      ]
    },
    {
      "cell_type": "code",
      "execution_count": 8,
      "metadata": {},
      "outputs": [],
      "source": [
        "#define joint ranges\n",
        "min, max= -np.pi, np.pi\n",
        "joint_ranges = [(min, max), (min, max), (min, max),(min, max),(min, max),(min, max)]"
      ]
    },
    {
      "cell_type": "code",
      "execution_count": 9,
      "metadata": {},
      "outputs": [],
      "source": [
        "#Top Camera Setup\n",
        "width, height = 640, 480\n",
        "top_camera = p.computeViewMatrixFromYawPitchRoll(cameraTargetPosition=[0, 0, 0],distance=2.5,yaw=0, pitch=-90, roll=0, upAxisIndex=2)\n",
        "top_projection = p.computeProjectionMatrixFOV(fov=60, aspect=float(width) / height, nearVal=0.1, farVal=100.0)\n"
      ]
    },
    {
      "cell_type": "code",
      "execution_count": 10,
      "metadata": {},
      "outputs": [],
      "source": [
        "# Side Camera Setup\n",
        "side_camera_position = [2, 0, .5]  # Example position\n",
        "side_camera_target = [0, 0, .5]      # Point the camera is looking at\n",
        "side_camera_up_vector = [0, 0, 1]   # Which direction is 'up' for the camera\n",
        "side_camera = p.computeViewMatrix(cameraEyePosition=side_camera_position, cameraTargetPosition=side_camera_target, cameraUpVector=side_camera_up_vector)\n",
        "\n",
        "# Define the side camera projection matrix\n",
        "side_projection = p.computeProjectionMatrixFOV(fov=60, aspect=float(width) / height, nearVal=0.1, farVal=100.0)\n"
      ]
    },
    {
      "cell_type": "code",
      "execution_count": 21,
      "metadata": {},
      "outputs": [],
      "source": [
        "#Front Camera Setup\n",
        "front_camera_position = [0, 2, .5]  # Example position\n",
        "front_camera_target = [0, 0, .5]      # Point the camera is looking at\n",
        "front_camera_up_vector = [0, 0, 1]   # Which direction is 'up' for the camera\n",
        "front_camera = p.computeViewMatrix(cameraEyePosition=front_camera_position, cameraTargetPosition=front_camera_target, cameraUpVector=front_camera_up_vector)\n",
        "\n",
        "# Define the side camera projection matrix\n",
        "front_projection = p.computeProjectionMatrixFOV(fov=60, aspect=float(width) / height, nearVal=0.1, farVal=100.0)"
      ]
    },
    {
      "cell_type": "code",
      "execution_count": 23,
      "metadata": {
        "id": "xuaDIhb6z9dj"
      },
      "outputs": [],
      "source": [
        "#connect to a pybulllet sim\n",
        "if p.isConnected():\n",
        "    p.disconnect()\n",
        "p.connect(p.GUI)\n",
        "p.setGravity(0, 0, -9.8)\n",
        "p.setAdditionalSearchPath(pybullet_data.getDataPath())\n",
        "# plane_id= p.loadURDF(\"plane.urdf\")\n",
        "arm_id = p.loadURDF(\"assets/ur5.urdf\", [0, 0, 0.4],p.getQuaternionFromEuler([0, 0, 0]))\n",
        "\n",
        "#create a directory for images\n",
        "images_dir = \"UR5_images_2\"\n",
        "os.makedirs(images_dir, exist_ok=True)\n",
        "\n",
        "# Initialize DataFrame\n",
        "columns = ['ImageID', 'Joint1', 'Joint2', 'Joint3', 'Joint4', 'Joint5', 'Joint6']\n",
        "positions_df = pd.DataFrame(columns=columns)\n",
        "\n",
        "temp_data = []\n",
        "\n",
        "for i in range(10000):\n",
        "    joint_positions= []\n",
        "    # Set random pose\n",
        "    for joint_index, (min_val, max_val) in enumerate(joint_ranges):\n",
        "        random_position = random.uniform(min_val, max_val)\n",
        "        p.setJointMotorControl2(bodyUniqueId=arm_id,\n",
        "                                jointIndex=joint_index,\n",
        "                                controlMode=p.POSITION_CONTROL,\n",
        "                                targetPosition=random_position)\n",
        "        joint_positions.append(random_position)\n",
        "    # Allow some time for the arm to move to the pose\n",
        "    \n",
        "    for _ in range(100):\n",
        "        p.stepSimulation()\n",
        "\n",
        "    # Capture and save images\n",
        "    _, _, top_image, _, _ = p.getCameraImage(width, height, top_camera, top_projection)\n",
        "    _, _, side_image, _, _ = p.getCameraImage(width, height, side_camera, side_projection)\n",
        "    _, _, front_image, _, _ = p.getCameraImage(width, height, front_camera, front_projection)\n",
        "\n",
        "    top_image_path = os.path.join(images_dir, f\"top_view_{i}.png\")\n",
        "    side_image_path = os.path.join(images_dir, f\"side_view_{i}.png\")\n",
        "    front_image_path = os.path.join(images_dir, f\"front_view_{i}.png\")\n",
        "\n",
        "    cv2.imwrite(top_image_path, top_image)\n",
        "    cv2.imwrite(side_image_path, side_image)\n",
        "    cv2.imwrite(front_image_path, front_image)\n",
        "\n",
        "    temp_data.append({'ImageID': i, 'Joint1': joint_positions[0], 'Joint2': joint_positions[1], 'Joint3': joint_positions[2], \n",
        "                      'Joint4': joint_positions[3], 'Joint5': joint_positions[4], 'Joint6': joint_positions[5]})\n",
        "\n",
        "# Concatenate the temporary data to the DataFrame\n",
        "positions_df = pd.concat([positions_df, pd.DataFrame(temp_data)], ignore_index=True)\n",
        "  \n",
        "# Append data to DataFrame\n",
        "positions_df.to_csv('UR5_positions_2.csv', index=False)\n"
      ]
    }
  ],
  "metadata": {
    "colab": {
      "provenance": []
    },
    "kernelspec": {
      "display_name": "Python 3",
      "name": "python3"
    },
    "language_info": {
      "codemirror_mode": {
        "name": "ipython",
        "version": 3
      },
      "file_extension": ".py",
      "mimetype": "text/x-python",
      "name": "python",
      "nbconvert_exporter": "python",
      "pygments_lexer": "ipython3",
      "version": "3.10.6"
    }
  },
  "nbformat": 4,
  "nbformat_minor": 0
}
