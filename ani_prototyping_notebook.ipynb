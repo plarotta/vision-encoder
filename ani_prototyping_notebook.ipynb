{
  "nbformat": 4,
  "nbformat_minor": 0,
  "metadata": {
    "colab": {
      "provenance": []
    },
    "kernelspec": {
      "name": "python3",
      "display_name": "Python 3"
    },
    "language_info": {
      "name": "python"
    }
  },
  "cells": [
    {
      "cell_type": "code",
      "execution_count": null,
      "metadata": {
        "id": "iefbI3c9YWRf"
      },
      "outputs": [],
      "source": [
        "%%shell\n",
        "git clone https://github.com/plarotta/vision-encoder.git\n",
        "mv /content/vision-encoder/transfer_learner/ /content/\n",
        "rm -rf /content/vision-encoder/\n",
        "wget --load-cookies /tmp/cookies.txt \"https://docs.google.com/uc?export=download&confirm=$(wget --quiet --save-cookies /tmp/cookies.txt --keep-session-cookies --no-check-certificate 'https://docs.google.com/uc?export=download&id=1zxFDf6wqacM4EfMzLp2YD7kI9g-3KtJk' -O- | sed -rn 's/.*confirm=([0-9A-Za-z_]+).*/\\1\\n/p')&id=1zxFDf6wqacM4EfMzLp2YD7kI9g-3KtJk\" -O UR5_images_2.zip && rm -rf /tmp/cookies.txt\n",
        "wget --load-cookies /tmp/cookies.txt \"https://docs.google.com/uc?export=download&confirm=$(wget --quiet --save-cookies /tmp/cookies.txt --keep-session-cookies --no-check-certificate 'https://docs.google.com/uc?export=download&id=1TAMiAfoJIyFmvGo5gLzxftRHprF60PzG' -O- | sed -rn 's/.*confirm=([0-9A-Za-z_]+).*/\\1\\n/p')&id=1TAMiAfoJIyFmvGo5gLzxftRHprF60PzG\" -O UR5_positions_2.csv && rm -rf /tmp/cookies.txt\n",
        "unzip UR5_images_2.zip\n",
        "mv UR5_images_2/ images/\n",
        "pip install wandb -qq"
      ]
    },
    {
      "cell_type": "code",
      "source": [
        "import numpy as np\n",
        "import pandas as pd\n",
        "from torch.utils.data import Dataset, DataLoader, random_split\n",
        "import torch\n",
        "import os\n",
        "from skimage import io\n",
        "from torchvision.transforms import v2\n",
        "from matplotlib import pyplot as plt\n",
        "from torchvision.models.resnet import ResNet18_Weights\n",
        "from torchvision.models import resnet18\n",
        "import torch.nn as nn\n",
        "import torch.nn.functional as F\n",
        "import torch.optim as optim\n",
        "from transfer_learner.source.model import RobotNet\n",
        "from transfer_learner.source.robot_dataset import RobotImageDataset\n",
        "from transfer_learner.utils.trainers import train_one_epoch, validate_one_epoch\n",
        "import wandb"
      ],
      "metadata": {
        "id": "XP2-2yGSZHV0"
      },
      "execution_count": 10,
      "outputs": []
    },
    {
      "cell_type": "code",
      "source": [
        "robotdata = RobotImageDataset('/content/UR5_positions_2.csv', '/content/images', multi_input=True)\n",
        "\n",
        "\n",
        "def train_one_epoch(tr_loader, model, loss_func, optimizer, device):\n",
        "    running_loss = 0.0\n",
        "\n",
        "    for i, data in enumerate(tr_loader):\n",
        "        im1,im2,im3 = data['images']\n",
        "        y = data['joint_values'].float()\n",
        "        im1,im2,im3, y = im1.to(device), im2.to(device), im3.to(device), y.to(device)\n",
        "        optimizer.zero_grad()\n",
        "        preds = model(im1, im2, im3).float()\n",
        "        loss = loss_func(preds, y)\n",
        "        running_loss +=loss.item()\n",
        "        loss.backward()\n",
        "        optimizer.step()\n",
        "\n",
        "    train_loss = running_loss/(i+1)\n",
        "\n",
        "    return(train_loss)\n",
        "\n",
        "def validate_one_epoch(val_loader, model, loss_func, optimizer, device):\n",
        "    running_loss = 0.0\n",
        "\n",
        "    with torch.no_grad():\n",
        "        for i, data in enumerate(val_loader):\n",
        "            im1,im2,im3 = data['images']\n",
        "            y = data['joint_values'].float()\n",
        "            im1,im2,im3, y = im1.to(device), im2.to(device), im3.to(device), y.to(device)\n",
        "            optimizer.zero_grad()\n",
        "            preds = model(im1, im2, im3).float()\n",
        "            loss = loss_func(preds, y)\n",
        "            running_loss +=loss.item()\n",
        "\n",
        "    val_loss = running_loss/(i+1)\n",
        "\n",
        "    return(val_loss)\n",
        "\n",
        "def main():\n",
        "    run = wandb.init()\n",
        "    LEARNING_RATE = 1e-4\n",
        "    BATCH_SIZE = 32\n",
        "    EPOCH = 5\n",
        "    IN_DIM1 = 128\n",
        "    IN_DIM2 = 32\n",
        "\n",
        "\n",
        "    # Check if GPU is available\n",
        "    device = torch.device(\"cuda:0\" if torch.cuda.is_available() else \"cpu\")\n",
        "    # Params\n",
        "    traindata, validdata = random_split(robotdata, [0.8,0.2])\n",
        "    trainloader = DataLoader(traindata, batch_size=BATCH_SIZE, shuffle=True)\n",
        "    validloader = DataLoader(validdata, batch_size=BATCH_SIZE, shuffle=True)\n",
        "    multi_model = RobotNet(IN_DIM1, IN_DIM2,n_inputs=3)\n",
        "\n",
        "\n",
        "    # Initialize\n",
        "    multi_model.to(device)\n",
        "    criterion = nn.MSELoss()\n",
        "    optimizer = optim.Adam(multi_model.parameters(), lr=LEARNING_RATE)\n",
        "\n",
        "    for epoch in range(1,EPOCH):\n",
        "\n",
        "        tr_loss = train_one_epoch(trainloader, multi_model, criterion, optimizer, device)\n",
        "        val_loss = validate_one_epoch(validloader, multi_model, criterion, optimizer, device)\n",
        "        wandb.log(\n",
        "            {\n",
        "                \"epoch\": epoch,\n",
        "                \"train_loss\": tr_loss,\n",
        "                \"val_loss\": val_loss,\n",
        "            }\n",
        "        )\n",
        "    run.finish()\n",
        "\n"
      ],
      "metadata": {
        "id": "7bcCLJ-zaKgx"
      },
      "execution_count": null,
      "outputs": []
    }
  ]
}