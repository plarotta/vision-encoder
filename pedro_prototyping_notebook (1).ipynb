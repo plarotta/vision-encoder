{
  "cells": [
    {
      "cell_type": "code",
      "execution_count": null,
      "metadata": {
        "id": "iefbI3c9YWRf"
      },
      "outputs": [],
      "source": [
        "%%capture\n",
        "%%shell\n",
        "git clone https://github.com/plarotta/vision-encoder.git\n",
        "mv /content/vision-encoder/transfer_learner/ /content/\n",
        "rm -rf /content/vision-encoder/\n",
        "# wget --load-cookies /tmp/cookies.txt \"https://docs.google.com/uc?export=download&confirm=$(wget --quiet --save-cookies /tmp/cookies.txt --keep-session-cookies --no-check-certificate 'https://docs.google.com/uc?export=download&id=1zxFDf6wqacM4EfMzLp2YD7kI9g-3KtJk' -O- | sed -rn 's/.*confirm=([0-9A-Za-z_]+).*/\\1\\n/p')&id=1zxFDf6wqacM4EfMzLp2YD7kI9g-3KtJk\" -O UR5_images_2.zip && rm -rf /tmp/cookies.txt\n",
        "# wget --load-cookies /tmp/cookies.txt \"https://docs.google.com/uc?export=download&confirm=$(wget --quiet --save-cookies /tmp/cookies.txt --keep-session-cookies --no-check-certificate 'https://docs.google.com/uc?export=download&id=1TAMiAfoJIyFmvGo5gLzxftRHprF60PzG' -O- | sed -rn 's/.*confirm=([0-9A-Za-z_]+).*/\\1\\n/p')&id=1TAMiAfoJIyFmvGo5gLzxftRHprF60PzG\" -O UR5_positions_2.csv && rm -rf /tmp/cookies.txt\n",
        "wget --load-cookies /tmp/cookies.txt \"https://docs.google.com/uc?export=download&confirm=$(wget --quiet --save-cookies /tmp/cookies.txt --keep-session-cookies --no-check-certificate 'https://docs.google.com/uc?export=download&id=1M16MVlj7pFdaw_JB0iwEe2xFlmeBhgkY' -O- | sed -rn 's/.*confirm=([0-9A-Za-z_]+).*/\\1\\n/p')&id=1M16MVlj7pFdaw_JB0iwEe2xFlmeBhgkY\" -O UR5_images_3.zip && rm -rf /tmp/cookies.txt\n",
        "wget --load-cookies /tmp/cookies.txt \"https://docs.google.com/uc?export=download&confirm=$(wget --quiet --save-cookies /tmp/cookies.txt --keep-session-cookies --no-check-certificate 'https://docs.google.com/uc?export=download&id=1CDgE1eaYw0R-PdWPWFRXKWpowmSN7pMh' -O- | sed -rn 's/.*confirm=([0-9A-Za-z_]+).*/\\1\\n/p')&id=1CDgE1eaYw0R-PdWPWFRXKWpowmSN7pMh\" -O UR5_positions_3.csv && rm -rf /tmp/cookies.txt\n",
        "# wget --load-cookies /tmp/cookies.txt \"https://docs.google.com/uc?export=download&confirm=$(wget --quiet --save-cookies /tmp/cookies.txt --keep-session-cookies --no-check-certificate 'https://docs.google.com/uc?export=download&id=1USfNBIeiLhawk7zrxEyCs-UwftRv2m_z' -O- | sed -rn 's/.*confirm=([0-9A-Za-z_]+).*/\\1\\n/p')&id=1USfNBIeiLhawk7zrxEyCs-UwftRv2m_z\" -O UR5_images_GodMode.zip && rm -rf /tmp/cookies.txt\n",
        "# wget --load-cookies /tmp/cookies.txt \"https://docs.google.com/uc?export=download&confirm=$(wget --quiet --save-cookies /tmp/cookies.txt --keep-session-cookies --no-check-certificate 'https://docs.google.com/uc?export=download&id=1R2qb1b1RnDw8qqCJmGmXYAig18gSGBeb' -O- | sed -rn 's/.*confirm=([0-9A-Za-z_]+).*/\\1\\n/p')&id=1R2qb1b1RnDw8qqCJmGmXYAig18gSGBeb\" -O UR5_positions_GodMode.csv && rm -rf /tmp/cookies.txt\n",
        "unzip UR5_images_3.zip\n",
        "mv UR5_images_3/ images/\n",
        "rm UR5_images_3.zip\n",
        "pip install wandb -qq"
      ]
    },
    {
      "cell_type": "code",
      "execution_count": null,
      "metadata": {
        "id": "XP2-2yGSZHV0"
      },
      "outputs": [],
      "source": [
        "import numpy as np\n",
        "import pandas as pd\n",
        "from torch.utils.data import Dataset, DataLoader, random_split\n",
        "import torch\n",
        "import os\n",
        "from tqdm import tqdm\n",
        "from skimage import io\n",
        "from torchvision.transforms import v2\n",
        "from matplotlib import pyplot as plt\n",
        "from torchvision.models.resnet import ResNet18_Weights\n",
        "from torchvision.models import resnet18\n",
        "import torch.nn as nn\n",
        "import torch.nn.functional as F\n",
        "import torch.optim as optim\n",
        "from transfer_learner.source.model import RobotNet\n",
        "from transfer_learner.source.robot_dataset import RobotImageDataset\n",
        "from transfer_learner.utils.trainers import train_one_epoch, validate_one_epoch\n",
        "import wandb\n",
        "import matplotlib"
      ]
    },
    {
      "cell_type": "markdown",
      "source": [
        "##Data class"
      ],
      "metadata": {
        "id": "DM_R__7Cdm9M"
      }
    },
    {
      "cell_type": "code",
      "source": [
        "class RobotImageDataset(Dataset):\n",
        "    def __init__(self, csv_file: str, root_dir: str, file_names=None):\n",
        "        \"\"\"\n",
        "        Args:\n",
        "            csv_file (string): Path to the csv file with annotations.\n",
        "            root_dir (string): Directory with all the images.\n",
        "        \"\"\"\n",
        "        self.annotations = pd.read_csv(csv_file)\n",
        "        self.annotations = self.annotations[['ImageID','Joint3','Joint4','Joint5', 'Joint6']]\n",
        "        self.root_dir = root_dir\n",
        "        if not file_names:\n",
        "            self.file_names = [\n",
        "                              \"side_view_\",\n",
        "                              \"front_view_\",\n",
        "                              \"top_view_\",\n",
        "                              \"corner1_view_\",\n",
        "                              \"corner2_view_\",\n",
        "                              \"side_depth_view_\",\n",
        "                              \"front_depth_view_\",\n",
        "                              \"top_depth_view_\",\n",
        "                              \"corner1_depth_view_\",\n",
        "                              \"corner2_depth_view_\"\n",
        "                              ]\n",
        "        else:\n",
        "            self.file_names = file_names\n",
        "\n",
        "        #TODO: improve transform so that the final image view is more zoomed in\n",
        "        self.transform = v2.Compose(\n",
        "            [\n",
        "                v2.ToDtype(torch.float32),\n",
        "                v2.ToTensor(),\n",
        "                v2.Resize(size=(224, 224), antialias=True),\n",
        "                v2.Grayscale(),\n",
        "                v2.ToTensor()\n",
        "            ])\n",
        "\n",
        "    def process_images(self, images):\n",
        "        for im_idx in range(len(images)):\n",
        "            if len(images[im_idx].shape) > 2:\n",
        "                images[im_idx] = images[im_idx][:,:,:3]\n",
        "            images[im_idx] = self.transform(images[im_idx])\n",
        "        out = torch.cat([im for im in images],dim = 0)\n",
        "        return(out)\n",
        "\n",
        "    def __len__(self):\n",
        "        return(len(self.annotations))\n",
        "\n",
        "    def __getitem__(self, idx):\n",
        "        if torch.is_tensor(idx):\n",
        "            idx = idx.tolist()\n",
        "        images = [io.imread(os.path.join(self.root_dir, f + str(idx) + '.png')) for f in self.file_names]\n",
        "        im_data = self.process_images(images)\n",
        "        joint_values = self.annotations.iloc[idx, 1:].to_numpy(dtype=float)\n",
        "        sample = {'images': im_data, 'joint_values': joint_values}\n",
        "        return sample"
      ],
      "metadata": {
        "id": "thNo89o1djPV"
      },
      "execution_count": null,
      "outputs": []
    },
    {
      "cell_type": "code",
      "source": [
        "plt.imshow(io.imread(os.path.join('images', \"side_view_\" + str(0) + '.png')))"
      ],
      "metadata": {
        "colab": {
          "base_uri": "https://localhost:8080/",
          "height": 452
        },
        "id": "6KQg4ZPWEs_M",
        "outputId": "48ca2b8e-5778-4458-acf1-14b7dda8f2e6"
      },
      "execution_count": null,
      "outputs": [
        {
          "output_type": "execute_result",
          "data": {
            "text/plain": [
              "<matplotlib.image.AxesImage at 0x7fcef437f5b0>"
            ]
          },
          "metadata": {},
          "execution_count": 8
        },
        {
          "output_type": "display_data",
          "data": {
            "text/plain": [
              "<Figure size 640x480 with 1 Axes>"
            ],
            "image/png": "[encoded data removed]"
          },
          "metadata": {}
        }
      ]
    },
    {
      "cell_type": "markdown",
      "source": [
        "##Model definition"
      ],
      "metadata": {
        "id": "cA7llEBudrH3"
      }
    },
    {
      "cell_type": "code",
      "source": [
        "class RobotNet(nn.Module):\n",
        "    def __init__(self, n_hidden_units1, n_hidden_units2, n_input_channels, num_inputs=1, multi_input=False, freeze_resnet=False):\n",
        "        super().__init__()\n",
        "        self.multi_input = multi_input\n",
        "        self.in_dim1 = n_hidden_units1\n",
        "        self.in_dim2 = n_hidden_units2\n",
        "        self.weights = ResNet18_Weights.DEFAULT\n",
        "\n",
        "        self.base_model = resnet18(weights=self.weights)\n",
        "        self.base_layers = list(self.base_model.children())\n",
        "        self.flatten = nn.Flatten()\n",
        "        self.num_inputs = num_inputs\n",
        "\n",
        "        # freeze resnet layers\n",
        "        if freeze_resnet:\n",
        "            for idx,child in enumerate(self.base_layers):\n",
        "              for param in child.parameters():\n",
        "                param.requires_grad = False\n",
        "\n",
        "\n",
        "        self.resnet_layers = nn.Sequential(\n",
        "            nn.Conv2d(n_input_channels, 64, kernel_size=(7, 7), stride=(2, 2), padding=(3, 3), bias=False),\n",
        "            *self.base_layers[1:-1])\n",
        "\n",
        "        self.linear_output = nn.Sequential(\n",
        "            nn.Linear(in_features=512*self.num_inputs, out_features=self.in_dim1),\n",
        "            nn.ReLU(),\n",
        "            nn.Linear(in_features=self.in_dim1, out_features=self.in_dim2),\n",
        "            nn.ReLU(),\n",
        "            nn.Linear(in_features=self.in_dim2, out_features=4)\n",
        "        )\n",
        "\n",
        "    def forward(self, inputs):\n",
        "\n",
        "        if self.multi_input:\n",
        "            inputs = inputs.transpose(0,1)\n",
        "            temp = [0 for _ in range(inputs.shape[0])]\n",
        "            for idx in range(len(inputs)):\n",
        "                temp[idx] = inputs[idx].unsqueeze(1)\n",
        "                temp[idx] = self.resnet_layers(temp[idx])\n",
        "            out = self.linear_output(torch.cat(temp,dim=1).view(-1,512*len(inputs)))\n",
        "            del temp\n",
        "        else:\n",
        "            out = self.resnet_layers(inputs)\n",
        "            out = self.linear_output(self.flatten(out))\n",
        "\n",
        "        return out"
      ],
      "metadata": {
        "id": "h4xCIPredtrU"
      },
      "execution_count": null,
      "outputs": []
    },
    {
      "cell_type": "markdown",
      "source": [
        "##Data snooping"
      ],
      "metadata": {
        "id": "Q2oTmX7eetaY"
      }
    },
    {
      "cell_type": "code",
      "source": [
        "robotdata = RobotImageDataset('/content/UR5_positions_3.csv', '/content/images', multi_input=False)"
      ],
      "metadata": {
        "colab": {
          "base_uri": "https://localhost:8080/",
          "height": 175
        },
        "id": "86kvEnxsfHmP",
        "outputId": "72e88695-e3dc-4125-eb37-6373f83a022a"
      },
      "execution_count": null,
      "outputs": [
        {
          "output_type": "error",
          "ename": "TypeError",
          "evalue": "ignored",
          "traceback": [
            "\u001b[0;31m---------------------------------------------------------------------------\u001b[0m",
            "\u001b[0;31mTypeError\u001b[0m                                 Traceback (most recent call last)",
            "\u001b[0;32m<ipython-input-4-6842ffdc25fb>\u001b[0m in \u001b[0;36m<cell line: 1>\u001b[0;34m()\u001b[0m\n\u001b[0;32m----> 1\u001b[0;31m \u001b[0mrobotdata\u001b[0m \u001b[0;34m=\u001b[0m \u001b[0mRobotImageDataset\u001b[0m\u001b[0;34m(\u001b[0m\u001b[0;34m'/content/UR5_positions_3.csv'\u001b[0m\u001b[0;34m,\u001b[0m \u001b[0;34m'/content/images'\u001b[0m\u001b[0;34m,\u001b[0m \u001b[0mmulti_input\u001b[0m\u001b[0;34m=\u001b[0m\u001b[0;32mFalse\u001b[0m\u001b[0;34m)\u001b[0m\u001b[0;34m\u001b[0m\u001b[0;34m\u001b[0m\u001b[0m\n\u001b[0m",
            "\u001b[0;31mTypeError\u001b[0m: RobotImageDataset.__init__() got an unexpected keyword argument 'multi_input'"
          ]
        }
      ]
    },
    {
      "cell_type": "code",
      "source": [
        "print(robotdata[0]['images'].shape)\n",
        "plt.imshow(robotdata[0]['images'][0],cmap='gray')"
      ],
      "metadata": {
        "colab": {
          "base_uri": "https://localhost:8080/",
          "height": 469
        },
        "id": "3DZ0ptxefKoc",
        "outputId": "59623227-77a7-4106-a1f9-75075b3b874e"
      },
      "execution_count": null,
      "outputs": [
        {
          "output_type": "stream",
          "name": "stdout",
          "text": [
            "torch.Size([10, 224, 224])\n"
          ]
        },
        {
          "output_type": "execute_result",
          "data": {
            "text/plain": [
              "<matplotlib.image.AxesImage at 0x7cc1ce64ed10>"
            ]
          },
          "metadata": {},
          "execution_count": 94
        },
        {
          "output_type": "display_data",
          "data": {
            "text/plain": [
              "<Figure size 640x480 with 1 Axes>"
            ],
            "image/png": "[encoded data removed]"
          },
          "metadata": {}
        }
      ]
    },
    {
      "cell_type": "markdown",
      "source": [
        "##Define training and validation loops"
      ],
      "metadata": {
        "id": "monpBtYIeBdb"
      }
    },
    {
      "cell_type": "code",
      "execution_count": null,
      "metadata": {
        "id": "7bcCLJ-zaKgx"
      },
      "outputs": [],
      "source": [
        "\n",
        "def train_one_epoch(tr_loader, model, loss_func, optimizer, device,feedback=None):\n",
        "    running_loss = 0.0\n",
        "    fback = 0.0\n",
        "\n",
        "    for i, data in enumerate(tr_loader):\n",
        "        im1 = data['images']\n",
        "        y = data['joint_values'].float()\n",
        "        im1,y = im1.to(device), y.to(device)\n",
        "        optimizer.zero_grad()\n",
        "        # print('model in',im1.shape)\n",
        "        preds = model(im1).float()\n",
        "        preds_hat = torch.cat([torch.sin(preds),torch.cos(preds)],dim=1)\n",
        "        y_hat = torch.cat([torch.sin(y),torch.cos(y)],dim=1)\n",
        "        loss = loss_func(preds_hat, y_hat)\n",
        "\n",
        "        running_loss +=loss.item()\n",
        "        loss.backward()\n",
        "        optimizer.step()\n",
        "        if feedback:\n",
        "            fback += feedback(preds,y).item()\n",
        "\n",
        "\n",
        "    train_loss = running_loss/(i+1)\n",
        "    if feedback:\n",
        "        return(train_loss,fback/(i+1))\n",
        "    else:\n",
        "      return(train_loss)\n",
        "\n",
        "def validate_one_epoch(val_loader, model, loss_func, optimizer, device,feedback=None):\n",
        "    running_loss = 0.0\n",
        "    fback = 0.0\n",
        "\n",
        "    with torch.no_grad():\n",
        "        for i, data in enumerate(val_loader):\n",
        "            im1 = data['images']\n",
        "            y = data['joint_values'].float()\n",
        "            im1, y = im1.to(device), y.to(device)\n",
        "            optimizer.zero_grad()\n",
        "            preds = model(im1).float()\n",
        "            preds_hat = torch.cat([torch.sin(preds),torch.cos(preds)],dim=1)\n",
        "            y_hat = torch.cat([torch.sin(y),torch.cos(y)],dim=1)\n",
        "            loss = loss_func(preds_hat, y_hat)\n",
        "            running_loss +=loss.item()\n",
        "            if feedback:\n",
        "                fback += feedback(preds,y)\n",
        "    val_loss = running_loss/(i+1)\n",
        "\n",
        "    if feedback:\n",
        "        return(val_loss,fback/(i+1))\n",
        "    else:\n",
        "      return(val_loss)\n",
        "\n",
        "def main(model_to_optimize, dataset_to_train_on, experiment_title):\n",
        "    run = wandb.init(project='vision-encoder', name=experiment_title)\n",
        "    LEARNING_RATE = 2e-4\n",
        "    BATCH_SIZE = 32\n",
        "    EPOCH = 15\n",
        "\n",
        "    # Check if GPU is available\n",
        "    device = torch.device(\"cuda:0\" if torch.cuda.is_available() else \"cpu\")\n",
        "    print(device)\n",
        "    traindata, validdata = random_split(dataset_to_train_on, [0.8,0.2])\n",
        "    trainloader = DataLoader(traindata, batch_size=BATCH_SIZE, shuffle=True, pin_memory=True)\n",
        "    validloader = DataLoader(validdata, batch_size=BATCH_SIZE, shuffle=True, pin_memory=True)\n",
        "\n",
        "    # Initialize\n",
        "    model_to_optimize.to(device)\n",
        "    criterion = nn.MSELoss()\n",
        "    feedback = nn.MSELoss()\n",
        "    optimizer = optim.AdamW(model_to_optimize.parameters(), lr=LEARNING_RATE, weight_decay=0.0001)\n",
        "    scheduler = torch.optim.lr_scheduler.CosineAnnealingLR(optimizer, T_max= 1000)\n",
        "\n",
        "    for epoch in range(1,EPOCH):\n",
        "\n",
        "        tr_loss,t_fback = train_one_epoch(trainloader, model_to_optimize, criterion, optimizer, device, feedback)\n",
        "        val_loss,v_fback = validate_one_epoch(validloader, model_to_optimize, criterion, optimizer, device, feedback)\n",
        "        wandb.log(\n",
        "            {\n",
        "                \"epoch\": epoch,\n",
        "                \"train_loss\": tr_loss,\n",
        "                \"val_loss\": val_loss,\n",
        "                \"train_feedback\": t_fback,\n",
        "                \"val_feedback\": v_fback\n",
        "            }\n",
        "        )\n",
        "        print(f'epoch: {epoch} | train loss: {tr_loss} | val loss: {val_loss} | \"train_feedback\": {t_fback} | \"val_feedback\": {v_fback}')\n",
        "        scheduler.step()\n",
        "        # saving to the wandb dir ensures that the model files are accessible on the portal once the run finishes\n",
        "        torch.save(model_to_optimize.state_dict(),os.path.join(wandb.run.dir, f\"model_state_dict_epoch{epoch}.pth\"))\n",
        "    run.finish()\n",
        "    return(model_to_optimize)\n",
        "\n"
      ]
    },
    {
      "cell_type": "markdown",
      "source": [
        "##RUN EXPERIMENT"
      ],
      "metadata": {
        "id": "j-Of1L4M2mZR"
      }
    },
    {
      "cell_type": "code",
      "source": [
        "# IMAGES_3 DATASET: 5-views + depth\n",
        "N_DIM1 = 128\n",
        "N_DIM2 = 32\n",
        "\n",
        "# MODEL LIST\n",
        "models = []"
      ],
      "metadata": {
        "id": "xrmBsNYO2GPn"
      },
      "execution_count": null,
      "outputs": []
    },
    {
      "cell_type": "code",
      "source": [
        "# 5-view + depth, unfrozen resnet, single input\n",
        "models.append(\n",
        "    main(RobotNet(N_DIM1, N_DIM2, n_input_channels=10, num_inputs=1, multi_input=False, freeze_resnet=False),\n",
        "         RobotImageDataset('/content/UR5_positions_3.csv', '/content/images', file_names = [\"side_view_\",\"front_view_\",\"top_view_\",\"corner1_view_\",\"corner2_view_\",\"side_depth_view_\",\"front_depth_view_\",\"top_depth_view_\",\"corner1_depth_view_\",\"corner2_depth_view_\"]),\n",
        "         experiment_title=\"5-view + depth, unfrozen resnet, single input\")\n",
        "    )\n"
      ],
      "metadata": {
        "colab": {
          "base_uri": "https://localhost:8080/",
          "height": 691,
          "referenced_widgets": [
            "1438a6ad868a482889fabd505b57a5f3",
            "4f23ddb49e1c4efaac71faead6191f8c",
            "ae9757e5c97a4e7eab00cd71fc0ea341",
            "3ef417fe30e5423f95858290946000af",
            "f55b6a071ee64e088811bdddf2e0519c",
            "37dd6e9d41574bb8b70e118538172784",
            "857489e5d1874e47b4a9360d1eb6e3dd",
            "8b523e65b3924b62b52018146bf9eb1d"
          ]
        },
        "id": "twKmBHjt2pdk",
        "outputId": "c180bcb2-a4d9-4b72-abe5-2089997d879f"
      },
      "execution_count": null,
      "outputs": [
        {
          "output_type": "stream",
          "name": "stderr",
          "text": [
            "/usr/local/lib/python3.10/dist-packages/torchvision/transforms/v2/_deprecated.py:41: UserWarning: The transform `ToTensor()` is deprecated and will be removed in a future release. Instead, please use `transforms.Compose([transforms.ToImageTensor(), transforms.ConvertImageDtype()])`.\n",
            "  warnings.warn(\n"
          ]
        },
        {
          "output_type": "display_data",
          "data": {
            "text/plain": [
              "<IPython.core.display.HTML object>"
            ],
            "text/html": [
              "wandb version 0.16.1 is available!  To upgrade, please run:\n",
              " $ pip install wandb --upgrade"
            ]
          },
          "metadata": {}
        },
        {
          "output_type": "display_data",
          "data": {
            "text/plain": [
              "<IPython.core.display.HTML object>"
            ],
            "text/html": [
              "Tracking run with wandb version 0.16.0"
            ]
          },
          "metadata": {}
        },
        {
          "output_type": "display_data",
          "data": {
            "text/plain": [
              "<IPython.core.display.HTML object>"
            ],
            "text/html": [
              "Run data is saved locally in <code>/content/wandb/run-20231206_030438-1j8tdsds</code>"
            ]
          },
          "metadata": {}
        },
        {
          "output_type": "display_data",
          "data": {
            "text/plain": [
              "<IPython.core.display.HTML object>"
            ],
            "text/html": [
              "Syncing run <strong><a href='https://wandb.ai/personal646/vision-encoder/runs/1j8tdsds' target=\"_blank\">5-view + depth, unfrozen resnet, single input</a></strong> to <a href='https://wandb.ai/personal646/vision-encoder' target=\"_blank\">Weights & Biases</a> (<a href='https://wandb.me/run' target=\"_blank\">docs</a>)<br/>"
            ]
          },
          "metadata": {}
        },
        {
          "output_type": "display_data",
          "data": {
            "text/plain": [
              "<IPython.core.display.HTML object>"
            ],
            "text/html": [
              " View project at <a href='https://wandb.ai/personal646/vision-encoder' target=\"_blank\">https://wandb.ai/personal646/vision-encoder</a>"
            ]
          },
          "metadata": {}
        },
        {
          "output_type": "display_data",
          "data": {
            "text/plain": [
              "<IPython.core.display.HTML object>"
            ],
            "text/html": [
              " View run at <a href='https://wandb.ai/personal646/vision-encoder/runs/1j8tdsds' target=\"_blank\">https://wandb.ai/personal646/vision-encoder/runs/1j8tdsds</a>"
            ]
          },
          "metadata": {}
        },
        {
          "output_type": "stream",
          "name": "stdout",
          "text": [
            "cuda:0\n",
            "epoch: 1 | train loss: 0.08266630115360021 | val loss: 0.034328977089552654 | \"train_feedback\": 0.18121327371895313 | \"val_feedback\": 0.07080022245645523\n",
            "epoch: 2 | train loss: 0.025173108864575626 | val loss: 0.019715150359958883 | \"train_feedback\": 0.05164522509276867 | \"val_feedback\": 0.04015512391924858\n",
            "epoch: 3 | train loss: 0.01572101266309619 | val loss: 0.017721303398647005 | \"train_feedback\": 0.03185585130006075 | \"val_feedback\": 0.036170441657304764\n",
            "epoch: 4 | train loss: 0.0117872403152287 | val loss: 0.013924810414512953 | \"train_feedback\": 0.02379277052730322 | \"val_feedback\": 0.028392786160111427\n",
            "epoch: 5 | train loss: 0.009991247730329634 | val loss: 0.010972907434084586 | \"train_feedback\": 0.020140973299741745 | \"val_feedback\": 0.022249652072787285\n",
            "epoch: 6 | train loss: 0.008459270399063825 | val loss: 0.008710188473323508 | \"train_feedback\": 0.017037829468026757 | \"val_feedback\": 0.01756165362894535\n",
            "epoch: 7 | train loss: 0.007463180281221867 | val loss: 0.008419806159855355 | \"train_feedback\": 0.015016628107056021 | \"val_feedback\": 0.017075585201382637\n",
            "epoch: 8 | train loss: 0.007590823370032013 | val loss: 0.009528110964253309 | \"train_feedback\": 0.01532180386595428 | \"val_feedback\": 0.019283289089798927\n",
            "epoch: 9 | train loss: 0.006728966535069048 | val loss: 0.006871216061953751 | \"train_feedback\": 0.01354926548153162 | \"val_feedback\": 0.013832157477736473\n",
            "epoch: 10 | train loss: 0.005566253665834665 | val loss: 0.00773254960095362 | \"train_feedback\": 0.011185933366417884 | \"val_feedback\": 0.01561108697205782\n",
            "epoch: 11 | train loss: 0.004879454688169062 | val loss: 0.006687094620059407 | \"train_feedback\": 0.009797727066092193 | \"val_feedback\": 0.013478893786668777\n",
            "epoch: 12 | train loss: 0.005948976059444249 | val loss: 0.005724080361514574 | \"train_feedback\": 0.012025810411199928 | \"val_feedback\": 0.011523962020874023\n",
            "epoch: 13 | train loss: 0.00425533453701064 | val loss: 0.00579462530800984 | \"train_feedback\": 0.008550338177941739 | \"val_feedback\": 0.012017530389130116\n",
            "epoch: 14 | train loss: 0.0040927611785009504 | val loss: 0.004545470947281472 | \"train_feedback\": 0.008210282674059271 | \"val_feedback\": 0.009133595041930676\n"
          ]
        },
        {
          "output_type": "display_data",
          "data": {
            "text/plain": [
              "VBox(children=(Label(value='0.003 MB of 0.003 MB uploaded\\r'), FloatProgress(value=1.0, max=1.0)))"
            ],
            "application/vnd.jupyter.widget-view+json": {
              "version_major": 2,
              "version_minor": 0,
              "model_id": "1438a6ad868a482889fabd505b57a5f3"
            }
          },
          "metadata": {}
        },
        {
          "output_type": "display_data",
          "data": {
            "text/plain": [
              "<IPython.core.display.HTML object>"
            ],
            "text/html": [
              "<style>\n",
              "    table.wandb td:nth-child(1) { padding: 0 10px; text-align: left ; width: auto;} td:nth-child(2) {text-align: left ; width: 100%}\n",
              "    .wandb-row { display: flex; flex-direction: row; flex-wrap: wrap; justify-content: flex-start; width: 100% }\n",
              "    .wandb-col { display: flex; flex-direction: column; flex-basis: 100%; flex: 1; padding: 10px; }\n",
              "    </style>\n",
              "<div class=\"wandb-row\"><div class=\"wandb-col\"><h3>Run history:</h3><br/><table class=\"wandb\"><tr><td>epoch</td><td>▁▂▂▃▃▄▄▅▅▆▆▇▇█</td></tr><tr><td>train_feedback</td><td>█▃▂▂▁▁▁▁▁▁▁▁▁▁</td></tr><tr><td>train_loss</td><td>█▃▂▂▂▁▁▁▁▁▁▁▁▁</td></tr><tr><td>val_feedback</td><td>█▅▄▃▂▂▂▂▂▂▁▁▁▁</td></tr><tr><td>val_loss</td><td>█▅▄▃▃▂▂▂▂▂▂▁▁▁</td></tr></table><br/></div><div class=\"wandb-col\"><h3>Run summary:</h3><br/><table class=\"wandb\"><tr><td>epoch</td><td>14</td></tr><tr><td>train_feedback</td><td>0.00821</td></tr><tr><td>train_loss</td><td>0.00409</td></tr><tr><td>val_feedback</td><td>0.00913</td></tr><tr><td>val_loss</td><td>0.00455</td></tr></table><br/></div></div>"
            ]
          },
          "metadata": {}
        },
        {
          "output_type": "display_data",
          "data": {
            "text/plain": [
              "<IPython.core.display.HTML object>"
            ],
            "text/html": [
              " View run <strong style=\"color:#cdcd00\">5-view + depth, unfrozen resnet, single input</strong> at: <a href='https://wandb.ai/personal646/vision-encoder/runs/1j8tdsds' target=\"_blank\">https://wandb.ai/personal646/vision-encoder/runs/1j8tdsds</a><br/>Synced 5 W&B file(s), 0 media file(s), 0 artifact file(s) and 14 other file(s)"
            ]
          },
          "metadata": {}
        },
        {
          "output_type": "display_data",
          "data": {
            "text/plain": [
              "<IPython.core.display.HTML object>"
            ],
            "text/html": [
              "Find logs at: <code>./wandb/run-20231206_030438-1j8tdsds/logs</code>"
            ]
          },
          "metadata": {}
        }
      ]
    },
    {
      "cell_type": "code",
      "source": [
        "# 5-view + depth, frozen resnet, single input\n",
        "models.append(\n",
        "    main(RobotNet(N_DIM1, N_DIM2, n_input_channels=10, num_inputs=1, multi_input=False, freeze_resnet=True),\n",
        "         RobotImageDataset('/content/UR5_positions_3.csv', '/content/images', file_names = [\"side_view_\",\"front_view_\",\"top_view_\",\"corner1_view_\",\"corner2_view_\",\"side_depth_view_\",\"front_depth_view_\",\"top_depth_view_\",\"corner1_depth_view_\",\"corner2_depth_view_\"]),\n",
        "         experiment_title=\"5-view + depth, frozen resnet, single input\")\n",
        "    )\n"
      ],
      "metadata": {
        "id": "dk-YWwku2rdb",
        "colab": {
          "base_uri": "https://localhost:8080/",
          "height": 691,
          "referenced_widgets": [
            "16a823a533074005be7292fff0a5a810",
            "8c4bdbc3367943299d0c1af938f20192",
            "f46262f43cfb4b069b97a4f9e16fe489",
            "0a62617313124f22b3209531fd94932a",
            "242d071da1104ddeb2dbf16fb07c2cfd",
            "703183f9406049149eb0e95909a2b1fd",
            "fdfb40c6f3b6423a9abd4c80701bc1a1",
            "978e2ef2c1cf43d6ae8afbcc4a9784bd"
          ]
        },
        "outputId": "9dc10f91-7011-4eee-f3bb-86edcaf3c971"
      },
      "execution_count": null,
      "outputs": [
        {
          "output_type": "stream",
          "name": "stderr",
          "text": [
            "/usr/local/lib/python3.10/dist-packages/torchvision/transforms/v2/_deprecated.py:41: UserWarning: The transform `ToTensor()` is deprecated and will be removed in a future release. Instead, please use `transforms.Compose([transforms.ToImageTensor(), transforms.ConvertImageDtype()])`.\n",
            "  warnings.warn(\n"
          ]
        },
        {
          "output_type": "display_data",
          "data": {
            "text/plain": [
              "<IPython.core.display.HTML object>"
            ],
            "text/html": [
              "wandb version 0.16.1 is available!  To upgrade, please run:\n",
              " $ pip install wandb --upgrade"
            ]
          },
          "metadata": {}
        },
        {
          "output_type": "display_data",
          "data": {
            "text/plain": [
              "<IPython.core.display.HTML object>"
            ],
            "text/html": [
              "Tracking run with wandb version 0.16.0"
            ]
          },
          "metadata": {}
        },
        {
          "output_type": "display_data",
          "data": {
            "text/plain": [
              "<IPython.core.display.HTML object>"
            ],
            "text/html": [
              "Run data is saved locally in <code>/content/wandb/run-20231206_044807-7sbuu37j</code>"
            ]
          },
          "metadata": {}
        },
        {
          "output_type": "display_data",
          "data": {
            "text/plain": [
              "<IPython.core.display.HTML object>"
            ],
            "text/html": [
              "Syncing run <strong><a href='https://wandb.ai/personal646/vision-encoder/runs/7sbuu37j' target=\"_blank\">5-view + depth, frozen resnet, single input</a></strong> to <a href='https://wandb.ai/personal646/vision-encoder' target=\"_blank\">Weights & Biases</a> (<a href='https://wandb.me/run' target=\"_blank\">docs</a>)<br/>"
            ]
          },
          "metadata": {}
        },
        {
          "output_type": "display_data",
          "data": {
            "text/plain": [
              "<IPython.core.display.HTML object>"
            ],
            "text/html": [
              " View project at <a href='https://wandb.ai/personal646/vision-encoder' target=\"_blank\">https://wandb.ai/personal646/vision-encoder</a>"
            ]
          },
          "metadata": {}
        },
        {
          "output_type": "display_data",
          "data": {
            "text/plain": [
              "<IPython.core.display.HTML object>"
            ],
            "text/html": [
              " View run at <a href='https://wandb.ai/personal646/vision-encoder/runs/7sbuu37j' target=\"_blank\">https://wandb.ai/personal646/vision-encoder/runs/7sbuu37j</a>"
            ]
          },
          "metadata": {}
        },
        {
          "output_type": "stream",
          "name": "stdout",
          "text": [
            "cuda:0\n",
            "epoch: 1 | train loss: 0.2104352221786976 | val loss: 0.14596873983031228 | \"train_feedback\": 0.4704367197751999 | \"val_feedback\": 0.3218836486339569\n",
            "epoch: 2 | train loss: 0.13044300800561906 | val loss: 0.12134999367925856 | \"train_feedback\": 0.2878293316960335 | \"val_feedback\": 0.2671877145767212\n",
            "epoch: 3 | train loss: 0.10871923241019249 | val loss: 0.10955069533416203 | \"train_feedback\": 0.23905471485853194 | \"val_feedback\": 0.2404295653104782\n",
            "epoch: 4 | train loss: 0.09608740328252316 | val loss: 0.09802108790193285 | \"train_feedback\": 0.21030745008587837 | \"val_feedback\": 0.2139553427696228\n",
            "epoch: 5 | train loss: 0.08568571011722088 | val loss: 0.0843252016320115 | \"train_feedback\": 0.18686135348677635 | \"val_feedback\": 0.1828717440366745\n",
            "epoch: 6 | train loss: 0.07900956436991692 | val loss: 0.07812630645339451 | \"train_feedback\": 0.17091537433862686 | \"val_feedback\": 0.1694224327802658\n",
            "epoch: 7 | train loss: 0.07070324674248696 | val loss: 0.07988143073660987 | \"train_feedback\": 0.15207634776830672 | \"val_feedback\": 0.17464733123779297\n",
            "epoch: 8 | train loss: 0.06395611880719662 | val loss: 0.0760749475586982 | \"train_feedback\": 0.13680610617995262 | \"val_feedback\": 0.16426397860050201\n",
            "epoch: 9 | train loss: 0.062262392118573186 | val loss: 0.07550632344588401 | \"train_feedback\": 0.13289816056191922 | \"val_feedback\": 0.16486868262290955\n",
            "epoch: 10 | train loss: 0.05852345970273018 | val loss: 0.07418410574632978 | \"train_feedback\": 0.12432822361588478 | \"val_feedback\": 0.1622304916381836\n",
            "epoch: 11 | train loss: 0.055042992234230044 | val loss: 0.06451387283584428 | \"train_feedback\": 0.11682459902763366 | \"val_feedback\": 0.13832710683345795\n",
            "epoch: 12 | train loss: 0.051342275746166705 | val loss: 0.06116350231662629 | \"train_feedback\": 0.10848758706450462 | \"val_feedback\": 0.13080033659934998\n",
            "epoch: 13 | train loss: 0.04933276085555553 | val loss: 0.06539524529897978 | \"train_feedback\": 0.10392227336764336 | \"val_feedback\": 0.14213579893112183\n",
            "epoch: 14 | train loss: 0.04577007059752941 | val loss: 0.07487497313155068 | \"train_feedback\": 0.09615087105333806 | \"val_feedback\": 0.16598296165466309\n"
          ]
        },
        {
          "output_type": "display_data",
          "data": {
            "text/plain": [
              "VBox(children=(Label(value='0.003 MB of 631.080 MB uploaded\\r'), FloatProgress(value=4.096803003031858e-06, ma…"
            ],
            "application/vnd.jupyter.widget-view+json": {
              "version_major": 2,
              "version_minor": 0,
              "model_id": "16a823a533074005be7292fff0a5a810"
            }
          },
          "metadata": {}
        },
        {
          "output_type": "display_data",
          "data": {
            "text/plain": [
              "<IPython.core.display.HTML object>"
            ],
            "text/html": [
              "<style>\n",
              "    table.wandb td:nth-child(1) { padding: 0 10px; text-align: left ; width: auto;} td:nth-child(2) {text-align: left ; width: 100%}\n",
              "    .wandb-row { display: flex; flex-direction: row; flex-wrap: wrap; justify-content: flex-start; width: 100% }\n",
              "    .wandb-col { display: flex; flex-direction: column; flex-basis: 100%; flex: 1; padding: 10px; }\n",
              "    </style>\n",
              "<div class=\"wandb-row\"><div class=\"wandb-col\"><h3>Run history:</h3><br/><table class=\"wandb\"><tr><td>epoch</td><td>▁▂▂▃▃▄▄▅▅▆▆▇▇█</td></tr><tr><td>train_feedback</td><td>█▅▄▃▃▂▂▂▂▂▁▁▁▁</td></tr><tr><td>train_loss</td><td>█▅▄▃▃▂▂▂▂▂▁▁▁▁</td></tr><tr><td>val_feedback</td><td>█▆▅▄▃▂▃▂▂▂▁▁▁▂</td></tr><tr><td>val_loss</td><td>█▆▅▄▃▂▃▂▂▂▁▁▁▂</td></tr></table><br/></div><div class=\"wandb-col\"><h3>Run summary:</h3><br/><table class=\"wandb\"><tr><td>epoch</td><td>14</td></tr><tr><td>train_feedback</td><td>0.09615</td></tr><tr><td>train_loss</td><td>0.04577</td></tr><tr><td>val_feedback</td><td>0.16598</td></tr><tr><td>val_loss</td><td>0.07487</td></tr></table><br/></div></div>"
            ]
          },
          "metadata": {}
        },
        {
          "output_type": "display_data",
          "data": {
            "text/plain": [
              "<IPython.core.display.HTML object>"
            ],
            "text/html": [
              " View run <strong style=\"color:#cdcd00\">5-view + depth, frozen resnet, single input</strong> at: <a href='https://wandb.ai/personal646/vision-encoder/runs/7sbuu37j' target=\"_blank\">https://wandb.ai/personal646/vision-encoder/runs/7sbuu37j</a><br/>Synced 5 W&B file(s), 0 media file(s), 0 artifact file(s) and 14 other file(s)"
            ]
          },
          "metadata": {}
        },
        {
          "output_type": "display_data",
          "data": {
            "text/plain": [
              "<IPython.core.display.HTML object>"
            ],
            "text/html": [
              "Find logs at: <code>./wandb/run-20231206_044807-7sbuu37j/logs</code>"
            ]
          },
          "metadata": {}
        }
      ]
    },
    {
      "cell_type": "code",
      "source": [
        "# 5-view + depth, frozen resnet, multi input\n",
        "models.append(\n",
        "    main(RobotNet(N_DIM1, N_DIM2, n_input_channels=1, num_inputs=10, multi_input=True, freeze_resnet=True),\n",
        "         RobotImageDataset('/content/UR5_positions_3.csv', '/content/images', file_names = [\"side_view_\",\"front_view_\",\"top_view_\",\"corner1_view_\",\"corner2_view_\",\"side_depth_view_\",\"front_depth_view_\",\"top_depth_view_\",\"corner1_depth_view_\",\"corner2_depth_view_\"]),\n",
        "         experiment_title=\"5-view + depth, frozen resnet, multi input\")\n",
        "    )\n"
      ],
      "metadata": {
        "id": "wix0JT5a2tll",
        "colab": {
          "base_uri": "https://localhost:8080/",
          "height": 691,
          "referenced_widgets": [
            "f88d3855daf14a68a7e403ccab87fefb",
            "7382bb6030734a59aed7570e4a7bdf84",
            "f2f64285ac9d443c93600919369fffe3",
            "ef3bcde21eb54bc1a7a8b6e17ba7adb3",
            "a3fb3142d26141589f737030d69dd566",
            "35a42540b62f4d448e78aabbccbdd3ce",
            "eaf89a64f752453da4a16288736061c6",
            "9427862ac6ef4437b8bc178da480779a"
          ]
        },
        "outputId": "398e3b2d-1acb-462f-a77f-e8fd97f2ae19"
      },
      "execution_count": null,
      "outputs": [
        {
          "output_type": "stream",
          "name": "stderr",
          "text": [
            "/usr/local/lib/python3.10/dist-packages/torchvision/transforms/v2/_deprecated.py:41: UserWarning: The transform `ToTensor()` is deprecated and will be removed in a future release. Instead, please use `transforms.Compose([transforms.ToImageTensor(), transforms.ConvertImageDtype()])`.\n",
            "  warnings.warn(\n"
          ]
        },
        {
          "output_type": "display_data",
          "data": {
            "text/plain": [
              "<IPython.core.display.HTML object>"
            ],
            "text/html": [
              "wandb version 0.16.1 is available!  To upgrade, please run:\n",
              " $ pip install wandb --upgrade"
            ]
          },
          "metadata": {}
        },
        {
          "output_type": "display_data",
          "data": {
            "text/plain": [
              "<IPython.core.display.HTML object>"
            ],
            "text/html": [
              "Tracking run with wandb version 0.16.0"
            ]
          },
          "metadata": {}
        },
        {
          "output_type": "display_data",
          "data": {
            "text/plain": [
              "<IPython.core.display.HTML object>"
            ],
            "text/html": [
              "Run data is saved locally in <code>/content/wandb/run-20231206_063049-89r63874</code>"
            ]
          },
          "metadata": {}
        },
        {
          "output_type": "display_data",
          "data": {
            "text/plain": [
              "<IPython.core.display.HTML object>"
            ],
            "text/html": [
              "Syncing run <strong><a href='https://wandb.ai/personal646/vision-encoder/runs/89r63874' target=\"_blank\">5-view + depth, frozen resnet, multi input</a></strong> to <a href='https://wandb.ai/personal646/vision-encoder' target=\"_blank\">Weights & Biases</a> (<a href='https://wandb.me/run' target=\"_blank\">docs</a>)<br/>"
            ]
          },
          "metadata": {}
        },
        {
          "output_type": "display_data",
          "data": {
            "text/plain": [
              "<IPython.core.display.HTML object>"
            ],
            "text/html": [
              " View project at <a href='https://wandb.ai/personal646/vision-encoder' target=\"_blank\">https://wandb.ai/personal646/vision-encoder</a>"
            ]
          },
          "metadata": {}
        },
        {
          "output_type": "display_data",
          "data": {
            "text/plain": [
              "<IPython.core.display.HTML object>"
            ],
            "text/html": [
              " View run at <a href='https://wandb.ai/personal646/vision-encoder/runs/89r63874' target=\"_blank\">https://wandb.ai/personal646/vision-encoder/runs/89r63874</a>"
            ]
          },
          "metadata": {}
        },
        {
          "output_type": "stream",
          "name": "stdout",
          "text": [
            "cuda:0\n",
            "epoch: 1 | train loss: 0.1661850074827671 | val loss: 0.11298187136177033 | \"train_feedback\": 0.36915935736894606 | \"val_feedback\": 0.24852444231510162\n",
            "epoch: 2 | train loss: 0.10748188772797584 | val loss: 0.0956002472057229 | \"train_feedback\": 0.2347119083404541 | \"val_feedback\": 0.20862321555614471\n",
            "epoch: 3 | train loss: 0.08369513007998466 | val loss: 0.0671756203094172 | \"train_feedback\": 0.18045118060708046 | \"val_feedback\": 0.14353568851947784\n",
            "epoch: 4 | train loss: 0.06763128221035003 | val loss: 0.05565225634546507 | \"train_feedback\": 0.14423644891381263 | \"val_feedback\": 0.1181522011756897\n",
            "epoch: 5 | train loss: 0.0561707762926817 | val loss: 0.05851776241546586 | \"train_feedback\": 0.11902133059501648 | \"val_feedback\": 0.12255017459392548\n",
            "epoch: 6 | train loss: 0.048297909773886205 | val loss: 0.04927649443584775 | \"train_feedback\": 0.10159493857622147 | \"val_feedback\": 0.10294868052005768\n",
            "epoch: 7 | train loss: 0.04452579266577959 | val loss: 0.06045889375465257 | \"train_feedback\": 0.09347479243576527 | \"val_feedback\": 0.129038468003273\n",
            "epoch: 8 | train loss: 0.04190400893986225 | val loss: 0.04253849434474158 | \"train_feedback\": 0.08747160845994949 | \"val_feedback\": 0.08909524232149124\n",
            "epoch: 9 | train loss: 0.039752307042479514 | val loss: 0.03655665548193076 | \"train_feedback\": 0.08282368995249272 | \"val_feedback\": 0.07644164562225342\n",
            "epoch: 10 | train loss: 0.038368679396808145 | val loss: 0.04581863586864774 | \"train_feedback\": 0.08004322408139705 | \"val_feedback\": 0.09672313183546066\n",
            "epoch: 11 | train loss: 0.0329959271736443 | val loss: 0.03619604442446005 | \"train_feedback\": 0.06857572934031486 | \"val_feedback\": 0.07533960044384003\n",
            "epoch: 12 | train loss: 0.029821727745234967 | val loss: 0.031416266831377195 | \"train_feedback\": 0.061585571736097335 | \"val_feedback\": 0.06493629515171051\n",
            "epoch: 13 | train loss: 0.030477127518504857 | val loss: 0.03244692264568238 | \"train_feedback\": 0.06325830373167991 | \"val_feedback\": 0.06751798093318939\n",
            "epoch: 14 | train loss: 0.029342925641685724 | val loss: 0.03305835288668436 | \"train_feedback\": 0.06064785879850387 | \"val_feedback\": 0.06922563910484314\n"
          ]
        },
        {
          "output_type": "display_data",
          "data": {
            "text/plain": [
              "VBox(children=(Label(value='0.003 MB of 661.073 MB uploaded\\r'), FloatProgress(value=3.910932235947964e-06, ma…"
            ],
            "application/vnd.jupyter.widget-view+json": {
              "version_major": 2,
              "version_minor": 0,
              "model_id": "f88d3855daf14a68a7e403ccab87fefb"
            }
          },
          "metadata": {}
        },
        {
          "output_type": "display_data",
          "data": {
            "text/plain": [
              "<IPython.core.display.HTML object>"
            ],
            "text/html": [
              "<style>\n",
              "    table.wandb td:nth-child(1) { padding: 0 10px; text-align: left ; width: auto;} td:nth-child(2) {text-align: left ; width: 100%}\n",
              "    .wandb-row { display: flex; flex-direction: row; flex-wrap: wrap; justify-content: flex-start; width: 100% }\n",
              "    .wandb-col { display: flex; flex-direction: column; flex-basis: 100%; flex: 1; padding: 10px; }\n",
              "    </style>\n",
              "<div class=\"wandb-row\"><div class=\"wandb-col\"><h3>Run history:</h3><br/><table class=\"wandb\"><tr><td>epoch</td><td>▁▂▂▃▃▄▄▅▅▆▆▇▇█</td></tr><tr><td>train_feedback</td><td>█▅▄▃▂▂▂▂▂▁▁▁▁▁</td></tr><tr><td>train_loss</td><td>█▅▄▃▂▂▂▂▂▁▁▁▁▁</td></tr><tr><td>val_feedback</td><td>█▆▄▃▃▂▃▂▁▂▁▁▁▁</td></tr><tr><td>val_loss</td><td>█▇▄▃▃▃▃▂▁▂▁▁▁▁</td></tr></table><br/></div><div class=\"wandb-col\"><h3>Run summary:</h3><br/><table class=\"wandb\"><tr><td>epoch</td><td>14</td></tr><tr><td>train_feedback</td><td>0.06065</td></tr><tr><td>train_loss</td><td>0.02934</td></tr><tr><td>val_feedback</td><td>0.06923</td></tr><tr><td>val_loss</td><td>0.03306</td></tr></table><br/></div></div>"
            ]
          },
          "metadata": {}
        },
        {
          "output_type": "display_data",
          "data": {
            "text/plain": [
              "<IPython.core.display.HTML object>"
            ],
            "text/html": [
              " View run <strong style=\"color:#cdcd00\">5-view + depth, frozen resnet, multi input</strong> at: <a href='https://wandb.ai/personal646/vision-encoder/runs/89r63874' target=\"_blank\">https://wandb.ai/personal646/vision-encoder/runs/89r63874</a><br/>Synced 5 W&B file(s), 0 media file(s), 0 artifact file(s) and 14 other file(s)"
            ]
          },
          "metadata": {}
        },
        {
          "output_type": "display_data",
          "data": {
            "text/plain": [
              "<IPython.core.display.HTML object>"
            ],
            "text/html": [
              "Find logs at: <code>./wandb/run-20231206_063049-89r63874/logs</code>"
            ]
          },
          "metadata": {}
        }
      ]
    },
    {
      "cell_type": "code",
      "source": [
        "\n",
        "\n",
        "# 5-view - depth, unfrozen resnet, single input\n",
        "models.append(\n",
        "    main(RobotNet(N_DIM1, N_DIM2, n_input_channels=5, num_inputs=1, multi_input=False, freeze_resnet=False),\n",
        "         RobotImageDataset('/content/UR5_positions_3.csv', '/content/images', file_names = [\"side_view_\",\"front_view_\",\"top_view_\",\"corner1_view_\",\"corner2_view_\"]),\n",
        "         experiment_title=\"5-view - depth, unfrozen resnet, single input\")\n",
        "    )"
      ],
      "metadata": {
        "id": "Ex3YH-OQ2uu9",
        "colab": {
          "base_uri": "https://localhost:8080/",
          "height": 691,
          "referenced_widgets": [
            "9feb0b34764a42c48e7660f883df2f7a",
            "72e8b8b0720743c2973296f25ada331d",
            "6431d3af7b534de9a432158a4fb9dc93",
            "ef7a4447d5614dfcb69abfdb593ece82",
            "ea9e5514bb7340b4b5e38070b77e7dd7",
            "40b8daa654434e659bfb5a562f196e5c",
            "c51d2054e9444743a0c1dd0359c25b73",
            "b3c71bd869f64c8598cc6f62460d22cf"
          ]
        },
        "outputId": "0da3772b-1c97-4884-8e4e-0e474a0cdb71"
      },
      "execution_count": null,
      "outputs": [
        {
          "output_type": "stream",
          "name": "stderr",
          "text": [
            "/usr/local/lib/python3.10/dist-packages/torchvision/transforms/v2/_deprecated.py:41: UserWarning: The transform `ToTensor()` is deprecated and will be removed in a future release. Instead, please use `transforms.Compose([transforms.ToImageTensor(), transforms.ConvertImageDtype()])`.\n",
            "  warnings.warn(\n"
          ]
        },
        {
          "output_type": "display_data",
          "data": {
            "text/plain": [
              "<IPython.core.display.HTML object>"
            ],
            "text/html": [
              "wandb version 0.16.1 is available!  To upgrade, please run:\n",
              " $ pip install wandb --upgrade"
            ]
          },
          "metadata": {}
        },
        {
          "output_type": "display_data",
          "data": {
            "text/plain": [
              "<IPython.core.display.HTML object>"
            ],
            "text/html": [
              "Tracking run with wandb version 0.16.0"
            ]
          },
          "metadata": {}
        },
        {
          "output_type": "display_data",
          "data": {
            "text/plain": [
              "<IPython.core.display.HTML object>"
            ],
            "text/html": [
              "Run data is saved locally in <code>/content/wandb/run-20231206_083446-s7qzh4nc</code>"
            ]
          },
          "metadata": {}
        },
        {
          "output_type": "display_data",
          "data": {
            "text/plain": [
              "<IPython.core.display.HTML object>"
            ],
            "text/html": [
              "Syncing run <strong><a href='https://wandb.ai/personal646/vision-encoder/runs/s7qzh4nc' target=\"_blank\">5-view - depth, unfrozen resnet, single input</a></strong> to <a href='https://wandb.ai/personal646/vision-encoder' target=\"_blank\">Weights & Biases</a> (<a href='https://wandb.me/run' target=\"_blank\">docs</a>)<br/>"
            ]
          },
          "metadata": {}
        },
        {
          "output_type": "display_data",
          "data": {
            "text/plain": [
              "<IPython.core.display.HTML object>"
            ],
            "text/html": [
              " View project at <a href='https://wandb.ai/personal646/vision-encoder' target=\"_blank\">https://wandb.ai/personal646/vision-encoder</a>"
            ]
          },
          "metadata": {}
        },
        {
          "output_type": "display_data",
          "data": {
            "text/plain": [
              "<IPython.core.display.HTML object>"
            ],
            "text/html": [
              " View run at <a href='https://wandb.ai/personal646/vision-encoder/runs/s7qzh4nc' target=\"_blank\">https://wandb.ai/personal646/vision-encoder/runs/s7qzh4nc</a>"
            ]
          },
          "metadata": {}
        },
        {
          "output_type": "stream",
          "name": "stdout",
          "text": [
            "cuda:0\n",
            "epoch: 1 | train loss: 0.08125744564086199 | val loss: 0.03015783198532604 | \"train_feedback\": 0.17804857942461969 | \"val_feedback\": 0.06278222799301147\n",
            "epoch: 2 | train loss: 0.023245945729315282 | val loss: 0.020832438258424638 | \"train_feedback\": 0.0475916578322649 | \"val_feedback\": 0.04281751066446304\n",
            "epoch: 3 | train loss: 0.016605968672782183 | val loss: 0.01462212944078067 | \"train_feedback\": 0.033690606497228145 | \"val_feedback\": 0.029708560556173325\n",
            "epoch: 4 | train loss: 0.012081636244431138 | val loss: 0.01245577083457084 | \"train_feedback\": 0.02441945421695709 | \"val_feedback\": 0.025336630642414093\n",
            "epoch: 5 | train loss: 0.010640235996805131 | val loss: 0.013784827376228003 | \"train_feedback\": 0.02147442326694727 | \"val_feedback\": 0.028053294867277145\n",
            "epoch: 6 | train loss: 0.00807549094222486 | val loss: 0.00852329961009442 | \"train_feedback\": 0.016250029260292648 | \"val_feedback\": 0.01732955314218998\n",
            "epoch: 7 | train loss: 0.006520148295909166 | val loss: 0.010759629693532747 | \"train_feedback\": 0.013104436164721846 | \"val_feedback\": 0.02178618498146534\n",
            "epoch: 8 | train loss: 0.006393540233373642 | val loss: 0.007107742145539276 | \"train_feedback\": 0.012847913678735494 | \"val_feedback\": 0.014471734873950481\n",
            "epoch: 9 | train loss: 0.005659505813382566 | val loss: 0.00780436789823903 | \"train_feedback\": 0.011370530789718033 | \"val_feedback\": 0.01575302705168724\n",
            "epoch: 10 | train loss: 0.005020107519812882 | val loss: 0.006267874039680002 | \"train_feedback\": 0.010077556794509291 | \"val_feedback\": 0.012632315047085285\n",
            "epoch: 11 | train loss: 0.005059241241775453 | val loss: 0.00613581485647176 | \"train_feedback\": 0.010170166643336415 | \"val_feedback\": 0.012373666279017925\n",
            "epoch: 12 | train loss: 0.0044059425531886515 | val loss: 0.0052159028682148174 | \"train_feedback\": 0.00884300795570016 | \"val_feedback\": 0.010533935390412807\n",
            "epoch: 13 | train loss: 0.0043615408623591066 | val loss: 0.0056268270312261484 | \"train_feedback\": 0.00876428452692926 | \"val_feedback\": 0.011379516683518887\n",
            "epoch: 14 | train loss: 0.004233208647929132 | val loss: 0.0044701331154635504 | \"train_feedback\": 0.008513576656579971 | \"val_feedback\": 0.009014873765408993\n"
          ]
        },
        {
          "output_type": "display_data",
          "data": {
            "text/plain": [
              "VBox(children=(Label(value='0.003 MB of 630.243 MB uploaded\\r'), FloatProgress(value=4.102246082172653e-06, ma…"
            ],
            "application/vnd.jupyter.widget-view+json": {
              "version_major": 2,
              "version_minor": 0,
              "model_id": "9feb0b34764a42c48e7660f883df2f7a"
            }
          },
          "metadata": {}
        },
        {
          "output_type": "display_data",
          "data": {
            "text/plain": [
              "<IPython.core.display.HTML object>"
            ],
            "text/html": [
              "<style>\n",
              "    table.wandb td:nth-child(1) { padding: 0 10px; text-align: left ; width: auto;} td:nth-child(2) {text-align: left ; width: 100%}\n",
              "    .wandb-row { display: flex; flex-direction: row; flex-wrap: wrap; justify-content: flex-start; width: 100% }\n",
              "    .wandb-col { display: flex; flex-direction: column; flex-basis: 100%; flex: 1; padding: 10px; }\n",
              "    </style>\n",
              "<div class=\"wandb-row\"><div class=\"wandb-col\"><h3>Run history:</h3><br/><table class=\"wandb\"><tr><td>epoch</td><td>▁▂▂▃▃▄▄▅▅▆▆▇▇█</td></tr><tr><td>train_feedback</td><td>█▃▂▂▂▁▁▁▁▁▁▁▁▁</td></tr><tr><td>train_loss</td><td>█▃▂▂▂▁▁▁▁▁▁▁▁▁</td></tr><tr><td>val_feedback</td><td>█▅▄▃▃▂▃▂▂▁▁▁▁▁</td></tr><tr><td>val_loss</td><td>█▅▄▃▄▂▃▂▂▁▁▁▁▁</td></tr></table><br/></div><div class=\"wandb-col\"><h3>Run summary:</h3><br/><table class=\"wandb\"><tr><td>epoch</td><td>14</td></tr><tr><td>train_feedback</td><td>0.00851</td></tr><tr><td>train_loss</td><td>0.00423</td></tr><tr><td>val_feedback</td><td>0.00901</td></tr><tr><td>val_loss</td><td>0.00447</td></tr></table><br/></div></div>"
            ]
          },
          "metadata": {}
        },
        {
          "output_type": "display_data",
          "data": {
            "text/plain": [
              "<IPython.core.display.HTML object>"
            ],
            "text/html": [
              " View run <strong style=\"color:#cdcd00\">5-view - depth, unfrozen resnet, single input</strong> at: <a href='https://wandb.ai/personal646/vision-encoder/runs/s7qzh4nc' target=\"_blank\">https://wandb.ai/personal646/vision-encoder/runs/s7qzh4nc</a><br/>Synced 5 W&B file(s), 0 media file(s), 0 artifact file(s) and 14 other file(s)"
            ]
          },
          "metadata": {}
        },
        {
          "output_type": "display_data",
          "data": {
            "text/plain": [
              "<IPython.core.display.HTML object>"
            ],
            "text/html": [
              "Find logs at: <code>./wandb/run-20231206_083446-s7qzh4nc/logs</code>"
            ]
          },
          "metadata": {}
        }
      ]
    },
    {
      "cell_type": "code",
      "source": [
        "# 3-view + depth, unfrozen resnet, single input\n",
        "models.append(\n",
        "    main(RobotNet(N_DIM1, N_DIM2, n_input_channels=6, num_inputs=1, multi_input=False, freeze_resnet=False),\n",
        "         RobotImageDataset('/content/UR5_positions_3.csv', '/content/images', file_names = [\"side_view_\",\"front_view_\",\"top_view_\",\"side_depth_view_\",\"front_depth_view_\",\"top_depth_view_\"]),\n",
        "         experiment_title=\"3-view + depth, unfrozen resnet, single input\")\n",
        "    )"
      ],
      "metadata": {
        "id": "l0ReP3ar2wGX",
        "colab": {
          "base_uri": "https://localhost:8080/",
          "height": 691,
          "referenced_widgets": [
            "fed71a37a3154e5abfe13a564186d4a9",
            "8db69068d5ce4b9f965a98d9ee9c8508",
            "7def2d537abd474598620b9f70130478",
            "b76a95cd835e4d65aa0f2edb12537fa2",
            "2f6b9d35dad5493688bfe67e9a85c021",
            "cfd308de8eb24a55a97daa9aa578c44e",
            "3dd3ceca5c1645d7ac3f0d836dd3ae0c",
            "38abe4661e8a416782e2095d26df9cec"
          ]
        },
        "outputId": "c0878a5c-554f-46bf-8485-66e6e3773fa4"
      },
      "execution_count": null,
      "outputs": [
        {
          "output_type": "stream",
          "name": "stderr",
          "text": [
            "/usr/local/lib/python3.10/dist-packages/torchvision/transforms/v2/_deprecated.py:41: UserWarning: The transform `ToTensor()` is deprecated and will be removed in a future release. Instead, please use `transforms.Compose([transforms.ToImageTensor(), transforms.ConvertImageDtype()])`.\n",
            "  warnings.warn(\n"
          ]
        },
        {
          "output_type": "display_data",
          "data": {
            "text/plain": [
              "<IPython.core.display.HTML object>"
            ],
            "text/html": [
              "wandb version 0.16.1 is available!  To upgrade, please run:\n",
              " $ pip install wandb --upgrade"
            ]
          },
          "metadata": {}
        },
        {
          "output_type": "display_data",
          "data": {
            "text/plain": [
              "<IPython.core.display.HTML object>"
            ],
            "text/html": [
              "Tracking run with wandb version 0.16.0"
            ]
          },
          "metadata": {}
        },
        {
          "output_type": "display_data",
          "data": {
            "text/plain": [
              "<IPython.core.display.HTML object>"
            ],
            "text/html": [
              "Run data is saved locally in <code>/content/wandb/run-20231206_094732-8g2aznch</code>"
            ]
          },
          "metadata": {}
        },
        {
          "output_type": "display_data",
          "data": {
            "text/plain": [
              "<IPython.core.display.HTML object>"
            ],
            "text/html": [
              "Syncing run <strong><a href='https://wandb.ai/personal646/vision-encoder/runs/8g2aznch' target=\"_blank\">3-view + depth, unfrozen resnet, single input</a></strong> to <a href='https://wandb.ai/personal646/vision-encoder' target=\"_blank\">Weights & Biases</a> (<a href='https://wandb.me/run' target=\"_blank\">docs</a>)<br/>"
            ]
          },
          "metadata": {}
        },
        {
          "output_type": "display_data",
          "data": {
            "text/plain": [
              "<IPython.core.display.HTML object>"
            ],
            "text/html": [
              " View project at <a href='https://wandb.ai/personal646/vision-encoder' target=\"_blank\">https://wandb.ai/personal646/vision-encoder</a>"
            ]
          },
          "metadata": {}
        },
        {
          "output_type": "display_data",
          "data": {
            "text/plain": [
              "<IPython.core.display.HTML object>"
            ],
            "text/html": [
              " View run at <a href='https://wandb.ai/personal646/vision-encoder/runs/8g2aznch' target=\"_blank\">https://wandb.ai/personal646/vision-encoder/runs/8g2aznch</a>"
            ]
          },
          "metadata": {}
        },
        {
          "output_type": "stream",
          "name": "stdout",
          "text": [
            "cuda:0\n",
            "epoch: 1 | train loss: 0.0746153653934598 | val loss: 0.03124415481256114 | \"train_feedback\": 0.16313236026465894 | \"val_feedback\": 0.06467770785093307\n",
            "epoch: 2 | train loss: 0.02496453908458352 | val loss: 0.019928534293458575 | \"train_feedback\": 0.051326098196208474 | \"val_feedback\": 0.04052486643195152\n",
            "epoch: 3 | train loss: 0.015498339880257846 | val loss: 0.01681503634308539 | \"train_feedback\": 0.03146533933281898 | \"val_feedback\": 0.034183818846940994\n",
            "epoch: 4 | train loss: 0.011783917868509889 | val loss: 0.011101032193336222 | \"train_feedback\": 0.02380861100181937 | \"val_feedback\": 0.02245211787521839\n",
            "epoch: 5 | train loss: 0.009592463186010718 | val loss: 0.012320310113921998 | \"train_feedback\": 0.019346045397222043 | \"val_feedback\": 0.025070564821362495\n",
            "epoch: 6 | train loss: 0.008580768517218531 | val loss: 0.009244495027122043 | \"train_feedback\": 0.017291486339643596 | \"val_feedback\": 0.018657812848687172\n",
            "epoch: 7 | train loss: 0.007086307062767446 | val loss: 0.008239402827466763 | \"train_feedback\": 0.014251806691288949 | \"val_feedback\": 0.01661999337375164\n",
            "epoch: 8 | train loss: 0.0064755703415721655 | val loss: 0.00652008869921759 | \"train_feedback\": 0.01302055061236024 | \"val_feedback\": 0.013139237649738789\n",
            "epoch: 9 | train loss: 0.0053481521578505635 | val loss: 0.00635769750390734 | \"train_feedback\": 0.010746910065412521 | \"val_feedback\": 0.012797602452337742\n",
            "epoch: 10 | train loss: 0.0049336791615933176 | val loss: 0.00565426130705173 | \"train_feedback\": 0.009907783458009363 | \"val_feedback\": 0.01137429941445589\n",
            "epoch: 11 | train loss: 0.004391716913320124 | val loss: 0.0061208181571038 | \"train_feedback\": 0.008813532061874867 | \"val_feedback\": 0.012341187335550785\n",
            "epoch: 12 | train loss: 0.0063321219403296705 | val loss: 0.00955153221914929 | \"train_feedback\": 0.012913106271997094 | \"val_feedback\": 0.019692841917276382\n",
            "epoch: 13 | train loss: 0.006411533801816404 | val loss: 0.007780956148746468 | \"train_feedback\": 0.013114844826981425 | \"val_feedback\": 0.015712598338723183\n",
            "epoch: 14 | train loss: 0.005383053701370955 | val loss: 0.0049400842815105405 | \"train_feedback\": 0.010918329210951924 | \"val_feedback\": 0.009947006590664387\n"
          ]
        },
        {
          "output_type": "display_data",
          "data": {
            "text/plain": [
              "VBox(children=(Label(value='0.003 MB of 0.003 MB uploaded\\r'), FloatProgress(value=1.0, max=1.0)))"
            ],
            "application/vnd.jupyter.widget-view+json": {
              "version_major": 2,
              "version_minor": 0,
              "model_id": "fed71a37a3154e5abfe13a564186d4a9"
            }
          },
          "metadata": {}
        },
        {
          "output_type": "display_data",
          "data": {
            "text/plain": [
              "<IPython.core.display.HTML object>"
            ],
            "text/html": [
              "<style>\n",
              "    table.wandb td:nth-child(1) { padding: 0 10px; text-align: left ; width: auto;} td:nth-child(2) {text-align: left ; width: 100%}\n",
              "    .wandb-row { display: flex; flex-direction: row; flex-wrap: wrap; justify-content: flex-start; width: 100% }\n",
              "    .wandb-col { display: flex; flex-direction: column; flex-basis: 100%; flex: 1; padding: 10px; }\n",
              "    </style>\n",
              "<div class=\"wandb-row\"><div class=\"wandb-col\"><h3>Run history:</h3><br/><table class=\"wandb\"><tr><td>epoch</td><td>▁▂▂▃▃▄▄▅▅▆▆▇▇█</td></tr><tr><td>train_feedback</td><td>█▃▂▂▁▁▁▁▁▁▁▁▁▁</td></tr><tr><td>train_loss</td><td>█▃▂▂▂▁▁▁▁▁▁▁▁▁</td></tr><tr><td>val_feedback</td><td>█▅▄▃▃▂▂▁▁▁▁▂▂▁</td></tr><tr><td>val_loss</td><td>█▅▄▃▃▂▂▁▁▁▁▂▂▁</td></tr></table><br/></div><div class=\"wandb-col\"><h3>Run summary:</h3><br/><table class=\"wandb\"><tr><td>epoch</td><td>14</td></tr><tr><td>train_feedback</td><td>0.01092</td></tr><tr><td>train_loss</td><td>0.00538</td></tr><tr><td>val_feedback</td><td>0.00995</td></tr><tr><td>val_loss</td><td>0.00494</td></tr></table><br/></div></div>"
            ]
          },
          "metadata": {}
        },
        {
          "output_type": "display_data",
          "data": {
            "text/plain": [
              "<IPython.core.display.HTML object>"
            ],
            "text/html": [
              " View run <strong style=\"color:#cdcd00\">3-view + depth, unfrozen resnet, single input</strong> at: <a href='https://wandb.ai/personal646/vision-encoder/runs/8g2aznch' target=\"_blank\">https://wandb.ai/personal646/vision-encoder/runs/8g2aznch</a><br/>Synced 5 W&B file(s), 0 media file(s), 0 artifact file(s) and 14 other file(s)"
            ]
          },
          "metadata": {}
        },
        {
          "output_type": "display_data",
          "data": {
            "text/plain": [
              "<IPython.core.display.HTML object>"
            ],
            "text/html": [
              "Find logs at: <code>./wandb/run-20231206_094732-8g2aznch/logs</code>"
            ]
          },
          "metadata": {}
        }
      ]
    },
    {
      "cell_type": "code",
      "source": [
        "# 3-view + depth, frozen resnet, single input\n",
        "\n",
        "models.append(\n",
        "    main(RobotNet(N_DIM1, N_DIM2, n_input_channels=6, num_inputs=1, multi_input=False, freeze_resnet=True),\n",
        "         RobotImageDataset('/content/UR5_positions_3.csv', '/content/images', file_names = [\"side_view_\",\"front_view_\",\"top_view_\",\"side_depth_view_\",\"front_depth_view_\",\"top_depth_view_\"]),\n",
        "         experiment_title=\"3-view + depth, frozen resnet, single input\")\n",
        "    )\n"
      ],
      "metadata": {
        "id": "I0NYzEiG2xg8",
        "colab": {
          "base_uri": "https://localhost:8080/",
          "height": 691,
          "referenced_widgets": [
            "b3f11f95fc13469ebcdb4a2e0c121165",
            "cdda147d3a40403298d3bcb9d0049375",
            "deff025779e44147a5eec93a087fb8a0",
            "83afbaba25ea4ee0a7248cbde1aa86da",
            "bff4ef412b0b49cc80332198ef2c1ef4",
            "aa1ffbda8078478ba97b3ec5fdbecfc0",
            "8fa9546bc89f4f52b4cee3c3949ddb7f",
            "1770307a9732448ab07c5fc1d0801ee1"
          ]
        },
        "outputId": "91a8aec8-62c1-4b94-ffc9-7f55cb42706e"
      },
      "execution_count": null,
      "outputs": [
        {
          "output_type": "stream",
          "name": "stderr",
          "text": [
            "/usr/local/lib/python3.10/dist-packages/torchvision/transforms/v2/_deprecated.py:41: UserWarning: The transform `ToTensor()` is deprecated and will be removed in a future release. Instead, please use `transforms.Compose([transforms.ToImageTensor(), transforms.ConvertImageDtype()])`.\n",
            "  warnings.warn(\n"
          ]
        },
        {
          "output_type": "display_data",
          "data": {
            "text/plain": [
              "<IPython.core.display.HTML object>"
            ],
            "text/html": [
              "wandb version 0.16.1 is available!  To upgrade, please run:\n",
              " $ pip install wandb --upgrade"
            ]
          },
          "metadata": {}
        },
        {
          "output_type": "display_data",
          "data": {
            "text/plain": [
              "<IPython.core.display.HTML object>"
            ],
            "text/html": [
              "Tracking run with wandb version 0.16.0"
            ]
          },
          "metadata": {}
        },
        {
          "output_type": "display_data",
          "data": {
            "text/plain": [
              "<IPython.core.display.HTML object>"
            ],
            "text/html": [
              "Run data is saved locally in <code>/content/wandb/run-20231206_105418-fnzqfha6</code>"
            ]
          },
          "metadata": {}
        },
        {
          "output_type": "display_data",
          "data": {
            "text/plain": [
              "<IPython.core.display.HTML object>"
            ],
            "text/html": [
              "Syncing run <strong><a href='https://wandb.ai/personal646/vision-encoder/runs/fnzqfha6' target=\"_blank\">3-view + depth, frozen resnet, single input</a></strong> to <a href='https://wandb.ai/personal646/vision-encoder' target=\"_blank\">Weights & Biases</a> (<a href='https://wandb.me/run' target=\"_blank\">docs</a>)<br/>"
            ]
          },
          "metadata": {}
        },
        {
          "output_type": "display_data",
          "data": {
            "text/plain": [
              "<IPython.core.display.HTML object>"
            ],
            "text/html": [
              " View project at <a href='https://wandb.ai/personal646/vision-encoder' target=\"_blank\">https://wandb.ai/personal646/vision-encoder</a>"
            ]
          },
          "metadata": {}
        },
        {
          "output_type": "display_data",
          "data": {
            "text/plain": [
              "<IPython.core.display.HTML object>"
            ],
            "text/html": [
              " View run at <a href='https://wandb.ai/personal646/vision-encoder/runs/fnzqfha6' target=\"_blank\">https://wandb.ai/personal646/vision-encoder/runs/fnzqfha6</a>"
            ]
          },
          "metadata": {}
        },
        {
          "output_type": "stream",
          "name": "stdout",
          "text": [
            "cuda:0\n",
            "epoch: 1 | train loss: 0.21008536568284034 | val loss: 0.15883671137548627 | \"train_feedback\": 0.4678200296163559 | \"val_feedback\": 0.3493802845478058\n",
            "epoch: 2 | train loss: 0.13786514604091643 | val loss: 0.12408697948096291 | \"train_feedback\": 0.3043201491832733 | \"val_feedback\": 0.2710600197315216\n",
            "epoch: 3 | train loss: 0.11485058018565178 | val loss: 0.1047772564112194 | \"train_feedback\": 0.2519516904950142 | \"val_feedback\": 0.22769880294799805\n",
            "epoch: 4 | train loss: 0.09858816602826119 | val loss: 0.08835156155484063 | \"train_feedback\": 0.21507199466228485 | \"val_feedback\": 0.191423699259758\n",
            "epoch: 5 | train loss: 0.08892015191912651 | val loss: 0.08484197130042409 | \"train_feedback\": 0.19344906032085418 | \"val_feedback\": 0.1836070716381073\n",
            "epoch: 6 | train loss: 0.0833483427464962 | val loss: 0.09443056080786008 | \"train_feedback\": 0.1806906775832176 | \"val_feedback\": 0.20448081195354462\n",
            "epoch: 7 | train loss: 0.07592659606039524 | val loss: 0.0744910751070295 | \"train_feedback\": 0.16370388394594193 | \"val_feedback\": 0.16042068600654602\n",
            "epoch: 8 | train loss: 0.07075429463386536 | val loss: 0.06896454095840454 | \"train_feedback\": 0.15197151172161102 | \"val_feedback\": 0.14903391897678375\n",
            "epoch: 9 | train loss: 0.06619617474079133 | val loss: 0.06838791362113422 | \"train_feedback\": 0.14215357542037965 | \"val_feedback\": 0.14696678519248962\n",
            "epoch: 10 | train loss: 0.0643795209825039 | val loss: 0.07474799359601642 | \"train_feedback\": 0.13780080637335776 | \"val_feedback\": 0.16092759370803833\n",
            "epoch: 11 | train loss: 0.060917190581560136 | val loss: 0.06375432345602247 | \"train_feedback\": 0.1301428998708725 | \"val_feedback\": 0.1364765763282776\n",
            "epoch: 12 | train loss: 0.055632007420063016 | val loss: 0.06870144451894457 | \"train_feedback\": 0.11825848883390426 | \"val_feedback\": 0.14744767546653748\n",
            "epoch: 13 | train loss: 0.056585892617702485 | val loss: 0.062289163943320985 | \"train_feedback\": 0.12038788303732872 | \"val_feedback\": 0.13361133635044098\n",
            "epoch: 14 | train loss: 0.05395965001732111 | val loss: 0.05845559524401786 | \"train_feedback\": 0.11444377079606056 | \"val_feedback\": 0.1249166801571846\n"
          ]
        },
        {
          "output_type": "display_data",
          "data": {
            "text/plain": [
              "VBox(children=(Label(value='0.003 MB of 630.410 MB uploaded\\r'), FloatProgress(value=4.10115660861034e-06, max…"
            ],
            "application/vnd.jupyter.widget-view+json": {
              "version_major": 2,
              "version_minor": 0,
              "model_id": "b3f11f95fc13469ebcdb4a2e0c121165"
            }
          },
          "metadata": {}
        },
        {
          "output_type": "display_data",
          "data": {
            "text/plain": [
              "<IPython.core.display.HTML object>"
            ],
            "text/html": [
              "<style>\n",
              "    table.wandb td:nth-child(1) { padding: 0 10px; text-align: left ; width: auto;} td:nth-child(2) {text-align: left ; width: 100%}\n",
              "    .wandb-row { display: flex; flex-direction: row; flex-wrap: wrap; justify-content: flex-start; width: 100% }\n",
              "    .wandb-col { display: flex; flex-direction: column; flex-basis: 100%; flex: 1; padding: 10px; }\n",
              "    </style>\n",
              "<div class=\"wandb-row\"><div class=\"wandb-col\"><h3>Run history:</h3><br/><table class=\"wandb\"><tr><td>epoch</td><td>▁▂▂▃▃▄▄▅▅▆▆▇▇█</td></tr><tr><td>train_feedback</td><td>█▅▄▃▃▂▂▂▂▁▁▁▁▁</td></tr><tr><td>train_loss</td><td>█▅▄▃▃▂▂▂▂▁▁▁▁▁</td></tr><tr><td>val_feedback</td><td>█▆▄▃▃▃▂▂▂▂▁▂▁▁</td></tr><tr><td>val_loss</td><td>█▆▄▃▃▄▂▂▂▂▁▂▁▁</td></tr></table><br/></div><div class=\"wandb-col\"><h3>Run summary:</h3><br/><table class=\"wandb\"><tr><td>epoch</td><td>14</td></tr><tr><td>train_feedback</td><td>0.11444</td></tr><tr><td>train_loss</td><td>0.05396</td></tr><tr><td>val_feedback</td><td>0.12492</td></tr><tr><td>val_loss</td><td>0.05846</td></tr></table><br/></div></div>"
            ]
          },
          "metadata": {}
        },
        {
          "output_type": "display_data",
          "data": {
            "text/plain": [
              "<IPython.core.display.HTML object>"
            ],
            "text/html": [
              " View run <strong style=\"color:#cdcd00\">3-view + depth, frozen resnet, single input</strong> at: <a href='https://wandb.ai/personal646/vision-encoder/runs/fnzqfha6' target=\"_blank\">https://wandb.ai/personal646/vision-encoder/runs/fnzqfha6</a><br/>Synced 5 W&B file(s), 0 media file(s), 0 artifact file(s) and 14 other file(s)"
            ]
          },
          "metadata": {}
        },
        {
          "output_type": "display_data",
          "data": {
            "text/plain": [
              "<IPython.core.display.HTML object>"
            ],
            "text/html": [
              "Find logs at: <code>./wandb/run-20231206_105418-fnzqfha6/logs</code>"
            ]
          },
          "metadata": {}
        }
      ]
    },
    {
      "cell_type": "code",
      "source": [
        "# 3-view + depth, frozen resnet, multi input\n",
        "models.append(\n",
        "    main(RobotNet(N_DIM1, N_DIM2, n_input_channels=1, num_inputs=6, multi_input=True, freeze_resnet=True),\n",
        "         RobotImageDataset('/content/UR5_positions_3.csv', '/content/images', file_names = [\"side_view_\",\"front_view_\",\"top_view_\",\"side_depth_view_\",\"front_depth_view_\",\"top_depth_view_\"]),\n",
        "         experiment_title=\"3-view + depth, frozen resnet, multi input\")\n",
        "    )\n"
      ],
      "metadata": {
        "id": "sOXEC3Sh2z6k",
        "colab": {
          "base_uri": "https://localhost:8080/",
          "height": 691,
          "referenced_widgets": [
            "6d398af959284aa2a4aced082e912d97",
            "61ca31c587314e56bbb8e01be5c74fd2",
            "e1a695740879468bbe604a0ef360f547",
            "f6caf6bfb5f6499ebc008d2594735aa2",
            "5ef3765e1d964cc0a9c45446498ba212",
            "ca660e235cf544209b76406f09c5aa3f",
            "20ed32b1b6634393875936cceda51676",
            "ae5bb882e4fa4c7593f3271a2c4715aa"
          ]
        },
        "outputId": "ed9c7040-457a-4ab3-bc32-a35145a916da"
      },
      "execution_count": null,
      "outputs": [
        {
          "output_type": "stream",
          "name": "stderr",
          "text": [
            "/usr/local/lib/python3.10/dist-packages/torchvision/transforms/v2/_deprecated.py:41: UserWarning: The transform `ToTensor()` is deprecated and will be removed in a future release. Instead, please use `transforms.Compose([transforms.ToImageTensor(), transforms.ConvertImageDtype()])`.\n",
            "  warnings.warn(\n"
          ]
        },
        {
          "output_type": "display_data",
          "data": {
            "text/plain": [
              "<IPython.core.display.HTML object>"
            ],
            "text/html": [
              "wandb version 0.16.1 is available!  To upgrade, please run:\n",
              " $ pip install wandb --upgrade"
            ]
          },
          "metadata": {}
        },
        {
          "output_type": "display_data",
          "data": {
            "text/plain": [
              "<IPython.core.display.HTML object>"
            ],
            "text/html": [
              "Tracking run with wandb version 0.16.0"
            ]
          },
          "metadata": {}
        },
        {
          "output_type": "display_data",
          "data": {
            "text/plain": [
              "<IPython.core.display.HTML object>"
            ],
            "text/html": [
              "Run data is saved locally in <code>/content/wandb/run-20231206_120000-u3eux2zy</code>"
            ]
          },
          "metadata": {}
        },
        {
          "output_type": "display_data",
          "data": {
            "text/plain": [
              "<IPython.core.display.HTML object>"
            ],
            "text/html": [
              "Syncing run <strong><a href='https://wandb.ai/personal646/vision-encoder/runs/u3eux2zy' target=\"_blank\">3-view + depth, frozen resnet, multi input</a></strong> to <a href='https://wandb.ai/personal646/vision-encoder' target=\"_blank\">Weights & Biases</a> (<a href='https://wandb.me/run' target=\"_blank\">docs</a>)<br/>"
            ]
          },
          "metadata": {}
        },
        {
          "output_type": "display_data",
          "data": {
            "text/plain": [
              "<IPython.core.display.HTML object>"
            ],
            "text/html": [
              " View project at <a href='https://wandb.ai/personal646/vision-encoder' target=\"_blank\">https://wandb.ai/personal646/vision-encoder</a>"
            ]
          },
          "metadata": {}
        },
        {
          "output_type": "display_data",
          "data": {
            "text/plain": [
              "<IPython.core.display.HTML object>"
            ],
            "text/html": [
              " View run at <a href='https://wandb.ai/personal646/vision-encoder/runs/u3eux2zy' target=\"_blank\">https://wandb.ai/personal646/vision-encoder/runs/u3eux2zy</a>"
            ]
          },
          "metadata": {}
        },
        {
          "output_type": "stream",
          "name": "stdout",
          "text": [
            "cuda:0\n",
            "epoch: 1 | train loss: 0.18567295882105828 | val loss: 0.12874782972392582 | \"train_feedback\": 0.413739586353302 | \"val_feedback\": 0.2815971374511719\n",
            "epoch: 2 | train loss: 0.11336410200595856 | val loss: 0.09637489477320323 | \"train_feedback\": 0.24853354680538178 | \"val_feedback\": 0.209083691239357\n",
            "epoch: 3 | train loss: 0.0853128491640091 | val loss: 0.08065704557867277 | \"train_feedback\": 0.18531219160556794 | \"val_feedback\": 0.17401443421840668\n",
            "epoch: 4 | train loss: 0.07467657350003719 | val loss: 0.07022709984864507 | \"train_feedback\": 0.16114021122455596 | \"val_feedback\": 0.15187403559684753\n",
            "epoch: 5 | train loss: 0.06926841700077056 | val loss: 0.06964360502740694 | \"train_feedback\": 0.1494332986474037 | \"val_feedback\": 0.15032069385051727\n",
            "epoch: 6 | train loss: 0.06148265980184078 | val loss: 0.06144740887814098 | \"train_feedback\": 0.13186334803700447 | \"val_feedback\": 0.13192947208881378\n",
            "epoch: 7 | train loss: 0.05689669334888458 | val loss: 0.07418102120596265 | \"train_feedback\": 0.12124625419080258 | \"val_feedback\": 0.1634715497493744\n",
            "epoch: 8 | train loss: 0.05496782102435827 | val loss: 0.05180497615346833 | \"train_feedback\": 0.11718955510854721 | \"val_feedback\": 0.11085934191942215\n",
            "epoch: 9 | train loss: 0.04832393315434456 | val loss: 0.04876554370044716 | \"train_feedback\": 0.1024024612903595 | \"val_feedback\": 0.10385140776634216\n",
            "epoch: 10 | train loss: 0.04544268212467432 | val loss: 0.045560209228405875 | \"train_feedback\": 0.0957489305883646 | \"val_feedback\": 0.09667173027992249\n",
            "epoch: 11 | train loss: 0.044416463613510135 | val loss: 0.043606820412807994 | \"train_feedback\": 0.09383928368985653 | \"val_feedback\": 0.09262832254171371\n",
            "epoch: 12 | train loss: 0.04221451285481453 | val loss: 0.04492008393364293 | \"train_feedback\": 0.08892104236781598 | \"val_feedback\": 0.09484247863292694\n",
            "epoch: 13 | train loss: 0.039422671295702455 | val loss: 0.04261895204110751 | \"train_feedback\": 0.0827557070851326 | \"val_feedback\": 0.09041474014520645\n",
            "epoch: 14 | train loss: 0.03920336603373289 | val loss: 0.0410030832780259 | \"train_feedback\": 0.08241749964654446 | \"val_feedback\": 0.08605018258094788\n"
          ]
        },
        {
          "output_type": "display_data",
          "data": {
            "text/plain": [
              "VBox(children=(Label(value='0.003 MB of 0.003 MB uploaded\\r'), FloatProgress(value=1.0, max=1.0)))"
            ],
            "application/vnd.jupyter.widget-view+json": {
              "version_major": 2,
              "version_minor": 0,
              "model_id": "6d398af959284aa2a4aced082e912d97"
            }
          },
          "metadata": {}
        },
        {
          "output_type": "display_data",
          "data": {
            "text/plain": [
              "<IPython.core.display.HTML object>"
            ],
            "text/html": [
              "<style>\n",
              "    table.wandb td:nth-child(1) { padding: 0 10px; text-align: left ; width: auto;} td:nth-child(2) {text-align: left ; width: 100%}\n",
              "    .wandb-row { display: flex; flex-direction: row; flex-wrap: wrap; justify-content: flex-start; width: 100% }\n",
              "    .wandb-col { display: flex; flex-direction: column; flex-basis: 100%; flex: 1; padding: 10px; }\n",
              "    </style>\n",
              "<div class=\"wandb-row\"><div class=\"wandb-col\"><h3>Run history:</h3><br/><table class=\"wandb\"><tr><td>epoch</td><td>▁▂▂▃▃▄▄▅▅▆▆▇▇█</td></tr><tr><td>train_feedback</td><td>█▅▃▃▂▂▂▂▁▁▁▁▁▁</td></tr><tr><td>train_loss</td><td>█▅▃▃▂▂▂▂▁▁▁▁▁▁</td></tr><tr><td>val_feedback</td><td>█▅▄▃▃▃▄▂▂▁▁▁▁▁</td></tr><tr><td>val_loss</td><td>█▅▄▃▃▃▄▂▂▁▁▁▁▁</td></tr></table><br/></div><div class=\"wandb-col\"><h3>Run summary:</h3><br/><table class=\"wandb\"><tr><td>epoch</td><td>14</td></tr><tr><td>train_feedback</td><td>0.08242</td></tr><tr><td>train_loss</td><td>0.0392</td></tr><tr><td>val_feedback</td><td>0.08605</td></tr><tr><td>val_loss</td><td>0.041</td></tr></table><br/></div></div>"
            ]
          },
          "metadata": {}
        },
        {
          "output_type": "display_data",
          "data": {
            "text/plain": [
              "<IPython.core.display.HTML object>"
            ],
            "text/html": [
              " View run <strong style=\"color:#cdcd00\">3-view + depth, frozen resnet, multi input</strong> at: <a href='https://wandb.ai/personal646/vision-encoder/runs/u3eux2zy' target=\"_blank\">https://wandb.ai/personal646/vision-encoder/runs/u3eux2zy</a><br/>Synced 5 W&B file(s), 0 media file(s), 0 artifact file(s) and 14 other file(s)"
            ]
          },
          "metadata": {}
        },
        {
          "output_type": "display_data",
          "data": {
            "text/plain": [
              "<IPython.core.display.HTML object>"
            ],
            "text/html": [
              "Find logs at: <code>./wandb/run-20231206_120000-u3eux2zy/logs</code>"
            ]
          },
          "metadata": {}
        }
      ]
    },
    {
      "cell_type": "code",
      "source": [
        "# 3-view - depth, unfrozen resnet, single input\n",
        "models.append(\n",
        "    main(RobotNet(N_DIM1, N_DIM2, n_input_channels=3, num_inputs=1, multi_input=False, freeze_resnet=False),\n",
        "         RobotImageDataset('/content/UR5_positions_3.csv', '/content/images', file_names = [\"side_view_\",\"front_view_\",\"top_view_\"]),\n",
        "         experiment_title=\"3-view - depth, unfrozen resnet, single input\")\n",
        "    )\n"
      ],
      "metadata": {
        "id": "tLCXHQf120-b",
        "colab": {
          "base_uri": "https://localhost:8080/",
          "height": 691,
          "referenced_widgets": [
            "95b6a798e03240a3a589724d7395c1bd",
            "817cd5301e614cae97ff536583cb7d03",
            "da64344d14b7400fac44ac57faad9cc3",
            "928c6dd6a7104459affb59d9785bf5ac",
            "bd53305d52e942538576368fdbd8fa16",
            "c7f5a8e929884a3ca798c3f4e939bb71",
            "48ad5d99799244bcbb73100652d523b3",
            "39e1853fe07148b79c2410360809d17b"
          ]
        },
        "outputId": "f1d7bef4-2d03-4c2d-a0c1-1747ac08ef29"
      },
      "execution_count": null,
      "outputs": [
        {
          "output_type": "stream",
          "name": "stderr",
          "text": [
            "/usr/local/lib/python3.10/dist-packages/torchvision/transforms/v2/_deprecated.py:41: UserWarning: The transform `ToTensor()` is deprecated and will be removed in a future release. Instead, please use `transforms.Compose([transforms.ToImageTensor(), transforms.ConvertImageDtype()])`.\n",
            "  warnings.warn(\n"
          ]
        },
        {
          "output_type": "display_data",
          "data": {
            "text/plain": [
              "<IPython.core.display.HTML object>"
            ],
            "text/html": [
              "wandb version 0.16.1 is available!  To upgrade, please run:\n",
              " $ pip install wandb --upgrade"
            ]
          },
          "metadata": {}
        },
        {
          "output_type": "display_data",
          "data": {
            "text/plain": [
              "<IPython.core.display.HTML object>"
            ],
            "text/html": [
              "Tracking run with wandb version 0.16.0"
            ]
          },
          "metadata": {}
        },
        {
          "output_type": "display_data",
          "data": {
            "text/plain": [
              "<IPython.core.display.HTML object>"
            ],
            "text/html": [
              "Run data is saved locally in <code>/content/wandb/run-20231206_131627-zl2pv1oj</code>"
            ]
          },
          "metadata": {}
        },
        {
          "output_type": "display_data",
          "data": {
            "text/plain": [
              "<IPython.core.display.HTML object>"
            ],
            "text/html": [
              "Syncing run <strong><a href='https://wandb.ai/personal646/vision-encoder/runs/zl2pv1oj' target=\"_blank\">3-view - depth, unfrozen resnet, single input</a></strong> to <a href='https://wandb.ai/personal646/vision-encoder' target=\"_blank\">Weights & Biases</a> (<a href='https://wandb.me/run' target=\"_blank\">docs</a>)<br/>"
            ]
          },
          "metadata": {}
        },
        {
          "output_type": "display_data",
          "data": {
            "text/plain": [
              "<IPython.core.display.HTML object>"
            ],
            "text/html": [
              " View project at <a href='https://wandb.ai/personal646/vision-encoder' target=\"_blank\">https://wandb.ai/personal646/vision-encoder</a>"
            ]
          },
          "metadata": {}
        },
        {
          "output_type": "display_data",
          "data": {
            "text/plain": [
              "<IPython.core.display.HTML object>"
            ],
            "text/html": [
              " View run at <a href='https://wandb.ai/personal646/vision-encoder/runs/zl2pv1oj' target=\"_blank\">https://wandb.ai/personal646/vision-encoder/runs/zl2pv1oj</a>"
            ]
          },
          "metadata": {}
        },
        {
          "output_type": "stream",
          "name": "stdout",
          "text": [
            "cuda:0\n",
            "epoch: 1 | train loss: 0.0720522959381342 | val loss: 0.030351281269556947 | \"train_feedback\": 0.15700631736218928 | \"val_feedback\": 0.06289026141166687\n",
            "epoch: 2 | train loss: 0.02211679551564157 | val loss: 0.01995907055716666 | \"train_feedback\": 0.0451580178886652 | \"val_feedback\": 0.040930986404418945\n",
            "epoch: 3 | train loss: 0.01504675697349012 | val loss: 0.015086287499538489 | \"train_feedback\": 0.03049678048864007 | \"val_feedback\": 0.030737627297639847\n",
            "epoch: 4 | train loss: 0.01185834770835936 | val loss: 0.011049442518029421 | \"train_feedback\": 0.023955752681940792 | \"val_feedback\": 0.02235393412411213\n",
            "epoch: 5 | train loss: 0.010005883956328034 | val loss: 0.01004050268481175 | \"train_feedback\": 0.020167604848742485 | \"val_feedback\": 0.020257582888007164\n",
            "epoch: 6 | train loss: 0.008665574369952083 | val loss: 0.010980597660241146 | \"train_feedback\": 0.017455433662980795 | \"val_feedback\": 0.022235402837395668\n",
            "epoch: 7 | train loss: 0.007421482332982123 | val loss: 0.00807608810016915 | \"train_feedback\": 0.01492510219104588 | \"val_feedback\": 0.016281822696328163\n",
            "epoch: 8 | train loss: 0.006325875313952565 | val loss: 0.007247308498278024 | \"train_feedback\": 0.012715184226632118 | \"val_feedback\": 0.014608715660870075\n",
            "epoch: 9 | train loss: 0.005127390591427684 | val loss: 0.006156548709859924 | \"train_feedback\": 0.010294546144083143 | \"val_feedback\": 0.012396106496453285\n",
            "epoch: 10 | train loss: 0.005075807271525264 | val loss: 0.005455309554697975 | \"train_feedback\": 0.010190695276483893 | \"val_feedback\": 0.010998275130987167\n",
            "epoch: 11 | train loss: 0.004205029463395476 | val loss: 0.004995492168716968 | \"train_feedback\": 0.008439469125121831 | \"val_feedback\": 0.010069319978356361\n",
            "epoch: 12 | train loss: 0.004277588453143835 | val loss: 0.005518459485814212 | \"train_feedback\": 0.008595190864056348 | \"val_feedback\": 0.011181429959833622\n",
            "epoch: 13 | train loss: 0.004478883962612599 | val loss: 0.004656471038562438 | \"train_feedback\": 0.008998528834432364 | \"val_feedback\": 0.009365721605718136\n",
            "epoch: 14 | train loss: 0.003580546644050628 | val loss: 0.004083228833411658 | \"train_feedback\": 0.0071809042990207675 | \"val_feedback\": 0.008214299567043781\n"
          ]
        },
        {
          "output_type": "display_data",
          "data": {
            "text/plain": [
              "VBox(children=(Label(value='0.003 MB of 539.923 MB uploaded\\r'), FloatProgress(value=4.788480961612608e-06, ma…"
            ],
            "application/vnd.jupyter.widget-view+json": {
              "version_major": 2,
              "version_minor": 0,
              "model_id": "95b6a798e03240a3a589724d7395c1bd"
            }
          },
          "metadata": {}
        },
        {
          "output_type": "display_data",
          "data": {
            "text/plain": [
              "<IPython.core.display.HTML object>"
            ],
            "text/html": [
              "<style>\n",
              "    table.wandb td:nth-child(1) { padding: 0 10px; text-align: left ; width: auto;} td:nth-child(2) {text-align: left ; width: 100%}\n",
              "    .wandb-row { display: flex; flex-direction: row; flex-wrap: wrap; justify-content: flex-start; width: 100% }\n",
              "    .wandb-col { display: flex; flex-direction: column; flex-basis: 100%; flex: 1; padding: 10px; }\n",
              "    </style>\n",
              "<div class=\"wandb-row\"><div class=\"wandb-col\"><h3>Run history:</h3><br/><table class=\"wandb\"><tr><td>epoch</td><td>▁▂▂▃▃▄▄▅▅▆▆▇▇█</td></tr><tr><td>train_feedback</td><td>█▃▂▂▂▁▁▁▁▁▁▁▁▁</td></tr><tr><td>train_loss</td><td>█▃▂▂▂▂▁▁▁▁▁▁▁▁</td></tr><tr><td>val_feedback</td><td>█▅▄▃▃▃▂▂▂▁▁▁▁▁</td></tr><tr><td>val_loss</td><td>█▅▄▃▃▃▂▂▂▁▁▁▁▁</td></tr></table><br/></div><div class=\"wandb-col\"><h3>Run summary:</h3><br/><table class=\"wandb\"><tr><td>epoch</td><td>14</td></tr><tr><td>train_feedback</td><td>0.00718</td></tr><tr><td>train_loss</td><td>0.00358</td></tr><tr><td>val_feedback</td><td>0.00821</td></tr><tr><td>val_loss</td><td>0.00408</td></tr></table><br/></div></div>"
            ]
          },
          "metadata": {}
        },
        {
          "output_type": "display_data",
          "data": {
            "text/plain": [
              "<IPython.core.display.HTML object>"
            ],
            "text/html": [
              " View run <strong style=\"color:#cdcd00\">3-view - depth, unfrozen resnet, single input</strong> at: <a href='https://wandb.ai/personal646/vision-encoder/runs/zl2pv1oj' target=\"_blank\">https://wandb.ai/personal646/vision-encoder/runs/zl2pv1oj</a><br/>Synced 5 W&B file(s), 0 media file(s), 0 artifact file(s) and 14 other file(s)"
            ]
          },
          "metadata": {}
        },
        {
          "output_type": "display_data",
          "data": {
            "text/plain": [
              "<IPython.core.display.HTML object>"
            ],
            "text/html": [
              "Find logs at: <code>./wandb/run-20231206_131627-zl2pv1oj/logs</code>"
            ]
          },
          "metadata": {}
        }
      ]
    },
    {
      "cell_type": "code",
      "source": [
        "# 1-view + depth, unfrozen resnet, single input\n",
        "models.append(\n",
        "    main(RobotNet(N_DIM1, N_DIM2, n_input_channels=2, num_inputs=1, multi_input=False, freeze_resnet=False),\n",
        "         RobotImageDataset('/content/UR5_positions_3.csv', '/content/images', file_names = [\"front_view_\",\"front_depth_view_\"]),\n",
        "         experiment_title=\"1-view + depth, unfrozen resnet, single input\")\n",
        "    )"
      ],
      "metadata": {
        "id": "GLjbaJeZ2152",
        "colab": {
          "base_uri": "https://localhost:8080/",
          "height": 693,
          "referenced_widgets": [
            "fe0a80634e9b48ef9f75071a9973633a",
            "a0112a4472694d2ea6cfca401ea02290",
            "ced5dc2d13124698b45b19a6420fab6a",
            "c60d3e9fe73b485c95768b3e50a2b3fd",
            "6f5e66c34afa4c8c8b1913c5255ad91d",
            "7e576d74a3fb4717b5d17d1913fa2865",
            "1055e1f2cdee473ebcef6f66dca72288",
            "b892efcf691d46f68408615786ce12ba"
          ]
        },
        "outputId": "3d8d652f-b794-4ee7-9f96-5e22ee808de6"
      },
      "execution_count": null,
      "outputs": [
        {
          "output_type": "stream",
          "name": "stderr",
          "text": [
            "/usr/local/lib/python3.10/dist-packages/torchvision/transforms/v2/_deprecated.py:41: UserWarning: The transform `ToTensor()` is deprecated and will be removed in a future release. Instead, please use `transforms.Compose([transforms.ToImageTensor(), transforms.ConvertImageDtype()])`.\n",
            "  warnings.warn(\n"
          ]
        },
        {
          "output_type": "display_data",
          "data": {
            "text/plain": [
              "<IPython.core.display.HTML object>"
            ],
            "text/html": [
              "wandb version 0.16.1 is available!  To upgrade, please run:\n",
              " $ pip install wandb --upgrade"
            ]
          },
          "metadata": {}
        },
        {
          "output_type": "display_data",
          "data": {
            "text/plain": [
              "<IPython.core.display.HTML object>"
            ],
            "text/html": [
              "Tracking run with wandb version 0.16.0"
            ]
          },
          "metadata": {}
        },
        {
          "output_type": "display_data",
          "data": {
            "text/plain": [
              "<IPython.core.display.HTML object>"
            ],
            "text/html": [
              "Run data is saved locally in <code>/content/wandb/run-20231206_140158-amhn3w8y</code>"
            ]
          },
          "metadata": {}
        },
        {
          "output_type": "display_data",
          "data": {
            "text/plain": [
              "<IPython.core.display.HTML object>"
            ],
            "text/html": [
              "Syncing run <strong><a href='https://wandb.ai/personal646/vision-encoder/runs/amhn3w8y' target=\"_blank\">1-view + depth, unfrozen resnet, single input</a></strong> to <a href='https://wandb.ai/personal646/vision-encoder' target=\"_blank\">Weights & Biases</a> (<a href='https://wandb.me/run' target=\"_blank\">docs</a>)<br/>"
            ]
          },
          "metadata": {}
        },
        {
          "output_type": "display_data",
          "data": {
            "text/plain": [
              "<IPython.core.display.HTML object>"
            ],
            "text/html": [
              " View project at <a href='https://wandb.ai/personal646/vision-encoder' target=\"_blank\">https://wandb.ai/personal646/vision-encoder</a>"
            ]
          },
          "metadata": {}
        },
        {
          "output_type": "display_data",
          "data": {
            "text/plain": [
              "<IPython.core.display.HTML object>"
            ],
            "text/html": [
              " View run at <a href='https://wandb.ai/personal646/vision-encoder/runs/amhn3w8y' target=\"_blank\">https://wandb.ai/personal646/vision-encoder/runs/amhn3w8y</a>"
            ]
          },
          "metadata": {}
        },
        {
          "output_type": "stream",
          "name": "stdout",
          "text": [
            "cuda:0\n",
            "epoch: 1 | train loss: 0.1050813327729702 | val loss: 0.05459740414978966 | \"train_feedback\": 0.233982269346714 | \"val_feedback\": 0.12017002701759338\n",
            "epoch: 2 | train loss: 0.04564864294230938 | val loss: 0.043571848274459916 | \"train_feedback\": 0.10045649254322052 | \"val_feedback\": 0.09889828413724899\n",
            "epoch: 3 | train loss: 0.031852530781179667 | val loss: 0.0363630261124363 | \"train_feedback\": 0.07025467923283576 | \"val_feedback\": 0.08533964306116104\n",
            "epoch: 4 | train loss: 0.026563409892842175 | val loss: 0.03490293791724576 | \"train_feedback\": 0.05837104159966111 | \"val_feedback\": 0.08347181230783463\n",
            "epoch: 5 | train loss: 0.022467896170914173 | val loss: 0.029528517379528947 | \"train_feedback\": 0.04979404670000076 | \"val_feedback\": 0.07058077305555344\n",
            "epoch: 6 | train loss: 0.01834269867092371 | val loss: 0.021622332448642406 | \"train_feedback\": 0.04021044134348631 | \"val_feedback\": 0.04992461949586868\n",
            "epoch: 7 | train loss: 0.015543910218402743 | val loss: 0.02161961758420581 | \"train_feedback\": 0.03415391037240625 | \"val_feedback\": 0.053303200751543045\n",
            "epoch: 8 | train loss: 0.014568580381572247 | val loss: 0.020583930987096023 | \"train_feedback\": 0.031977996192872525 | \"val_feedback\": 0.04954461380839348\n",
            "epoch: 9 | train loss: 0.014006512019783259 | val loss: 0.021156613833256184 | \"train_feedback\": 0.03132935636863112 | \"val_feedback\": 0.051755618304014206\n",
            "epoch: 10 | train loss: 0.01602912497892976 | val loss: 0.017256525130794634 | \"train_feedback\": 0.03578733893856406 | \"val_feedback\": 0.04152834787964821\n",
            "epoch: 11 | train loss: 0.011290170985274017 | val loss: 0.018790893352753114 | \"train_feedback\": 0.025424958979710935 | \"val_feedback\": 0.04450741410255432\n",
            "epoch: 12 | train loss: 0.010532742048613727 | val loss: 0.01563082044825904 | \"train_feedback\": 0.022939116824418307 | \"val_feedback\": 0.0381610281765461\n",
            "epoch: 13 | train loss: 0.009679938175715505 | val loss: 0.017164202687877512 | \"train_feedback\": 0.021458535816520453 | \"val_feedback\": 0.043111734092235565\n",
            "epoch: 14 | train loss: 0.009938928760588168 | val loss: 0.015579366513217488 | \"train_feedback\": 0.02173444764316082 | \"val_feedback\": 0.037506215274333954\n"
          ]
        },
        {
          "output_type": "display_data",
          "data": {
            "text/plain": [
              "VBox(children=(Label(value='0.003 MB of 0.003 MB uploaded\\r'), FloatProgress(value=1.0, max=1.0)))"
            ],
            "application/vnd.jupyter.widget-view+json": {
              "version_major": 2,
              "version_minor": 0,
              "model_id": "fe0a80634e9b48ef9f75071a9973633a"
            }
          },
          "metadata": {}
        },
        {
          "output_type": "display_data",
          "data": {
            "text/plain": [
              "<IPython.core.display.HTML object>"
            ],
            "text/html": [
              "<style>\n",
              "    table.wandb td:nth-child(1) { padding: 0 10px; text-align: left ; width: auto;} td:nth-child(2) {text-align: left ; width: 100%}\n",
              "    .wandb-row { display: flex; flex-direction: row; flex-wrap: wrap; justify-content: flex-start; width: 100% }\n",
              "    .wandb-col { display: flex; flex-direction: column; flex-basis: 100%; flex: 1; padding: 10px; }\n",
              "    </style>\n",
              "<div class=\"wandb-row\"><div class=\"wandb-col\"><h3>Run history:</h3><br/><table class=\"wandb\"><tr><td>epoch</td><td>▁▂▂▃▃▄▄▅▅▆▆▇▇█</td></tr><tr><td>train_feedback</td><td>█▄▃▂▂▂▁▁▁▁▁▁▁▁</td></tr><tr><td>train_loss</td><td>█▄▃▂▂▂▁▁▁▁▁▁▁▁</td></tr><tr><td>val_feedback</td><td>█▆▅▅▄▂▂▂▂▁▂▁▁▁</td></tr><tr><td>val_loss</td><td>█▆▅▄▄▂▂▂▂▁▂▁▁▁</td></tr></table><br/></div><div class=\"wandb-col\"><h3>Run summary:</h3><br/><table class=\"wandb\"><tr><td>epoch</td><td>14</td></tr><tr><td>train_feedback</td><td>0.02173</td></tr><tr><td>train_loss</td><td>0.00994</td></tr><tr><td>val_feedback</td><td>0.03751</td></tr><tr><td>val_loss</td><td>0.01558</td></tr></table><br/></div></div>"
            ]
          },
          "metadata": {}
        },
        {
          "output_type": "display_data",
          "data": {
            "text/plain": [
              "<IPython.core.display.HTML object>"
            ],
            "text/html": [
              " View run <strong style=\"color:#cdcd00\">1-view + depth, unfrozen resnet, single input</strong> at: <a href='https://wandb.ai/personal646/vision-encoder/runs/amhn3w8y' target=\"_blank\">https://wandb.ai/personal646/vision-encoder/runs/amhn3w8y</a><br/>Synced 5 W&B file(s), 0 media file(s), 0 artifact file(s) and 14 other file(s)"
            ]
          },
          "metadata": {}
        },
        {
          "output_type": "display_data",
          "data": {
            "text/plain": [
              "<IPython.core.display.HTML object>"
            ],
            "text/html": [
              "Find logs at: <code>./wandb/run-20231206_140158-amhn3w8y/logs</code>"
            ]
          },
          "metadata": {}
        }
      ]
    },
    {
      "cell_type": "code",
      "source": [
        "# 1-view + depth, frozen resnet, single input\n",
        "models.append(\n",
        "    main(RobotNet(N_DIM1, N_DIM2, n_input_channels=2, num_inputs=1, multi_input=False, freeze_resnet=True),\n",
        "         RobotImageDataset('/content/UR5_positions_3.csv', '/content/images', file_names = [\"front_view_\",\"front_depth_view_\"]),\n",
        "         experiment_title=\"1-view + depth, frozen resnet, single input\")\n",
        "    )"
      ],
      "metadata": {
        "id": "ChSbcbnR23B6",
        "colab": {
          "base_uri": "https://localhost:8080/",
          "height": 693,
          "referenced_widgets": [
            "5c025ef8ddd846b7a52e69bc65618496",
            "d4b4f66486374c98820362401d70b573",
            "99fb14ffefce41e8a5e22c7c14e18ac1",
            "293edeb38345440a95e683a76c677549",
            "71b41b6ec737473c93b4cb91da3e029b",
            "1d751235973240978751ec4580af93a1",
            "4704b28971f14e4ea11aec7d366a6333",
            "7cb9d4b1ccc34830aaf775379b85b810"
          ]
        },
        "outputId": "edd92371-9ea8-4ea2-cee2-8bff446117d2"
      },
      "execution_count": null,
      "outputs": [
        {
          "output_type": "stream",
          "name": "stderr",
          "text": [
            "/usr/local/lib/python3.10/dist-packages/torchvision/transforms/v2/_deprecated.py:41: UserWarning: The transform `ToTensor()` is deprecated and will be removed in a future release. Instead, please use `transforms.Compose([transforms.ToImageTensor(), transforms.ConvertImageDtype()])`.\n",
            "  warnings.warn(\n"
          ]
        },
        {
          "output_type": "display_data",
          "data": {
            "text/plain": [
              "<IPython.core.display.HTML object>"
            ],
            "text/html": [
              "wandb version 0.16.1 is available!  To upgrade, please run:\n",
              " $ pip install wandb --upgrade"
            ]
          },
          "metadata": {}
        },
        {
          "output_type": "display_data",
          "data": {
            "text/plain": [
              "<IPython.core.display.HTML object>"
            ],
            "text/html": [
              "Tracking run with wandb version 0.16.0"
            ]
          },
          "metadata": {}
        },
        {
          "output_type": "display_data",
          "data": {
            "text/plain": [
              "<IPython.core.display.HTML object>"
            ],
            "text/html": [
              "Run data is saved locally in <code>/content/wandb/run-20231206_142732-dy1j36iv</code>"
            ]
          },
          "metadata": {}
        },
        {
          "output_type": "display_data",
          "data": {
            "text/plain": [
              "<IPython.core.display.HTML object>"
            ],
            "text/html": [
              "Syncing run <strong><a href='https://wandb.ai/personal646/vision-encoder/runs/dy1j36iv' target=\"_blank\">1-view + depth, frozen resnet, single input</a></strong> to <a href='https://wandb.ai/personal646/vision-encoder' target=\"_blank\">Weights & Biases</a> (<a href='https://wandb.me/run' target=\"_blank\">docs</a>)<br/>"
            ]
          },
          "metadata": {}
        },
        {
          "output_type": "display_data",
          "data": {
            "text/plain": [
              "<IPython.core.display.HTML object>"
            ],
            "text/html": [
              " View project at <a href='https://wandb.ai/personal646/vision-encoder' target=\"_blank\">https://wandb.ai/personal646/vision-encoder</a>"
            ]
          },
          "metadata": {}
        },
        {
          "output_type": "display_data",
          "data": {
            "text/plain": [
              "<IPython.core.display.HTML object>"
            ],
            "text/html": [
              " View run at <a href='https://wandb.ai/personal646/vision-encoder/runs/dy1j36iv' target=\"_blank\">https://wandb.ai/personal646/vision-encoder/runs/dy1j36iv</a>"
            ]
          },
          "metadata": {}
        },
        {
          "output_type": "stream",
          "name": "stdout",
          "text": [
            "cuda:0\n",
            "epoch: 1 | train loss: 0.2231491416990757 | val loss: 0.16206417682151947 | \"train_feedback\": 0.49950165283679965 | \"val_feedback\": 0.3596612513065338\n",
            "epoch: 2 | train loss: 0.145930046916008 | val loss: 0.14041163713212998 | \"train_feedback\": 0.32371408277750013 | \"val_feedback\": 0.31078287959098816\n",
            "epoch: 3 | train loss: 0.13325127109885215 | val loss: 0.1318006809978258 | \"train_feedback\": 0.29511818653345107 | \"val_feedback\": 0.2947863042354584\n",
            "epoch: 4 | train loss: 0.12519664293527602 | val loss: 0.12419836684351876 | \"train_feedback\": 0.2777219667434692 | \"val_feedback\": 0.2761501371860504\n",
            "epoch: 5 | train loss: 0.11737435802817345 | val loss: 0.12217655458620616 | \"train_feedback\": 0.26001243048906325 | \"val_feedback\": 0.27349773049354553\n",
            "epoch: 6 | train loss: 0.11549668139219284 | val loss: 0.11726530156438313 | \"train_feedback\": 0.2561355906128883 | \"val_feedback\": 0.2597138583660126\n",
            "epoch: 7 | train loss: 0.10896122950315476 | val loss: 0.11501218366717535 | \"train_feedback\": 0.2413091734647751 | \"val_feedback\": 0.2559494376182556\n",
            "epoch: 8 | train loss: 0.10521762147545814 | val loss: 0.10823770990920445 | \"train_feedback\": 0.2329670580625534 | \"val_feedback\": 0.2400149255990982\n",
            "epoch: 9 | train loss: 0.10143039678037166 | val loss: 0.1112795758341986 | \"train_feedback\": 0.22476895588636397 | \"val_feedback\": 0.24765229225158691\n",
            "epoch: 10 | train loss: 0.09809026917815208 | val loss: 0.10844515914481784 | \"train_feedback\": 0.21755033650994302 | \"val_feedback\": 0.240020290017128\n",
            "epoch: 11 | train loss: 0.09617256958782673 | val loss: 0.10630733685361014 | \"train_feedback\": 0.21338179218769074 | \"val_feedback\": 0.23608165979385376\n",
            "epoch: 12 | train loss: 0.09274026373028756 | val loss: 0.10027111487256156 | \"train_feedback\": 0.20569585555791856 | \"val_feedback\": 0.22310154139995575\n",
            "epoch: 13 | train loss: 0.09140192739665508 | val loss: 0.10328091000990262 | \"train_feedback\": 0.20258835557103158 | \"val_feedback\": 0.2299790382385254\n",
            "epoch: 14 | train loss: 0.08861248487234116 | val loss: 0.10811213510377067 | \"train_feedback\": 0.19621602362394333 | \"val_feedback\": 0.24692313373088837\n"
          ]
        },
        {
          "output_type": "display_data",
          "data": {
            "text/plain": [
              "VBox(children=(Label(value='0.003 MB of 629.740 MB uploaded\\r'), FloatProgress(value=4.107033857623868e-06, ma…"
            ],
            "application/vnd.jupyter.widget-view+json": {
              "version_major": 2,
              "version_minor": 0,
              "model_id": "5c025ef8ddd846b7a52e69bc65618496"
            }
          },
          "metadata": {}
        },
        {
          "output_type": "display_data",
          "data": {
            "text/plain": [
              "<IPython.core.display.HTML object>"
            ],
            "text/html": [
              "<style>\n",
              "    table.wandb td:nth-child(1) { padding: 0 10px; text-align: left ; width: auto;} td:nth-child(2) {text-align: left ; width: 100%}\n",
              "    .wandb-row { display: flex; flex-direction: row; flex-wrap: wrap; justify-content: flex-start; width: 100% }\n",
              "    .wandb-col { display: flex; flex-direction: column; flex-basis: 100%; flex: 1; padding: 10px; }\n",
              "    </style>\n",
              "<div class=\"wandb-row\"><div class=\"wandb-col\"><h3>Run history:</h3><br/><table class=\"wandb\"><tr><td>epoch</td><td>▁▂▂▃▃▄▄▅▅▆▆▇▇█</td></tr><tr><td>train_feedback</td><td>█▄▃▃▂▂▂▂▂▁▁▁▁▁</td></tr><tr><td>train_loss</td><td>█▄▃▃▂▂▂▂▂▁▁▁▁▁</td></tr><tr><td>val_feedback</td><td>█▅▅▄▄▃▃▂▂▂▂▁▁▂</td></tr><tr><td>val_loss</td><td>█▆▅▄▃▃▃▂▂▂▂▁▁▂</td></tr></table><br/></div><div class=\"wandb-col\"><h3>Run summary:</h3><br/><table class=\"wandb\"><tr><td>epoch</td><td>14</td></tr><tr><td>train_feedback</td><td>0.19622</td></tr><tr><td>train_loss</td><td>0.08861</td></tr><tr><td>val_feedback</td><td>0.24692</td></tr><tr><td>val_loss</td><td>0.10811</td></tr></table><br/></div></div>"
            ]
          },
          "metadata": {}
        },
        {
          "output_type": "display_data",
          "data": {
            "text/plain": [
              "<IPython.core.display.HTML object>"
            ],
            "text/html": [
              " View run <strong style=\"color:#cdcd00\">1-view + depth, frozen resnet, single input</strong> at: <a href='https://wandb.ai/personal646/vision-encoder/runs/dy1j36iv' target=\"_blank\">https://wandb.ai/personal646/vision-encoder/runs/dy1j36iv</a><br/>Synced 5 W&B file(s), 0 media file(s), 0 artifact file(s) and 14 other file(s)"
            ]
          },
          "metadata": {}
        },
        {
          "output_type": "display_data",
          "data": {
            "text/plain": [
              "<IPython.core.display.HTML object>"
            ],
            "text/html": [
              "Find logs at: <code>./wandb/run-20231206_142732-dy1j36iv/logs</code>"
            ]
          },
          "metadata": {}
        }
      ]
    },
    {
      "cell_type": "code",
      "source": [
        "# 1-view + depth, frozen resnet, multi input\n",
        "models.append(\n",
        "    main(RobotNet(N_DIM1, N_DIM2, n_input_channels=1, num_inputs=2, multi_input=True, freeze_resnet=True),\n",
        "         RobotImageDataset('/content/UR5_positions_3.csv', '/content/images', file_names = [\"front_view_\",\"front_depth_view_\"]),\n",
        "         experiment_title=\"1-view + depth, frozen resnet, multi input\")\n",
        "    )\n"
      ],
      "metadata": {
        "id": "KBzjOMwW237k",
        "colab": {
          "base_uri": "https://localhost:8080/",
          "height": 693,
          "referenced_widgets": [
            "442ae3c6fd3f412dbba1b7cf7c052858",
            "f676c9b11a4542668a4a604f34915c7f",
            "f6ccc57e752443ffa16796727da3488e",
            "45e30ff506b8491aa4427d2bab39016b",
            "3104865f5afe435cba3278ce84331210",
            "faabc0d1c3c44f9eb8fe64ad1bda1496",
            "e403454015e840d69361f44cfcca6446",
            "2a4f09b8f4c4456ab17f89715776ac75"
          ]
        },
        "outputId": "5fdd845c-3a9a-438c-a917-7ccd8be727fd"
      },
      "execution_count": null,
      "outputs": [
        {
          "output_type": "stream",
          "name": "stderr",
          "text": [
            "/usr/local/lib/python3.10/dist-packages/torchvision/transforms/v2/_deprecated.py:41: UserWarning: The transform `ToTensor()` is deprecated and will be removed in a future release. Instead, please use `transforms.Compose([transforms.ToImageTensor(), transforms.ConvertImageDtype()])`.\n",
            "  warnings.warn(\n"
          ]
        },
        {
          "output_type": "display_data",
          "data": {
            "text/plain": [
              "<IPython.core.display.HTML object>"
            ],
            "text/html": [
              "wandb version 0.16.1 is available!  To upgrade, please run:\n",
              " $ pip install wandb --upgrade"
            ]
          },
          "metadata": {}
        },
        {
          "output_type": "display_data",
          "data": {
            "text/plain": [
              "<IPython.core.display.HTML object>"
            ],
            "text/html": [
              "Tracking run with wandb version 0.16.0"
            ]
          },
          "metadata": {}
        },
        {
          "output_type": "display_data",
          "data": {
            "text/plain": [
              "<IPython.core.display.HTML object>"
            ],
            "text/html": [
              "Run data is saved locally in <code>/content/wandb/run-20231206_145213-avfq0ur2</code>"
            ]
          },
          "metadata": {}
        },
        {
          "output_type": "display_data",
          "data": {
            "text/plain": [
              "<IPython.core.display.HTML object>"
            ],
            "text/html": [
              "Syncing run <strong><a href='https://wandb.ai/personal646/vision-encoder/runs/avfq0ur2' target=\"_blank\">1-view + depth, frozen resnet, multi input</a></strong> to <a href='https://wandb.ai/personal646/vision-encoder' target=\"_blank\">Weights & Biases</a> (<a href='https://wandb.me/run' target=\"_blank\">docs</a>)<br/>"
            ]
          },
          "metadata": {}
        },
        {
          "output_type": "display_data",
          "data": {
            "text/plain": [
              "<IPython.core.display.HTML object>"
            ],
            "text/html": [
              " View project at <a href='https://wandb.ai/personal646/vision-encoder' target=\"_blank\">https://wandb.ai/personal646/vision-encoder</a>"
            ]
          },
          "metadata": {}
        },
        {
          "output_type": "display_data",
          "data": {
            "text/plain": [
              "<IPython.core.display.HTML object>"
            ],
            "text/html": [
              " View run at <a href='https://wandb.ai/personal646/vision-encoder/runs/avfq0ur2' target=\"_blank\">https://wandb.ai/personal646/vision-encoder/runs/avfq0ur2</a>"
            ]
          },
          "metadata": {}
        },
        {
          "output_type": "stream",
          "name": "stdout",
          "text": [
            "cuda:0\n",
            "epoch: 1 | train loss: 0.20996839213371277 | val loss: 0.15364813899237012 | \"train_feedback\": 0.4700480262041092 | \"val_feedback\": 0.3419075012207031\n",
            "epoch: 2 | train loss: 0.14427369874715806 | val loss: 0.13079283776737394 | \"train_feedback\": 0.3214510316848755 | \"val_feedback\": 0.2909909784793854\n",
            "epoch: 3 | train loss: 0.12871327006816863 | val loss: 0.13268981471894278 | \"train_feedback\": 0.28624582475423815 | \"val_feedback\": 0.2998344600200653\n",
            "epoch: 4 | train loss: 0.12040698701143265 | val loss: 0.11696436752875645 | \"train_feedback\": 0.26807440239191055 | \"val_feedback\": 0.26097190380096436\n",
            "epoch: 5 | train loss: 0.11242638692259789 | val loss: 0.11418336310556956 | \"train_feedback\": 0.2502204164564609 | \"val_feedback\": 0.2550511658191681\n",
            "epoch: 6 | train loss: 0.10509683991968631 | val loss: 0.11033539426705194 | \"train_feedback\": 0.2338296331167221 | \"val_feedback\": 0.24662522971630096\n",
            "epoch: 7 | train loss: 0.10118405331671237 | val loss: 0.10374500354131062 | \"train_feedback\": 0.22598205661773682 | \"val_feedback\": 0.23074430227279663\n",
            "epoch: 8 | train loss: 0.09727601420879364 | val loss: 0.10107793978282384 | \"train_feedback\": 0.21717261245846747 | \"val_feedback\": 0.2273096889257431\n",
            "epoch: 9 | train loss: 0.09267202831804752 | val loss: 0.09819783648801228 | \"train_feedback\": 0.20609382063150405 | \"val_feedback\": 0.22141100466251373\n",
            "epoch: 10 | train loss: 0.09039101542532443 | val loss: 0.09035807611450317 | \"train_feedback\": 0.201212035626173 | \"val_feedback\": 0.20119141042232513\n",
            "epoch: 11 | train loss: 0.08525159469246864 | val loss: 0.09703547690832426 | \"train_feedback\": 0.1892314904332161 | \"val_feedback\": 0.2172507792711258\n",
            "epoch: 12 | train loss: 0.08311338648200035 | val loss: 0.08965364955956974 | \"train_feedback\": 0.18474366769194603 | \"val_feedback\": 0.20049338042736053\n",
            "epoch: 13 | train loss: 0.07951985259354115 | val loss: 0.08543253033643677 | \"train_feedback\": 0.17616748425364495 | \"val_feedback\": 0.19144994020462036\n",
            "epoch: 14 | train loss: 0.07804432705044746 | val loss: 0.09154988494184282 | \"train_feedback\": 0.17307220205664633 | \"val_feedback\": 0.20276424288749695\n"
          ]
        },
        {
          "output_type": "display_data",
          "data": {
            "text/plain": [
              "VBox(children=(Label(value='0.003 MB of 0.003 MB uploaded\\r'), FloatProgress(value=1.0, max=1.0)))"
            ],
            "application/vnd.jupyter.widget-view+json": {
              "version_major": 2,
              "version_minor": 0,
              "model_id": "442ae3c6fd3f412dbba1b7cf7c052858"
            }
          },
          "metadata": {}
        },
        {
          "output_type": "display_data",
          "data": {
            "text/plain": [
              "<IPython.core.display.HTML object>"
            ],
            "text/html": [
              "<style>\n",
              "    table.wandb td:nth-child(1) { padding: 0 10px; text-align: left ; width: auto;} td:nth-child(2) {text-align: left ; width: 100%}\n",
              "    .wandb-row { display: flex; flex-direction: row; flex-wrap: wrap; justify-content: flex-start; width: 100% }\n",
              "    .wandb-col { display: flex; flex-direction: column; flex-basis: 100%; flex: 1; padding: 10px; }\n",
              "    </style>\n",
              "<div class=\"wandb-row\"><div class=\"wandb-col\"><h3>Run history:</h3><br/><table class=\"wandb\"><tr><td>epoch</td><td>▁▂▂▃▃▄▄▅▅▆▆▇▇█</td></tr><tr><td>train_feedback</td><td>█▄▄▃▃▂▂▂▂▂▁▁▁▁</td></tr><tr><td>train_loss</td><td>█▅▄▃▃▂▂▂▂▂▁▁▁▁</td></tr><tr><td>val_feedback</td><td>█▆▆▄▄▄▃▃▂▁▂▁▁▂</td></tr><tr><td>val_loss</td><td>█▆▆▄▄▄▃▃▂▂▂▁▁▂</td></tr></table><br/></div><div class=\"wandb-col\"><h3>Run summary:</h3><br/><table class=\"wandb\"><tr><td>epoch</td><td>14</td></tr><tr><td>train_feedback</td><td>0.17307</td></tr><tr><td>train_loss</td><td>0.07804</td></tr><tr><td>val_feedback</td><td>0.20276</td></tr><tr><td>val_loss</td><td>0.09155</td></tr></table><br/></div></div>"
            ]
          },
          "metadata": {}
        },
        {
          "output_type": "display_data",
          "data": {
            "text/plain": [
              "<IPython.core.display.HTML object>"
            ],
            "text/html": [
              " View run <strong style=\"color:#cdcd00\">1-view + depth, frozen resnet, multi input</strong> at: <a href='https://wandb.ai/personal646/vision-encoder/runs/avfq0ur2' target=\"_blank\">https://wandb.ai/personal646/vision-encoder/runs/avfq0ur2</a><br/>Synced 5 W&B file(s), 0 media file(s), 0 artifact file(s) and 14 other file(s)"
            ]
          },
          "metadata": {}
        },
        {
          "output_type": "display_data",
          "data": {
            "text/plain": [
              "<IPython.core.display.HTML object>"
            ],
            "text/html": [
              "Find logs at: <code>./wandb/run-20231206_145213-avfq0ur2/logs</code>"
            ]
          },
          "metadata": {}
        }
      ]
    },
    {
      "cell_type": "code",
      "source": [
        "\n",
        "# 1-view - depth, unfrozen resnet, single input\n",
        "models.append(\n",
        "    main(RobotNet(N_DIM1, N_DIM2, n_input_channels=1, num_inputs=1, multi_input=False, freeze_resnet=False),\n",
        "         RobotImageDataset('/content/UR5_positions_3.csv', '/content/images', file_names = [\"front_view_\"]),\n",
        "         experiment_title=\"1-view - depth, unfrozen resnet, single input\")\n",
        "    )\n"
      ],
      "metadata": {
        "id": "-yZh6Gku246Y",
        "colab": {
          "base_uri": "https://localhost:8080/",
          "height": 693,
          "referenced_widgets": [
            "b085226693b74b4fa21d0f4add81acbc",
            "c76082b758eb44129f4a0b26a45d5d01",
            "1247d09ec6f64f3493ecd35805d55cd8",
            "6b2ef9d2eb35498797dacd74a2a10ed2",
            "f77350fd8f4e41c6bb4eabe30470d2b0",
            "7264b6c99c4e4d48ba91fced709eba23",
            "08d3a71acfb44fd3ab96937242d4daaf",
            "0160de1eee4c4051bda13f5aa974cc58"
          ]
        },
        "outputId": "a30d6188-5aa8-4cce-cff4-80d520f2dd34"
      },
      "execution_count": null,
      "outputs": [
        {
          "output_type": "stream",
          "name": "stderr",
          "text": [
            "/usr/local/lib/python3.10/dist-packages/torchvision/transforms/v2/_deprecated.py:41: UserWarning: The transform `ToTensor()` is deprecated and will be removed in a future release. Instead, please use `transforms.Compose([transforms.ToImageTensor(), transforms.ConvertImageDtype()])`.\n",
            "  warnings.warn(\n"
          ]
        },
        {
          "output_type": "display_data",
          "data": {
            "text/plain": [
              "<IPython.core.display.HTML object>"
            ],
            "text/html": [
              "wandb version 0.16.1 is available!  To upgrade, please run:\n",
              " $ pip install wandb --upgrade"
            ]
          },
          "metadata": {}
        },
        {
          "output_type": "display_data",
          "data": {
            "text/plain": [
              "<IPython.core.display.HTML object>"
            ],
            "text/html": [
              "Tracking run with wandb version 0.16.0"
            ]
          },
          "metadata": {}
        },
        {
          "output_type": "display_data",
          "data": {
            "text/plain": [
              "<IPython.core.display.HTML object>"
            ],
            "text/html": [
              "Run data is saved locally in <code>/content/wandb/run-20231206_151915-b8yrxofg</code>"
            ]
          },
          "metadata": {}
        },
        {
          "output_type": "display_data",
          "data": {
            "text/plain": [
              "<IPython.core.display.HTML object>"
            ],
            "text/html": [
              "Syncing run <strong><a href='https://wandb.ai/personal646/vision-encoder/runs/b8yrxofg' target=\"_blank\">1-view - depth, unfrozen resnet, single input</a></strong> to <a href='https://wandb.ai/personal646/vision-encoder' target=\"_blank\">Weights & Biases</a> (<a href='https://wandb.me/run' target=\"_blank\">docs</a>)<br/>"
            ]
          },
          "metadata": {}
        },
        {
          "output_type": "display_data",
          "data": {
            "text/plain": [
              "<IPython.core.display.HTML object>"
            ],
            "text/html": [
              " View project at <a href='https://wandb.ai/personal646/vision-encoder' target=\"_blank\">https://wandb.ai/personal646/vision-encoder</a>"
            ]
          },
          "metadata": {}
        },
        {
          "output_type": "display_data",
          "data": {
            "text/plain": [
              "<IPython.core.display.HTML object>"
            ],
            "text/html": [
              " View run at <a href='https://wandb.ai/personal646/vision-encoder/runs/b8yrxofg' target=\"_blank\">https://wandb.ai/personal646/vision-encoder/runs/b8yrxofg</a>"
            ]
          },
          "metadata": {}
        },
        {
          "output_type": "stream",
          "name": "stdout",
          "text": [
            "cuda:0\n",
            "epoch: 1 | train loss: 0.10495999111235142 | val loss: 0.06317230083403133 | \"train_feedback\": 0.2350211624801159 | \"val_feedback\": 0.1410452425479889\n",
            "epoch: 2 | train loss: 0.049437615387141705 | val loss: 0.045428713576661214 | \"train_feedback\": 0.11013778549432754 | \"val_feedback\": 0.10166344791650772\n",
            "epoch: 3 | train loss: 0.037341251026839016 | val loss: 0.035965231971608266 | \"train_feedback\": 0.08327492823451757 | \"val_feedback\": 0.08025573194026947\n",
            "epoch: 4 | train loss: 0.0287548732124269 | val loss: 0.0328314799283232 | \"train_feedback\": 0.06496463251113892 | \"val_feedback\": 0.0751873180270195\n",
            "epoch: 5 | train loss: 0.02466659816727042 | val loss: 0.030571376195266134 | \"train_feedback\": 0.05607229101657867 | \"val_feedback\": 0.07263754308223724\n",
            "epoch: 6 | train loss: 0.021246824411675334 | val loss: 0.023533217727191864 | \"train_feedback\": 0.0476228182464838 | \"val_feedback\": 0.055056143552064896\n",
            "epoch: 7 | train loss: 0.018105107229202985 | val loss: 0.023962979751919942 | \"train_feedback\": 0.04122397958114743 | \"val_feedback\": 0.056350208818912506\n",
            "epoch: 8 | train loss: 0.01735769647732377 | val loss: 0.02248557246038838 | \"train_feedback\": 0.03960937138274312 | \"val_feedback\": 0.05339880660176277\n",
            "epoch: 9 | train loss: 0.014745444281026721 | val loss: 0.01992036782145973 | \"train_feedback\": 0.033423993844538924 | \"val_feedback\": 0.04869261011481285\n",
            "epoch: 10 | train loss: 0.015493914511054755 | val loss: 0.018078113536513042 | \"train_feedback\": 0.03600549093261361 | \"val_feedback\": 0.04380614683032036\n",
            "epoch: 11 | train loss: 0.014267839963547885 | val loss: 0.017464003281756527 | \"train_feedback\": 0.03276779543235898 | \"val_feedback\": 0.04229069501161575\n",
            "epoch: 12 | train loss: 0.010783652412705123 | val loss: 0.017533404102164602 | \"train_feedback\": 0.024336771784350276 | \"val_feedback\": 0.04388955608010292\n",
            "epoch: 13 | train loss: 0.00970205224957317 | val loss: 0.017859558914861982 | \"train_feedback\": 0.021751072445884347 | \"val_feedback\": 0.044614262878894806\n",
            "epoch: 14 | train loss: 0.008345071039162577 | val loss: 0.01672068822182833 | \"train_feedback\": 0.01848102324269712 | \"val_feedback\": 0.040920063853263855\n"
          ]
        },
        {
          "output_type": "display_data",
          "data": {
            "text/plain": [
              "VBox(children=(Label(value='0.003 MB of 0.003 MB uploaded\\r'), FloatProgress(value=1.0, max=1.0)))"
            ],
            "application/vnd.jupyter.widget-view+json": {
              "version_major": 2,
              "version_minor": 0,
              "model_id": "b085226693b74b4fa21d0f4add81acbc"
            }
          },
          "metadata": {}
        },
        {
          "output_type": "display_data",
          "data": {
            "text/plain": [
              "<IPython.core.display.HTML object>"
            ],
            "text/html": [
              "<style>\n",
              "    table.wandb td:nth-child(1) { padding: 0 10px; text-align: left ; width: auto;} td:nth-child(2) {text-align: left ; width: 100%}\n",
              "    .wandb-row { display: flex; flex-direction: row; flex-wrap: wrap; justify-content: flex-start; width: 100% }\n",
              "    .wandb-col { display: flex; flex-direction: column; flex-basis: 100%; flex: 1; padding: 10px; }\n",
              "    </style>\n",
              "<div class=\"wandb-row\"><div class=\"wandb-col\"><h3>Run history:</h3><br/><table class=\"wandb\"><tr><td>epoch</td><td>▁▂▂▃▃▄▄▅▅▆▆▇▇█</td></tr><tr><td>train_feedback</td><td>█▄▃▃▂▂▂▂▁▂▁▁▁▁</td></tr><tr><td>train_loss</td><td>█▄▃▂▂▂▂▂▁▂▁▁▁▁</td></tr><tr><td>val_feedback</td><td>█▅▄▃▃▂▂▂▂▁▁▁▁▁</td></tr><tr><td>val_loss</td><td>█▅▄▃▃▂▂▂▁▁▁▁▁▁</td></tr></table><br/></div><div class=\"wandb-col\"><h3>Run summary:</h3><br/><table class=\"wandb\"><tr><td>epoch</td><td>14</td></tr><tr><td>train_feedback</td><td>0.01848</td></tr><tr><td>train_loss</td><td>0.00835</td></tr><tr><td>val_feedback</td><td>0.04092</td></tr><tr><td>val_loss</td><td>0.01672</td></tr></table><br/></div></div>"
            ]
          },
          "metadata": {}
        },
        {
          "output_type": "display_data",
          "data": {
            "text/plain": [
              "<IPython.core.display.HTML object>"
            ],
            "text/html": [
              " View run <strong style=\"color:#cdcd00\">1-view - depth, unfrozen resnet, single input</strong> at: <a href='https://wandb.ai/personal646/vision-encoder/runs/b8yrxofg' target=\"_blank\">https://wandb.ai/personal646/vision-encoder/runs/b8yrxofg</a><br/>Synced 5 W&B file(s), 0 media file(s), 0 artifact file(s) and 14 other file(s)"
            ]
          },
          "metadata": {}
        },
        {
          "output_type": "display_data",
          "data": {
            "text/plain": [
              "<IPython.core.display.HTML object>"
            ],
            "text/html": [
              "Find logs at: <code>./wandb/run-20231206_151915-b8yrxofg/logs</code>"
            ]
          },
          "metadata": {}
        }
      ]
    },
    {
      "cell_type": "code",
      "source": [
        "multi_model = RobotNet(128,32, n_input_channels=6)\n",
        "multi_model.load_state_dict(torch.load('/content/model_state.pth'))"
      ],
      "metadata": {
        "colab": {
          "base_uri": "https://localhost:8080/"
        },
        "id": "rwf7j1tUX-mo",
        "outputId": "5dee17f2-73d5-4b8d-fd01-f6cb1053bbf9"
      },
      "execution_count": null,
      "outputs": [
        {
          "output_type": "execute_result",
          "data": {
            "text/plain": [
              "<All keys matched successfully>"
            ]
          },
          "metadata": {},
          "execution_count": 106
        }
      ]
    },
    {
      "cell_type": "code",
      "source": [
        "robotdata = RobotImageDataset('/content/UR5_positions_3.csv', '/content/images', multi_input=False)\n",
        "loader = DataLoader(robotdata, batch_size=32, shuffle=True)"
      ],
      "metadata": {
        "colab": {
          "base_uri": "https://localhost:8080/"
        },
        "id": "SRf00I3nYQx0",
        "outputId": "22aac495-ce72-48c0-ec83-5e11940b3d58"
      },
      "execution_count": null,
      "outputs": [
        {
          "output_type": "stream",
          "name": "stderr",
          "text": [
            "/usr/local/lib/python3.10/dist-packages/torchvision/transforms/v2/_deprecated.py:41: UserWarning: The transform `ToTensor()` is deprecated and will be removed in a future release. Instead, please use `transforms.Compose([transforms.ToImageTensor(), transforms.ConvertImageDtype()])`.\n",
            "  warnings.warn(\n"
          ]
        }
      ]
    },
    {
      "cell_type": "code",
      "source": [
        "running_loss = 0.0\n",
        "fback = 0.0\n",
        "device = 'cpu'\n",
        "loss_f = nn.MSELoss()\n",
        "feed = nn.MSELoss()\n",
        "\n",
        "with torch.no_grad():\n",
        "    for i, data in enumerate(loader):\n",
        "        im1 = data['images']\n",
        "        y = data['joint_values'].float()\n",
        "        preds = multi_model(im1).float()\n",
        "        preds_hat = torch.cat([torch.sin(preds),torch.cos(preds)],dim=1)\n",
        "        y_hat = torch.cat([torch.sin(y),torch.cos(y)],dim=1)\n",
        "        loss = loss_f(preds_hat, y_hat)\n",
        "        running_loss +=loss.item()\n",
        "        feed_l = feed(preds,y)\n",
        "        fback += feed_l.item()\n",
        "        print(loss.item(),feed_l.item())\n",
        "        print(f'gt: {y}, pred: {preds}')\n",
        "        input()\n",
        "\n",
        "val_loss = running_loss/(i+1)\n",
        "feed_loss = fback/(i+1)"
      ],
      "metadata": {
        "id": "pxZTTAuzYTpY"
      },
      "execution_count": null,
      "outputs": []
    },
    {
      "cell_type": "code",
      "source": [
        "%%shell\n"
      ],
      "metadata": {
        "id": "LCjGDDbKEhmB"
      },
      "execution_count": null,
      "outputs": []
    },
    {
      "cell_type": "markdown",
      "source": [
        "##DATA VIZ"
      ],
      "metadata": {
        "id": "XoDnXbnkMx0l"
      }
    },
    {
      "cell_type": "markdown",
      "source": [
        "###loss plots"
      ],
      "metadata": {
        "id": "t54aHj_DzaqW"
      }
    },
    {
      "cell_type": "code",
      "source": [
        "train_dat = pd.read_csv('/content/train.csv')\n",
        "train_dat = train_dat.loc[:,~train_dat.apply(lambda x: x.duplicated(),axis=1).all()].copy()\n",
        "val_dat = pd.read_csv('/content/val.csv')\n",
        "val_dat = val_dat.loc[:,~val_dat.apply(lambda x: x.duplicated(),axis=1).all()].copy()"
      ],
      "metadata": {
        "id": "1Vx2CdEsie3T"
      },
      "execution_count": null,
      "outputs": []
    },
    {
      "cell_type": "code",
      "source": [
        "[i[:-13] for i in list(train_dat.columns)[1:]]"
      ],
      "metadata": {
        "colab": {
          "base_uri": "https://localhost:8080/"
        },
        "id": "1_Tjwnr9OX1B",
        "outputId": "eb7cfc7d-a247-4e85-c68b-73f410409704"
      },
      "execution_count": null,
      "outputs": [
        {
          "output_type": "execute_result",
          "data": {
            "text/plain": [
              "['1-view - depth, unfrozen resnet, single input',\n",
              " '1-view + depth, frozen resnet, multi input',\n",
              " '1-view + depth, frozen resnet, single input',\n",
              " '1-view + depth, unfrozen resnet, single input',\n",
              " '3-view - depth, unfrozen resnet, single input',\n",
              " '3-view + depth, frozen resnet, multi input',\n",
              " '3-view + depth, frozen resnet, single input',\n",
              " '3-view + depth, unfrozen resnet, single input',\n",
              " '5-view - depth, unfrozen resnet, single input',\n",
              " '5-view + depth, frozen resnet, multi input',\n",
              " '5-view + depth, frozen resnet, single input',\n",
              " '5-view + depth, unfrozen resnet, single input']"
            ]
          },
          "metadata": {},
          "execution_count": 47
        }
      ]
    },
    {
      "cell_type": "code",
      "source": [
        "len(train_dat)"
      ],
      "metadata": {
        "colab": {
          "base_uri": "https://localhost:8080/"
        },
        "id": "l5CUsyuAOqON",
        "outputId": "19848b73-8435-4e7e-b5b6-82d4d681dddb"
      },
      "execution_count": null,
      "outputs": [
        {
          "output_type": "execute_result",
          "data": {
            "text/plain": [
              "14"
            ]
          },
          "metadata": {},
          "execution_count": 25
        }
      ]
    },
    {
      "cell_type": "code",
      "source": [
        "matplotlib.rcParams.update({'font.size': 10})\n",
        "\n",
        "fig,axs = plt.subplots(1,2, figsize=(23, 8))\n",
        "\n",
        "tr = train_dat.to_numpy()[:,1:]\n",
        "va = val_dat.to_numpy()[:,1:]\n",
        "tr_names = [i[:-13] for i in list(train_dat.columns)[1:]]\n",
        "va_names = [i[:-13] for i in list(val_dat.columns)[1:]]\n",
        "for idx in range(12):\n",
        "    axs[0].plot(tr[:,idx], label=tr_names[idx])\n",
        "    axs[1].plot(va[:,idx], label=va_names[idx])\n",
        "\n",
        "\n",
        "axs[0].set_xlabel('epoch')\n",
        "axs[0].set_ylabel('loss')\n",
        "axs[0].legend()\n",
        "axs[0].set_ylim([0,.25])\n",
        "axs[0].title.set_fontsize(16)\n",
        "axs[0].xaxis.label.set_fontsize(16)\n",
        "axs[0].yaxis.label.set_fontsize(16)\n",
        "\n",
        "\n",
        "axs[1].set_xlabel('epoch')\n",
        "axs[1].set_ylabel('loss')\n",
        "axs[1].legend()\n",
        "axs[1].set_ylim([0,.25])\n",
        "axs[1].title.set_fontsize(16)\n",
        "axs[1].xaxis.label.set_fontsize(16)\n",
        "axs[1].yaxis.label.set_fontsize(16)\n",
        "# axs[1].xticklabels().set_fontsize(13)\n",
        "# axs[1].get_legend().get_texts().set_fontsize(13)\n",
        "\n",
        "\n",
        "\n",
        "# plt.rc('font', size=10)          # controls default text sizes\n",
        "# plt.rc('axes', titlesize=15)     # fontsize of the axes title\n",
        "# plt.rc('axes', labelsize=12)    # fontsize of the x and y labels\n",
        "# plt.rc('xtick', labelsize=12)    # fontsize of the tick labels\n",
        "# plt.rc('ytick', labelsize=10)    # fontsize of the tick labels\n",
        "# plt.rc('legend', fontsize=12)    # legend fontsize\n",
        "# plt.rc('figure', titlesize=20)  # fontsize of the figure title"
      ],
      "metadata": {
        "colab": {
          "base_uri": "https://localhost:8080/",
          "height": 569
        },
        "id": "iHKEoae_ngk_",
        "outputId": "95d47ddb-4561-4c5c-96b6-95406f9102a0"
      },
      "execution_count": null,
      "outputs": [
        {
          "output_type": "display_data",
          "data": {
            "text/plain": [
              "<Figure size 2300x800 with 2 Axes>"
            ],
            "image/png": "[encoded data removed]"
          },
          "metadata": {}
        }
      ]
    },
    {
      "cell_type": "code",
      "source": [
        "fig,axs = plt.subplots(1,1, figsize=(10, 10))\n",
        "\n",
        "tr = train_dat.to_numpy()[:,1:]\n",
        "va = val_dat.to_numpy()[:,1:]\n",
        "tr_names = [i[:-13] for i in list(train_dat.columns)[1:]]\n",
        "va_names = [i[:-13] for i in list(val_dat.columns)[1:]]\n",
        "for idx in range(12):\n",
        "    axs.plot(tr[:,idx], label=tr_names[idx])\n",
        "    # axs[1].plot(va[:,idx], label=va_names[idx])\n",
        "\n",
        "\n",
        "axs.set_xlabel('epoch')\n",
        "axs.set_ylabel('loss')\n",
        "axs.legend()\n",
        "axs.set_ylim([0,.25])\n",
        "axs.title.set_fontsize(16)\n",
        "axs.xaxis.label.set_fontsize(16)\n",
        "axs.yaxis.label.set_fontsize(16)\n",
        "fig.savefig('trainloss.png')"
      ],
      "metadata": {
        "colab": {
          "base_uri": "https://localhost:8080/",
          "height": 861
        },
        "id": "jVt7v7dTuYZn",
        "outputId": "a00d4a1a-b729-4577-8270-5387d0c32721"
      },
      "execution_count": null,
      "outputs": [
        {
          "output_type": "display_data",
          "data": {
            "text/plain": [
              "<Figure size 1000x1000 with 1 Axes>"
            ],
            "image/png": "[encoded data removed]"
          },
          "metadata": {}
        }
      ]
    },
    {
      "cell_type": "code",
      "source": [
        "fig,axs = plt.subplots(1,1, figsize=(10, 10))\n",
        "\n",
        "tr = train_dat.to_numpy()[:,1:]\n",
        "va = val_dat.to_numpy()[:,1:]\n",
        "tr_names = [i[:-13] for i in list(train_dat.columns)[1:]]\n",
        "va_names = [i[:-13] for i in list(val_dat.columns)[1:]]\n",
        "for idx in range(12):\n",
        "    axs.plot(va[:,idx], label=va_names[idx])\n",
        "    # axs[1].plot(va[:,idx], label=va_names[idx])\n",
        "\n",
        "\n",
        "axs.set_xlabel('epoch')\n",
        "axs.set_ylabel('loss')\n",
        "axs.legend()\n",
        "axs.set_ylim([0,.25])\n",
        "axs.title.set_fontsize(16)\n",
        "axs.xaxis.label.set_fontsize(16)\n",
        "axs.yaxis.label.set_fontsize(16)\n",
        "fig.savefig('valloss.png')"
      ],
      "metadata": {
        "colab": {
          "base_uri": "https://localhost:8080/",
          "height": 861
        },
        "id": "pWmWFWnSuqau",
        "outputId": "fd6df560-8d56-49ba-de2d-8c59ee9cb537"
      },
      "execution_count": null,
      "outputs": [
        {
          "output_type": "display_data",
          "data": {
            "text/plain": [
              "<Figure size 1000x1000 with 1 Axes>"
            ],
            "image/png": "[encoded data removed]"
          },
          "metadata": {}
        }
      ]
    },
    {
      "cell_type": "code",
      "source": [
        "axs[0].savefig('lossplots.png')"
      ],
      "metadata": {
        "colab": {
          "base_uri": "https://localhost:8080/",
          "height": 175
        },
        "id": "InydTiqjNgVQ",
        "outputId": "ed3b10db-0743-419c-cc5c-ae2c1f6ed1f4"
      },
      "execution_count": null,
      "outputs": [
        {
          "output_type": "error",
          "ename": "AttributeError",
          "evalue": "ignored",
          "traceback": [
            "\u001b[0;31m---------------------------------------------------------------------------\u001b[0m",
            "\u001b[0;31mAttributeError\u001b[0m                            Traceback (most recent call last)",
            "\u001b[0;32m<ipython-input-99-d9f5be0dd8b9>\u001b[0m in \u001b[0;36m<cell line: 1>\u001b[0;34m()\u001b[0m\n\u001b[0;32m----> 1\u001b[0;31m \u001b[0maxs\u001b[0m\u001b[0;34m[\u001b[0m\u001b[0;36m0\u001b[0m\u001b[0;34m]\u001b[0m\u001b[0;34m.\u001b[0m\u001b[0msavefig\u001b[0m\u001b[0;34m(\u001b[0m\u001b[0;34m'lossplots.png'\u001b[0m\u001b[0;34m)\u001b[0m\u001b[0;34m\u001b[0m\u001b[0;34m\u001b[0m\u001b[0m\n\u001b[0m",
            "\u001b[0;31mAttributeError\u001b[0m: 'Axes' object has no attribute 'savefig'"
          ]
        }
      ]
    },
    {
      "cell_type": "code",
      "source": [
        "b = train_dat.loc[:,~train_dat.apply(lambda x: x.duplicated(),axis=1).all()].copy()\n"
      ],
      "metadata": {
        "id": "BfuKx7RePpSp"
      },
      "execution_count": null,
      "outputs": []
    },
    {
      "cell_type": "markdown",
      "source": [
        "###accuracy"
      ],
      "metadata": {
        "id": "NNVt5H5azdJD"
      }
    },
    {
      "cell_type": "code",
      "source": [
        "#models to test\n",
        "N_DIM1 = 128\n",
        "N_DIM2 = 32\n",
        "\n",
        "model_dir_paths = [\n",
        "      \"5-view + depth, unfrozen resnet, single input\",\n",
        "      \"5-view + depth, frozen resnet, single input\",\n",
        "      \"5-view + depth, frozen resnet, multi input\",\n",
        "      \"5-view - depth, unfrozen resnet, single input\",\n",
        "      \"3-view + depth, unfrozen resnet, single input\",\n",
        "      \"3-view + depth, frozen resnet, single input\",\n",
        "      \"3-view + depth, frozen resnet, multi input\",\n",
        "      \"3-view - depth, unfrozen resnet, single input\",\n",
        "      \"1-view + depth, unfrozen resnet, single input\",\n",
        "      \"1-view + depth, frozen resnet, single input\",\n",
        "      \"1-view + depth, frozen resnet, multi input\",\n",
        "      \"1-view - depth, unfrozen resnet, single input\"\n",
        "]\n",
        "\n",
        "model_datas = [\n",
        "    RobotImageDataset('/content/UR5_positions_3.csv', '/content/images', file_names = [\"side_view_\",\"front_view_\",\"top_view_\",\"corner1_view_\",\"corner2_view_\",\"side_depth_view_\",\"front_depth_view_\",\"top_depth_view_\",\"corner1_depth_view_\",\"corner2_depth_view_\"]),\n",
        "    RobotImageDataset('/content/UR5_positions_3.csv', '/content/images', file_names = [\"side_view_\",\"front_view_\",\"top_view_\",\"corner1_view_\",\"corner2_view_\",\"side_depth_view_\",\"front_depth_view_\",\"top_depth_view_\",\"corner1_depth_view_\",\"corner2_depth_view_\"]),\n",
        "    RobotImageDataset('/content/UR5_positions_3.csv', '/content/images', file_names = [\"side_view_\",\"front_view_\",\"top_view_\",\"corner1_view_\",\"corner2_view_\",\"side_depth_view_\",\"front_depth_view_\",\"top_depth_view_\",\"corner1_depth_view_\",\"corner2_depth_view_\"]),\n",
        "    RobotImageDataset('/content/UR5_positions_3.csv', '/content/images', file_names = [\"side_view_\",\"front_view_\",\"top_view_\",\"corner1_view_\",\"corner2_view_\"]),\n",
        "    RobotImageDataset('/content/UR5_positions_3.csv', '/content/images', file_names = [\"side_view_\",\"front_view_\",\"top_view_\",\"side_depth_view_\",\"front_depth_view_\",\"top_depth_view_\"]),\n",
        "    RobotImageDataset('/content/UR5_positions_3.csv', '/content/images', file_names = [\"side_view_\",\"front_view_\",\"top_view_\",\"side_depth_view_\",\"front_depth_view_\",\"top_depth_view_\"]),\n",
        "    RobotImageDataset('/content/UR5_positions_3.csv', '/content/images', file_names = [\"side_view_\",\"front_view_\",\"top_view_\",\"side_depth_view_\",\"front_depth_view_\",\"top_depth_view_\"]),\n",
        "    RobotImageDataset('/content/UR5_positions_3.csv', '/content/images', file_names = [\"side_view_\",\"front_view_\",\"top_view_\"]),\n",
        "    RobotImageDataset('/content/UR5_positions_3.csv', '/content/images', file_names = [\"front_view_\",\"front_depth_view_\"]),\n",
        "    RobotImageDataset('/content/UR5_positions_3.csv', '/content/images', file_names = [\"front_view_\",\"front_depth_view_\"]),\n",
        "    RobotImageDataset('/content/UR5_positions_3.csv', '/content/images', file_names = [\"front_view_\",\"front_depth_view_\"]),\n",
        "    RobotImageDataset('/content/UR5_positions_3.csv', '/content/images', file_names = [\"front_view_\"]),\n",
        "\n",
        "]\n",
        "\n",
        "model_nets = [\n",
        "    RobotNet(N_DIM1, N_DIM2, n_input_channels=10, num_inputs=1, multi_input=False, freeze_resnet=False),\n",
        "    RobotNet(N_DIM1, N_DIM2, n_input_channels=10, num_inputs=1, multi_input=False, freeze_resnet=True),\n",
        "    RobotNet(N_DIM1, N_DIM2, n_input_channels=1, num_inputs=10, multi_input=True, freeze_resnet=True),\n",
        "    RobotNet(N_DIM1, N_DIM2, n_input_channels=5, num_inputs=1, multi_input=False, freeze_resnet=False),\n",
        "    RobotNet(N_DIM1, N_DIM2, n_input_channels=6, num_inputs=1, multi_input=False, freeze_resnet=False),\n",
        "    RobotNet(N_DIM1, N_DIM2, n_input_channels=6, num_inputs=1, multi_input=False, freeze_resnet=True),\n",
        "    RobotNet(N_DIM1, N_DIM2, n_input_channels=1, num_inputs=6, multi_input=True, freeze_resnet=True),\n",
        "    RobotNet(N_DIM1, N_DIM2, n_input_channels=3, num_inputs=1, multi_input=False, freeze_resnet=False),\n",
        "    RobotNet(N_DIM1, N_DIM2, n_input_channels=2, num_inputs=1, multi_input=False, freeze_resnet=False),\n",
        "    RobotNet(N_DIM1, N_DIM2, n_input_channels=2, num_inputs=1, multi_input=False, freeze_resnet=True),\n",
        "    RobotNet(N_DIM1, N_DIM2, n_input_channels=1, num_inputs=2, multi_input=True, freeze_resnet=True),\n",
        "    RobotNet(N_DIM1, N_DIM2, n_input_channels=1, num_inputs=1, multi_input=False, freeze_resnet=False),\n",
        "\n",
        "]"
      ],
      "metadata": {
        "id": "o2IS1oVA9D7Q"
      },
      "execution_count": null,
      "outputs": []
    },
    {
      "cell_type": "code",
      "source": [
        "device = 'cpu'\n",
        "all_mse = {}\n",
        "for idx in tqdm(range(len(model_dir_paths))):\n",
        "    multi_model = model_nets[idx]\n",
        "    multi_model.load_state_dict(torch.load('/content/models/' + model_dir_paths[idx] + '/' + 'model_state_dict_epoch14.pth',map_location=torch.device('cpu')),)\n",
        "    loader = DataLoader(model_datas[idx], batch_size=1, shuffle=True)\n",
        "\n",
        "    pred_tens = torch.tensor(np.zeros((500,4)))\n",
        "    gt_tens = torch.tensor(np.zeros((500,4)))\n",
        "    multi_model.eval()\n",
        "\n",
        "    with torch.no_grad():\n",
        "        for i, data in enumerate(loader):\n",
        "            if i == 500:\n",
        "                break\n",
        "            y = data['joint_values'].float()\n",
        "            preds = multi_model(data['images']).float()\n",
        "            pred_tens[i,:] = preds[0]\n",
        "            gt_tens[i,:] = y[0]\n",
        "\n",
        "    joints = []\n",
        "    for joint in range(4):\n",
        "        joints.append(F.mse_loss(pred_tens[:,joint], gt_tens[:,joint]).item())\n",
        "    all_mse[model_dir_paths[idx]] = {'joint1':joints[0],\n",
        "                                     'joint2':joints[1],\n",
        "                                     'joint3':joints[2],\n",
        "                                     'joint4':joints[3]}\n"
      ],
      "metadata": {
        "colab": {
          "base_uri": "https://localhost:8080/"
        },
        "id": "g9BTcw5OHwWi",
        "outputId": "6ceb8be2-6023-420d-a618-ded84c41a476"
      },
      "execution_count": null,
      "outputs": [
        {
          "output_type": "stream",
          "name": "stderr",
          "text": [
            "100%|██████████| 12/12 [23:52<00:00, 119.37s/it]\n"
          ]
        }
      ]
    },
    {
      "cell_type": "code",
      "source": [
        "all_mse"
      ],
      "metadata": {
        "colab": {
          "base_uri": "https://localhost:8080/"
        },
        "id": "xU3VJm9sUXSK",
        "outputId": "7e1a62e7-8f95-42fb-ee1c-4f4f4814fc18"
      },
      "execution_count": null,
      "outputs": [
        {
          "output_type": "execute_result",
          "data": {
            "text/plain": [
              "{'5-view + depth, unfrozen resnet, single input': {'joint1': 0.0037709388451289084,\n",
              "  'joint2': 0.0025003030397156853,\n",
              "  'joint3': 0.0033760743316351618,\n",
              "  'joint4': 0.01264103149841205},\n",
              " '5-view + depth, frozen resnet, single input': {'joint1': 0.02537495061899578,\n",
              "  'joint2': 0.01940167856190568,\n",
              "  'joint3': 0.05243276358980641,\n",
              "  'joint4': 0.40119885013899576},\n",
              " '5-view + depth, frozen resnet, multi input': {'joint1': 0.7763176276667548,\n",
              "  'joint2': 0.8513969113141671,\n",
              "  'joint3': 1.1248363895271736,\n",
              "  'joint4': 1.0207038087128948},\n",
              " '5-view - depth, unfrozen resnet, single input': {'joint1': 0.002023843037878777,\n",
              "  'joint2': 0.0022733863403556344,\n",
              "  'joint3': 0.0033152346310577415,\n",
              "  'joint4': 0.009377244914756343},\n",
              " '3-view + depth, unfrozen resnet, single input': {'joint1': 0.00493261477895453,\n",
              "  'joint2': 0.002327421812007363,\n",
              "  'joint3': 0.0045708411560442495,\n",
              "  'joint4': 0.010024304289773063},\n",
              " '3-view + depth, frozen resnet, single input': {'joint1': 0.024438827453390353,\n",
              "  'joint2': 0.02281191257491664,\n",
              "  'joint3': 0.05985449978082047,\n",
              "  'joint4': 0.23574638680272228},\n",
              " '3-view + depth, frozen resnet, multi input': {'joint1': 0.7817782815490862,\n",
              "  'joint2': 0.8782642691794779,\n",
              "  'joint3': 0.778878035120167,\n",
              "  'joint4': 1.5166921104502298},\n",
              " '3-view - depth, unfrozen resnet, single input': {'joint1': 0.0024310177409592325,\n",
              "  'joint2': 0.0012589868698336798,\n",
              "  'joint3': 0.00236707876083649,\n",
              "  'joint4': 0.010515704017624892},\n",
              " '1-view + depth, unfrozen resnet, single input': {'joint1': 0.005489659529280673,\n",
              "  'joint2': 0.0026586500065197364,\n",
              "  'joint3': 0.0098921418844676,\n",
              "  'joint4': 0.050234512458615196},\n",
              " '1-view + depth, frozen resnet, single input': {'joint1': 0.021941860206713754,\n",
              "  'joint2': 0.020890009648451162,\n",
              "  'joint3': 0.15724804078604712,\n",
              "  'joint4': 0.6162067069972297},\n",
              " '1-view + depth, frozen resnet, multi input': {'joint1': 1.237362790460212,\n",
              "  'joint2': 0.9159690345689371,\n",
              "  'joint3': 5.4870991456193225,\n",
              "  'joint4': 0.8433822032184753},\n",
              " '1-view - depth, unfrozen resnet, single input': {'joint1': 0.0032162033046655367,\n",
              "  'joint2': 0.0018943176529955825,\n",
              "  'joint3': 0.0080279732609782,\n",
              "  'joint4': 0.07706370943048302}}"
            ]
          },
          "metadata": {},
          "execution_count": 37
        }
      ]
    },
    {
      "cell_type": "code",
      "source": [
        "model_dir_paths"
      ],
      "metadata": {
        "colab": {
          "base_uri": "https://localhost:8080/"
        },
        "id": "rpkDc_V_jMfO",
        "outputId": "58f1956c-1956-4af4-d4e7-467a481627fc"
      },
      "execution_count": null,
      "outputs": [
        {
          "output_type": "execute_result",
          "data": {
            "text/plain": [
              "['5-view + depth, unfrozen resnet, single input',\n",
              " '5-view + depth, frozen resnet, single input',\n",
              " '5-view + depth, frozen resnet, multi input',\n",
              " '5-view - depth, unfrozen resnet, single input',\n",
              " '3-view + depth, unfrozen resnet, single input',\n",
              " '3-view + depth, frozen resnet, single input',\n",
              " '3-view + depth, frozen resnet, multi input',\n",
              " '3-view - depth, unfrozen resnet, single input',\n",
              " '1-view + depth, unfrozen resnet, single input',\n",
              " '1-view + depth, frozen resnet, single input',\n",
              " '1-view + depth, frozen resnet, multi input',\n",
              " '1-view - depth, unfrozen resnet, single input']"
            ]
          },
          "metadata": {},
          "execution_count": 71
        }
      ]
    },
    {
      "cell_type": "code",
      "source": [
        "import matplotlib.ticker as mticker\n",
        "import matplotlib.ticker as ticker\n",
        "\n",
        "\n",
        "fig,axs = plt.subplots(1,4, figsize=(10, 7))\n",
        "\n",
        "c = []\n",
        "s = []\n",
        "for i in range(len(model_dir_paths)):\n",
        "    if 'unfrozen' in model_dir_paths[i]:\n",
        "        c.append('r')\n",
        "    else:\n",
        "        c.append('b')\n",
        "    if \"1-view\" in model_dir_paths[i]:\n",
        "        s.append(10)\n",
        "    elif \"3-view\" in model_dir_paths[i]:\n",
        "        s.append(50)\n",
        "    else:\n",
        "        s.append(130)\n",
        "\n",
        "\n",
        "for idx in range(4):\n",
        "    # c = ['r' if 'unfrozen' in model_dir_paths[i] else 'b' for i in range(len(model_dir_paths))]\n",
        "\n",
        "    joint = 'joint' + str(idx+1)\n",
        "    axs[idx].scatter([0]*len(model_dir_paths), [all_mse[model_dir_paths[i]][joint] for i in range(len(model_dir_paths))], color= c, s = s)\n",
        "    axs[idx].set_yscale('log')\n",
        "    axs[idx].set_ylim([0,2.5])\n",
        "    axs[idx].set_xlabel(joint)\n",
        "    axs[idx].xaxis.set_major_locator(ticker.NullLocator())\n",
        "    if idx >0:\n",
        "      axs[idx].yaxis.set_major_locator(ticker.NullLocator())\n",
        "fig.savefig('joint_plot.png', )"
      ],
      "metadata": {
        "colab": {
          "base_uri": "https://localhost:8080/",
          "height": 630
        },
        "id": "Vx7bJxSLUgp0",
        "outputId": "fbd1ec91-9f58-43aa-e309-cd7cc287907b"
      },
      "execution_count": null,
      "outputs": [
        {
          "output_type": "stream",
          "name": "stderr",
          "text": [
            "<ipython-input-95-b69cc0591d7b>:28: UserWarning: Attempt to set non-positive ylim on a log-scaled axis will be ignored.\n",
            "  axs[idx].set_ylim([0,2.5])\n"
          ]
        },
        {
          "output_type": "display_data",
          "data": {
            "text/plain": [
              "<Figure size 1000x700 with 4 Axes>"
            ],
            "image/png": "[encoded data removed]"
          },
          "metadata": {}
        }
      ]
    },
    {
      "cell_type": "code",
      "source": [
        "plt.violinplot([ [all_mse[model_dir_paths[i]]['joint' + str(joint+1)] for i in range(len(model_dir_paths))] for joint in range(4)])"
      ],
      "metadata": {
        "colab": {
          "base_uri": "https://localhost:8080/",
          "height": 552
        },
        "id": "X1A9F4q_Z1Cb",
        "outputId": "5f561f52-dd56-47d8-d6c1-7cb51fc7acaf"
      },
      "execution_count": null,
      "outputs": [
        {
          "output_type": "execute_result",
          "data": {
            "text/plain": [
              "{'bodies': [<matplotlib.collections.PolyCollection at 0x7f1d945cdc90>,\n",
              "  <matplotlib.collections.PolyCollection at 0x7f1d945cf040>,\n",
              "  <matplotlib.collections.PolyCollection at 0x7f1d945cc0d0>,\n",
              "  <matplotlib.collections.PolyCollection at 0x7f1d945ce560>],\n",
              " 'cmaxes': <matplotlib.collections.LineCollection at 0x7f1d945cec20>,\n",
              " 'cmins': <matplotlib.collections.LineCollection at 0x7f1d945cf670>,\n",
              " 'cbars': <matplotlib.collections.LineCollection at 0x7f1d982f71f0>}"
            ]
          },
          "metadata": {},
          "execution_count": 65
        },
        {
          "output_type": "display_data",
          "data": {
            "text/plain": [
              "<Figure size 640x480 with 1 Axes>"
            ],
            "image/png": "[encoded data removed]"
          },
          "metadata": {}
        }
      ]
    },
    {
      "cell_type": "code",
      "source": [],
      "metadata": {
        "id": "F_kVYu61bamV"
      },
      "execution_count": null,
      "outputs": []
    }
  ],
  "metadata": {
    "colab": {
      "provenance": [],
      "collapsed_sections": [
        "j-Of1L4M2mZR"
      ]
    },
    "kernelspec": {
      "display_name": "Python 3",
      "name": "python3"
    },
    "language_info": {
      "name": "python"
    },
    "widgets": {
      "application/vnd.jupyter.widget-state+json": {
        "1438a6ad868a482889fabd505b57a5f3": {
          "model_module": "@jupyter-widgets/controls",
          "model_name": "VBoxModel",
          "model_module_version": "1.5.0",
          "state": {
            "_dom_classes": [],
            "_model_module": "@jupyter-widgets/controls",
            "_model_module_version": "1.5.0",
            "_model_name": "VBoxModel",
            "_view_count": null,
            "_view_module": "@jupyter-widgets/controls",
            "_view_module_version": "1.5.0",
            "_view_name": "VBoxView",
            "box_style": "",
            "children": [
              "IPY_MODEL_4f23ddb49e1c4efaac71faead6191f8c",
              "IPY_MODEL_ae9757e5c97a4e7eab00cd71fc0ea341"
            ],
            "layout": "IPY_MODEL_3ef417fe30e5423f95858290946000af"
          }
        },
        "4f23ddb49e1c4efaac71faead6191f8c": {
          "model_module": "@jupyter-widgets/controls",
          "model_name": "LabelModel",
          "model_module_version": "1.5.0",
          "state": {
            "_dom_classes": [],
            "_model_module": "@jupyter-widgets/controls",
            "_model_module_version": "1.5.0",
            "_model_name": "LabelModel",
            "_view_count": null,
            "_view_module": "@jupyter-widgets/controls",
            "_view_module_version": "1.5.0",
            "_view_name": "LabelView",
            "description": "",
            "description_tooltip": null,
            "layout": "IPY_MODEL_f55b6a071ee64e088811bdddf2e0519c",
            "placeholder": "​",
            "style": "IPY_MODEL_37dd6e9d41574bb8b70e118538172784",
            "value": "631.080 MB of 631.080 MB uploaded\r"
          }
        },
        "ae9757e5c97a4e7eab00cd71fc0ea341": {
          "model_module": "@jupyter-widgets/controls",
          "model_name": "FloatProgressModel",
          "model_module_version": "1.5.0",
          "state": {
            "_dom_classes": [],
            "_model_module": "@jupyter-widgets/controls",
            "_model_module_version": "1.5.0",
            "_model_name": "FloatProgressModel",
            "_view_count": null,
            "_view_module": "@jupyter-widgets/controls",
            "_view_module_version": "1.5.0",
            "_view_name": "ProgressView",
            "bar_style": "",
            "description": "",
            "description_tooltip": null,
            "layout": "IPY_MODEL_857489e5d1874e47b4a9360d1eb6e3dd",
            "max": 1,
            "min": 0,
            "orientation": "horizontal",
            "style": "IPY_MODEL_8b523e65b3924b62b52018146bf9eb1d",
            "value": 1
          }
        },
        "3ef417fe30e5423f95858290946000af": {
          "model_module": "@jupyter-widgets/base",
          "model_name": "LayoutModel",
          "model_module_version": "1.2.0",
          "state": {
            "_model_module": "@jupyter-widgets/base",
            "_model_module_version": "1.2.0",
            "_model_name": "LayoutModel",
            "_view_count": null,
            "_view_module": "@jupyter-widgets/base",
            "_view_module_version": "1.2.0",
            "_view_name": "LayoutView",
            "align_content": null,
            "align_items": null,
            "align_self": null,
            "border": null,
            "bottom": null,
            "display": null,
            "flex": null,
            "flex_flow": null,
            "grid_area": null,
            "grid_auto_columns": null,
            "grid_auto_flow": null,
            "grid_auto_rows": null,
            "grid_column": null,
            "grid_gap": null,
            "grid_row": null,
            "grid_template_areas": null,
            "grid_template_columns": null,
            "grid_template_rows": null,
            "height": null,
            "justify_content": null,
            "justify_items": null,
            "left": null,
            "margin": null,
            "max_height": null,
            "max_width": null,
            "min_height": null,
            "min_width": null,
            "object_fit": null,
            "object_position": null,
            "order": null,
            "overflow": null,
            "overflow_x": null,
            "overflow_y": null,
            "padding": null,
            "right": null,
            "top": null,
            "visibility": null,
            "width": null
          }
        },
        "f55b6a071ee64e088811bdddf2e0519c": {
          "model_module": "@jupyter-widgets/base",
          "model_name": "LayoutModel",
          "model_module_version": "1.2.0",
          "state": {
            "_model_module": "@jupyter-widgets/base",
            "_model_module_version": "1.2.0",
            "_model_name": "LayoutModel",
            "_view_count": null,
            "_view_module": "@jupyter-widgets/base",
            "_view_module_version": "1.2.0",
            "_view_name": "LayoutView",
            "align_content": null,
            "align_items": null,
            "align_self": null,
            "border": null,
            "bottom": null,
            "display": null,
            "flex": null,
            "flex_flow": null,
            "grid_area": null,
            "grid_auto_columns": null,
            "grid_auto_flow": null,
            "grid_auto_rows": null,
            "grid_column": null,
            "grid_gap": null,
            "grid_row": null,
            "grid_template_areas": null,
            "grid_template_columns": null,
            "grid_template_rows": null,
            "height": null,
            "justify_content": null,
            "justify_items": null,
            "left": null,
            "margin": null,
            "max_height": null,
            "max_width": null,
            "min_height": null,
            "min_width": null,
            "object_fit": null,
            "object_position": null,
            "order": null,
            "overflow": null,
            "overflow_x": null,
            "overflow_y": null,
            "padding": null,
            "right": null,
            "top": null,
            "visibility": null,
            "width": null
          }
        },
        "37dd6e9d41574bb8b70e118538172784": {
          "model_module": "@jupyter-widgets/controls",
          "model_name": "DescriptionStyleModel",
          "model_module_version": "1.5.0",
          "state": {
            "_model_module": "@jupyter-widgets/controls",
            "_model_module_version": "1.5.0",
            "_model_name": "DescriptionStyleModel",
            "_view_count": null,
            "_view_module": "@jupyter-widgets/base",
            "_view_module_version": "1.2.0",
            "_view_name": "StyleView",
            "description_width": ""
          }
        },
        "857489e5d1874e47b4a9360d1eb6e3dd": {
          "model_module": "@jupyter-widgets/base",
          "model_name": "LayoutModel",
          "model_module_version": "1.2.0",
          "state": {
            "_model_module": "@jupyter-widgets/base",
            "_model_module_version": "1.2.0",
            "_model_name": "LayoutModel",
            "_view_count": null,
            "_view_module": "@jupyter-widgets/base",
            "_view_module_version": "1.2.0",
            "_view_name": "LayoutView",
            "align_content": null,
            "align_items": null,
            "align_self": null,
            "border": null,
            "bottom": null,
            "display": null,
            "flex": null,
            "flex_flow": null,
            "grid_area": null,
            "grid_auto_columns": null,
            "grid_auto_flow": null,
            "grid_auto_rows": null,
            "grid_column": null,
            "grid_gap": null,
            "grid_row": null,
            "grid_template_areas": null,
            "grid_template_columns": null,
            "grid_template_rows": null,
            "height": null,
            "justify_content": null,
            "justify_items": null,
            "left": null,
            "margin": null,
            "max_height": null,
            "max_width": null,
            "min_height": null,
            "min_width": null,
            "object_fit": null,
            "object_position": null,
            "order": null,
            "overflow": null,
            "overflow_x": null,
            "overflow_y": null,
            "padding": null,
            "right": null,
            "top": null,
            "visibility": null,
            "width": null
          }
        },
        "8b523e65b3924b62b52018146bf9eb1d": {
          "model_module": "@jupyter-widgets/controls",
          "model_name": "ProgressStyleModel",
          "model_module_version": "1.5.0",
          "state": {
            "_model_module": "@jupyter-widgets/controls",
            "_model_module_version": "1.5.0",
            "_model_name": "ProgressStyleModel",
            "_view_count": null,
            "_view_module": "@jupyter-widgets/base",
            "_view_module_version": "1.2.0",
            "_view_name": "StyleView",
            "bar_color": null,
            "description_width": ""
          }
        },
        "16a823a533074005be7292fff0a5a810": {
          "model_module": "@jupyter-widgets/controls",
          "model_name": "VBoxModel",
          "model_module_version": "1.5.0",
          "state": {
            "_dom_classes": [],
            "_model_module": "@jupyter-widgets/controls",
            "_model_module_version": "1.5.0",
            "_model_name": "VBoxModel",
            "_view_count": null,
            "_view_module": "@jupyter-widgets/controls",
            "_view_module_version": "1.5.0",
            "_view_name": "VBoxView",
            "box_style": "",
            "children": [
              "IPY_MODEL_8c4bdbc3367943299d0c1af938f20192",
              "IPY_MODEL_f46262f43cfb4b069b97a4f9e16fe489"
            ],
            "layout": "IPY_MODEL_0a62617313124f22b3209531fd94932a"
          }
        },
        "8c4bdbc3367943299d0c1af938f20192": {
          "model_module": "@jupyter-widgets/controls",
          "model_name": "LabelModel",
          "model_module_version": "1.5.0",
          "state": {
            "_dom_classes": [],
            "_model_module": "@jupyter-widgets/controls",
            "_model_module_version": "1.5.0",
            "_model_name": "LabelModel",
            "_view_count": null,
            "_view_module": "@jupyter-widgets/controls",
            "_view_module_version": "1.5.0",
            "_view_name": "LabelView",
            "description": "",
            "description_tooltip": null,
            "layout": "IPY_MODEL_242d071da1104ddeb2dbf16fb07c2cfd",
            "placeholder": "​",
            "style": "IPY_MODEL_703183f9406049149eb0e95909a2b1fd",
            "value": "631.080 MB of 631.080 MB uploaded\r"
          }
        },
        "f46262f43cfb4b069b97a4f9e16fe489": {
          "model_module": "@jupyter-widgets/controls",
          "model_name": "FloatProgressModel",
          "model_module_version": "1.5.0",
          "state": {
            "_dom_classes": [],
            "_model_module": "@jupyter-widgets/controls",
            "_model_module_version": "1.5.0",
            "_model_name": "FloatProgressModel",
            "_view_count": null,
            "_view_module": "@jupyter-widgets/controls",
            "_view_module_version": "1.5.0",
            "_view_name": "ProgressView",
            "bar_style": "",
            "description": "",
            "description_tooltip": null,
            "layout": "IPY_MODEL_fdfb40c6f3b6423a9abd4c80701bc1a1",
            "max": 1,
            "min": 0,
            "orientation": "horizontal",
            "style": "IPY_MODEL_978e2ef2c1cf43d6ae8afbcc4a9784bd",
            "value": 1
          }
        },
        "0a62617313124f22b3209531fd94932a": {
          "model_module": "@jupyter-widgets/base",
          "model_name": "LayoutModel",
          "model_module_version": "1.2.0",
          "state": {
            "_model_module": "@jupyter-widgets/base",
            "_model_module_version": "1.2.0",
            "_model_name": "LayoutModel",
            "_view_count": null,
            "_view_module": "@jupyter-widgets/base",
            "_view_module_version": "1.2.0",
            "_view_name": "LayoutView",
            "align_content": null,
            "align_items": null,
            "align_self": null,
            "border": null,
            "bottom": null,
            "display": null,
            "flex": null,
            "flex_flow": null,
            "grid_area": null,
            "grid_auto_columns": null,
            "grid_auto_flow": null,
            "grid_auto_rows": null,
            "grid_column": null,
            "grid_gap": null,
            "grid_row": null,
            "grid_template_areas": null,
            "grid_template_columns": null,
            "grid_template_rows": null,
            "height": null,
            "justify_content": null,
            "justify_items": null,
            "left": null,
            "margin": null,
            "max_height": null,
            "max_width": null,
            "min_height": null,
            "min_width": null,
            "object_fit": null,
            "object_position": null,
            "order": null,
            "overflow": null,
            "overflow_x": null,
            "overflow_y": null,
            "padding": null,
            "right": null,
            "top": null,
            "visibility": null,
            "width": null
          }
        },
        "242d071da1104ddeb2dbf16fb07c2cfd": {
          "model_module": "@jupyter-widgets/base",
          "model_name": "LayoutModel",
          "model_module_version": "1.2.0",
          "state": {
            "_model_module": "@jupyter-widgets/base",
            "_model_module_version": "1.2.0",
            "_model_name": "LayoutModel",
            "_view_count": null,
            "_view_module": "@jupyter-widgets/base",
            "_view_module_version": "1.2.0",
            "_view_name": "LayoutView",
            "align_content": null,
            "align_items": null,
            "align_self": null,
            "border": null,
            "bottom": null,
            "display": null,
            "flex": null,
            "flex_flow": null,
            "grid_area": null,
            "grid_auto_columns": null,
            "grid_auto_flow": null,
            "grid_auto_rows": null,
            "grid_column": null,
            "grid_gap": null,
            "grid_row": null,
            "grid_template_areas": null,
            "grid_template_columns": null,
            "grid_template_rows": null,
            "height": null,
            "justify_content": null,
            "justify_items": null,
            "left": null,
            "margin": null,
            "max_height": null,
            "max_width": null,
            "min_height": null,
            "min_width": null,
            "object_fit": null,
            "object_position": null,
            "order": null,
            "overflow": null,
            "overflow_x": null,
            "overflow_y": null,
            "padding": null,
            "right": null,
            "top": null,
            "visibility": null,
            "width": null
          }
        },
        "703183f9406049149eb0e95909a2b1fd": {
          "model_module": "@jupyter-widgets/controls",
          "model_name": "DescriptionStyleModel",
          "model_module_version": "1.5.0",
          "state": {
            "_model_module": "@jupyter-widgets/controls",
            "_model_module_version": "1.5.0",
            "_model_name": "DescriptionStyleModel",
            "_view_count": null,
            "_view_module": "@jupyter-widgets/base",
            "_view_module_version": "1.2.0",
            "_view_name": "StyleView",
            "description_width": ""
          }
        },
        "fdfb40c6f3b6423a9abd4c80701bc1a1": {
          "model_module": "@jupyter-widgets/base",
          "model_name": "LayoutModel",
          "model_module_version": "1.2.0",
          "state": {
            "_model_module": "@jupyter-widgets/base",
            "_model_module_version": "1.2.0",
            "_model_name": "LayoutModel",
            "_view_count": null,
            "_view_module": "@jupyter-widgets/base",
            "_view_module_version": "1.2.0",
            "_view_name": "LayoutView",
            "align_content": null,
            "align_items": null,
            "align_self": null,
            "border": null,
            "bottom": null,
            "display": null,
            "flex": null,
            "flex_flow": null,
            "grid_area": null,
            "grid_auto_columns": null,
            "grid_auto_flow": null,
            "grid_auto_rows": null,
            "grid_column": null,
            "grid_gap": null,
            "grid_row": null,
            "grid_template_areas": null,
            "grid_template_columns": null,
            "grid_template_rows": null,
            "height": null,
            "justify_content": null,
            "justify_items": null,
            "left": null,
            "margin": null,
            "max_height": null,
            "max_width": null,
            "min_height": null,
            "min_width": null,
            "object_fit": null,
            "object_position": null,
            "order": null,
            "overflow": null,
            "overflow_x": null,
            "overflow_y": null,
            "padding": null,
            "right": null,
            "top": null,
            "visibility": null,
            "width": null
          }
        },
        "978e2ef2c1cf43d6ae8afbcc4a9784bd": {
          "model_module": "@jupyter-widgets/controls",
          "model_name": "ProgressStyleModel",
          "model_module_version": "1.5.0",
          "state": {
            "_model_module": "@jupyter-widgets/controls",
            "_model_module_version": "1.5.0",
            "_model_name": "ProgressStyleModel",
            "_view_count": null,
            "_view_module": "@jupyter-widgets/base",
            "_view_module_version": "1.2.0",
            "_view_name": "StyleView",
            "bar_color": null,
            "description_width": ""
          }
        },
        "f88d3855daf14a68a7e403ccab87fefb": {
          "model_module": "@jupyter-widgets/controls",
          "model_name": "VBoxModel",
          "model_module_version": "1.5.0",
          "state": {
            "_dom_classes": [],
            "_model_module": "@jupyter-widgets/controls",
            "_model_module_version": "1.5.0",
            "_model_name": "VBoxModel",
            "_view_count": null,
            "_view_module": "@jupyter-widgets/controls",
            "_view_module_version": "1.5.0",
            "_view_name": "VBoxView",
            "box_style": "",
            "children": [
              "IPY_MODEL_7382bb6030734a59aed7570e4a7bdf84",
              "IPY_MODEL_f2f64285ac9d443c93600919369fffe3"
            ],
            "layout": "IPY_MODEL_ef3bcde21eb54bc1a7a8b6e17ba7adb3"
          }
        },
        "7382bb6030734a59aed7570e4a7bdf84": {
          "model_module": "@jupyter-widgets/controls",
          "model_name": "LabelModel",
          "model_module_version": "1.5.0",
          "state": {
            "_dom_classes": [],
            "_model_module": "@jupyter-widgets/controls",
            "_model_module_version": "1.5.0",
            "_model_name": "LabelModel",
            "_view_count": null,
            "_view_module": "@jupyter-widgets/controls",
            "_view_module_version": "1.5.0",
            "_view_name": "LabelView",
            "description": "",
            "description_tooltip": null,
            "layout": "IPY_MODEL_a3fb3142d26141589f737030d69dd566",
            "placeholder": "​",
            "style": "IPY_MODEL_35a42540b62f4d448e78aabbccbdd3ce",
            "value": "661.073 MB of 661.073 MB uploaded\r"
          }
        },
        "f2f64285ac9d443c93600919369fffe3": {
          "model_module": "@jupyter-widgets/controls",
          "model_name": "FloatProgressModel",
          "model_module_version": "1.5.0",
          "state": {
            "_dom_classes": [],
            "_model_module": "@jupyter-widgets/controls",
            "_model_module_version": "1.5.0",
            "_model_name": "FloatProgressModel",
            "_view_count": null,
            "_view_module": "@jupyter-widgets/controls",
            "_view_module_version": "1.5.0",
            "_view_name": "ProgressView",
            "bar_style": "",
            "description": "",
            "description_tooltip": null,
            "layout": "IPY_MODEL_eaf89a64f752453da4a16288736061c6",
            "max": 1,
            "min": 0,
            "orientation": "horizontal",
            "style": "IPY_MODEL_9427862ac6ef4437b8bc178da480779a",
            "value": 1
          }
        },
        "ef3bcde21eb54bc1a7a8b6e17ba7adb3": {
          "model_module": "@jupyter-widgets/base",
          "model_name": "LayoutModel",
          "model_module_version": "1.2.0",
          "state": {
            "_model_module": "@jupyter-widgets/base",
            "_model_module_version": "1.2.0",
            "_model_name": "LayoutModel",
            "_view_count": null,
            "_view_module": "@jupyter-widgets/base",
            "_view_module_version": "1.2.0",
            "_view_name": "LayoutView",
            "align_content": null,
            "align_items": null,
            "align_self": null,
            "border": null,
            "bottom": null,
            "display": null,
            "flex": null,
            "flex_flow": null,
            "grid_area": null,
            "grid_auto_columns": null,
            "grid_auto_flow": null,
            "grid_auto_rows": null,
            "grid_column": null,
            "grid_gap": null,
            "grid_row": null,
            "grid_template_areas": null,
            "grid_template_columns": null,
            "grid_template_rows": null,
            "height": null,
            "justify_content": null,
            "justify_items": null,
            "left": null,
            "margin": null,
            "max_height": null,
            "max_width": null,
            "min_height": null,
            "min_width": null,
            "object_fit": null,
            "object_position": null,
            "order": null,
            "overflow": null,
            "overflow_x": null,
            "overflow_y": null,
            "padding": null,
            "right": null,
            "top": null,
            "visibility": null,
            "width": null
          }
        },
        "a3fb3142d26141589f737030d69dd566": {
          "model_module": "@jupyter-widgets/base",
          "model_name": "LayoutModel",
          "model_module_version": "1.2.0",
          "state": {
            "_model_module": "@jupyter-widgets/base",
            "_model_module_version": "1.2.0",
            "_model_name": "LayoutModel",
            "_view_count": null,
            "_view_module": "@jupyter-widgets/base",
            "_view_module_version": "1.2.0",
            "_view_name": "LayoutView",
            "align_content": null,
            "align_items": null,
            "align_self": null,
            "border": null,
            "bottom": null,
            "display": null,
            "flex": null,
            "flex_flow": null,
            "grid_area": null,
            "grid_auto_columns": null,
            "grid_auto_flow": null,
            "grid_auto_rows": null,
            "grid_column": null,
            "grid_gap": null,
            "grid_row": null,
            "grid_template_areas": null,
            "grid_template_columns": null,
            "grid_template_rows": null,
            "height": null,
            "justify_content": null,
            "justify_items": null,
            "left": null,
            "margin": null,
            "max_height": null,
            "max_width": null,
            "min_height": null,
            "min_width": null,
            "object_fit": null,
            "object_position": null,
            "order": null,
            "overflow": null,
            "overflow_x": null,
            "overflow_y": null,
            "padding": null,
            "right": null,
            "top": null,
            "visibility": null,
            "width": null
          }
        },
        "35a42540b62f4d448e78aabbccbdd3ce": {
          "model_module": "@jupyter-widgets/controls",
          "model_name": "DescriptionStyleModel",
          "model_module_version": "1.5.0",
          "state": {
            "_model_module": "@jupyter-widgets/controls",
            "_model_module_version": "1.5.0",
            "_model_name": "DescriptionStyleModel",
            "_view_count": null,
            "_view_module": "@jupyter-widgets/base",
            "_view_module_version": "1.2.0",
            "_view_name": "StyleView",
            "description_width": ""
          }
        },
        "eaf89a64f752453da4a16288736061c6": {
          "model_module": "@jupyter-widgets/base",
          "model_name": "LayoutModel",
          "model_module_version": "1.2.0",
          "state": {
            "_model_module": "@jupyter-widgets/base",
            "_model_module_version": "1.2.0",
            "_model_name": "LayoutModel",
            "_view_count": null,
            "_view_module": "@jupyter-widgets/base",
            "_view_module_version": "1.2.0",
            "_view_name": "LayoutView",
            "align_content": null,
            "align_items": null,
            "align_self": null,
            "border": null,
            "bottom": null,
            "display": null,
            "flex": null,
            "flex_flow": null,
            "grid_area": null,
            "grid_auto_columns": null,
            "grid_auto_flow": null,
            "grid_auto_rows": null,
            "grid_column": null,
            "grid_gap": null,
            "grid_row": null,
            "grid_template_areas": null,
            "grid_template_columns": null,
            "grid_template_rows": null,
            "height": null,
            "justify_content": null,
            "justify_items": null,
            "left": null,
            "margin": null,
            "max_height": null,
            "max_width": null,
            "min_height": null,
            "min_width": null,
            "object_fit": null,
            "object_position": null,
            "order": null,
            "overflow": null,
            "overflow_x": null,
            "overflow_y": null,
            "padding": null,
            "right": null,
            "top": null,
            "visibility": null,
            "width": null
          }
        },
        "9427862ac6ef4437b8bc178da480779a": {
          "model_module": "@jupyter-widgets/controls",
          "model_name": "ProgressStyleModel",
          "model_module_version": "1.5.0",
          "state": {
            "_model_module": "@jupyter-widgets/controls",
            "_model_module_version": "1.5.0",
            "_model_name": "ProgressStyleModel",
            "_view_count": null,
            "_view_module": "@jupyter-widgets/base",
            "_view_module_version": "1.2.0",
            "_view_name": "StyleView",
            "bar_color": null,
            "description_width": ""
          }
        },
        "9feb0b34764a42c48e7660f883df2f7a": {
          "model_module": "@jupyter-widgets/controls",
          "model_name": "VBoxModel",
          "model_module_version": "1.5.0",
          "state": {
            "_dom_classes": [],
            "_model_module": "@jupyter-widgets/controls",
            "_model_module_version": "1.5.0",
            "_model_name": "VBoxModel",
            "_view_count": null,
            "_view_module": "@jupyter-widgets/controls",
            "_view_module_version": "1.5.0",
            "_view_name": "VBoxView",
            "box_style": "",
            "children": [
              "IPY_MODEL_72e8b8b0720743c2973296f25ada331d",
              "IPY_MODEL_6431d3af7b534de9a432158a4fb9dc93"
            ],
            "layout": "IPY_MODEL_ef7a4447d5614dfcb69abfdb593ece82"
          }
        },
        "72e8b8b0720743c2973296f25ada331d": {
          "model_module": "@jupyter-widgets/controls",
          "model_name": "LabelModel",
          "model_module_version": "1.5.0",
          "state": {
            "_dom_classes": [],
            "_model_module": "@jupyter-widgets/controls",
            "_model_module_version": "1.5.0",
            "_model_name": "LabelModel",
            "_view_count": null,
            "_view_module": "@jupyter-widgets/controls",
            "_view_module_version": "1.5.0",
            "_view_name": "LabelView",
            "description": "",
            "description_tooltip": null,
            "layout": "IPY_MODEL_ea9e5514bb7340b4b5e38070b77e7dd7",
            "placeholder": "​",
            "style": "IPY_MODEL_40b8daa654434e659bfb5a562f196e5c",
            "value": "630.243 MB of 630.243 MB uploaded\r"
          }
        },
        "6431d3af7b534de9a432158a4fb9dc93": {
          "model_module": "@jupyter-widgets/controls",
          "model_name": "FloatProgressModel",
          "model_module_version": "1.5.0",
          "state": {
            "_dom_classes": [],
            "_model_module": "@jupyter-widgets/controls",
            "_model_module_version": "1.5.0",
            "_model_name": "FloatProgressModel",
            "_view_count": null,
            "_view_module": "@jupyter-widgets/controls",
            "_view_module_version": "1.5.0",
            "_view_name": "ProgressView",
            "bar_style": "",
            "description": "",
            "description_tooltip": null,
            "layout": "IPY_MODEL_c51d2054e9444743a0c1dd0359c25b73",
            "max": 1,
            "min": 0,
            "orientation": "horizontal",
            "style": "IPY_MODEL_b3c71bd869f64c8598cc6f62460d22cf",
            "value": 1
          }
        },
        "ef7a4447d5614dfcb69abfdb593ece82": {
          "model_module": "@jupyter-widgets/base",
          "model_name": "LayoutModel",
          "model_module_version": "1.2.0",
          "state": {
            "_model_module": "@jupyter-widgets/base",
            "_model_module_version": "1.2.0",
            "_model_name": "LayoutModel",
            "_view_count": null,
            "_view_module": "@jupyter-widgets/base",
            "_view_module_version": "1.2.0",
            "_view_name": "LayoutView",
            "align_content": null,
            "align_items": null,
            "align_self": null,
            "border": null,
            "bottom": null,
            "display": null,
            "flex": null,
            "flex_flow": null,
            "grid_area": null,
            "grid_auto_columns": null,
            "grid_auto_flow": null,
            "grid_auto_rows": null,
            "grid_column": null,
            "grid_gap": null,
            "grid_row": null,
            "grid_template_areas": null,
            "grid_template_columns": null,
            "grid_template_rows": null,
            "height": null,
            "justify_content": null,
            "justify_items": null,
            "left": null,
            "margin": null,
            "max_height": null,
            "max_width": null,
            "min_height": null,
            "min_width": null,
            "object_fit": null,
            "object_position": null,
            "order": null,
            "overflow": null,
            "overflow_x": null,
            "overflow_y": null,
            "padding": null,
            "right": null,
            "top": null,
            "visibility": null,
            "width": null
          }
        },
        "ea9e5514bb7340b4b5e38070b77e7dd7": {
          "model_module": "@jupyter-widgets/base",
          "model_name": "LayoutModel",
          "model_module_version": "1.2.0",
          "state": {
            "_model_module": "@jupyter-widgets/base",
            "_model_module_version": "1.2.0",
            "_model_name": "LayoutModel",
            "_view_count": null,
            "_view_module": "@jupyter-widgets/base",
            "_view_module_version": "1.2.0",
            "_view_name": "LayoutView",
            "align_content": null,
            "align_items": null,
            "align_self": null,
            "border": null,
            "bottom": null,
            "display": null,
            "flex": null,
            "flex_flow": null,
            "grid_area": null,
            "grid_auto_columns": null,
            "grid_auto_flow": null,
            "grid_auto_rows": null,
            "grid_column": null,
            "grid_gap": null,
            "grid_row": null,
            "grid_template_areas": null,
            "grid_template_columns": null,
            "grid_template_rows": null,
            "height": null,
            "justify_content": null,
            "justify_items": null,
            "left": null,
            "margin": null,
            "max_height": null,
            "max_width": null,
            "min_height": null,
            "min_width": null,
            "object_fit": null,
            "object_position": null,
            "order": null,
            "overflow": null,
            "overflow_x": null,
            "overflow_y": null,
            "padding": null,
            "right": null,
            "top": null,
            "visibility": null,
            "width": null
          }
        },
        "40b8daa654434e659bfb5a562f196e5c": {
          "model_module": "@jupyter-widgets/controls",
          "model_name": "DescriptionStyleModel",
          "model_module_version": "1.5.0",
          "state": {
            "_model_module": "@jupyter-widgets/controls",
            "_model_module_version": "1.5.0",
            "_model_name": "DescriptionStyleModel",
            "_view_count": null,
            "_view_module": "@jupyter-widgets/base",
            "_view_module_version": "1.2.0",
            "_view_name": "StyleView",
            "description_width": ""
          }
        },
        "c51d2054e9444743a0c1dd0359c25b73": {
          "model_module": "@jupyter-widgets/base",
          "model_name": "LayoutModel",
          "model_module_version": "1.2.0",
          "state": {
            "_model_module": "@jupyter-widgets/base",
            "_model_module_version": "1.2.0",
            "_model_name": "LayoutModel",
            "_view_count": null,
            "_view_module": "@jupyter-widgets/base",
            "_view_module_version": "1.2.0",
            "_view_name": "LayoutView",
            "align_content": null,
            "align_items": null,
            "align_self": null,
            "border": null,
            "bottom": null,
            "display": null,
            "flex": null,
            "flex_flow": null,
            "grid_area": null,
            "grid_auto_columns": null,
            "grid_auto_flow": null,
            "grid_auto_rows": null,
            "grid_column": null,
            "grid_gap": null,
            "grid_row": null,
            "grid_template_areas": null,
            "grid_template_columns": null,
            "grid_template_rows": null,
            "height": null,
            "justify_content": null,
            "justify_items": null,
            "left": null,
            "margin": null,
            "max_height": null,
            "max_width": null,
            "min_height": null,
            "min_width": null,
            "object_fit": null,
            "object_position": null,
            "order": null,
            "overflow": null,
            "overflow_x": null,
            "overflow_y": null,
            "padding": null,
            "right": null,
            "top": null,
            "visibility": null,
            "width": null
          }
        },
        "b3c71bd869f64c8598cc6f62460d22cf": {
          "model_module": "@jupyter-widgets/controls",
          "model_name": "ProgressStyleModel",
          "model_module_version": "1.5.0",
          "state": {
            "_model_module": "@jupyter-widgets/controls",
            "_model_module_version": "1.5.0",
            "_model_name": "ProgressStyleModel",
            "_view_count": null,
            "_view_module": "@jupyter-widgets/base",
            "_view_module_version": "1.2.0",
            "_view_name": "StyleView",
            "bar_color": null,
            "description_width": ""
          }
        },
        "fed71a37a3154e5abfe13a564186d4a9": {
          "model_module": "@jupyter-widgets/controls",
          "model_name": "VBoxModel",
          "model_module_version": "1.5.0",
          "state": {
            "_dom_classes": [],
            "_model_module": "@jupyter-widgets/controls",
            "_model_module_version": "1.5.0",
            "_model_name": "VBoxModel",
            "_view_count": null,
            "_view_module": "@jupyter-widgets/controls",
            "_view_module_version": "1.5.0",
            "_view_name": "VBoxView",
            "box_style": "",
            "children": [
              "IPY_MODEL_8db69068d5ce4b9f965a98d9ee9c8508",
              "IPY_MODEL_7def2d537abd474598620b9f70130478"
            ],
            "layout": "IPY_MODEL_b76a95cd835e4d65aa0f2edb12537fa2"
          }
        },
        "8db69068d5ce4b9f965a98d9ee9c8508": {
          "model_module": "@jupyter-widgets/controls",
          "model_name": "LabelModel",
          "model_module_version": "1.5.0",
          "state": {
            "_dom_classes": [],
            "_model_module": "@jupyter-widgets/controls",
            "_model_module_version": "1.5.0",
            "_model_name": "LabelModel",
            "_view_count": null,
            "_view_module": "@jupyter-widgets/controls",
            "_view_module_version": "1.5.0",
            "_view_name": "LabelView",
            "description": "",
            "description_tooltip": null,
            "layout": "IPY_MODEL_2f6b9d35dad5493688bfe67e9a85c021",
            "placeholder": "​",
            "style": "IPY_MODEL_cfd308de8eb24a55a97daa9aa578c44e",
            "value": "630.410 MB of 630.410 MB uploaded\r"
          }
        },
        "7def2d537abd474598620b9f70130478": {
          "model_module": "@jupyter-widgets/controls",
          "model_name": "FloatProgressModel",
          "model_module_version": "1.5.0",
          "state": {
            "_dom_classes": [],
            "_model_module": "@jupyter-widgets/controls",
            "_model_module_version": "1.5.0",
            "_model_name": "FloatProgressModel",
            "_view_count": null,
            "_view_module": "@jupyter-widgets/controls",
            "_view_module_version": "1.5.0",
            "_view_name": "ProgressView",
            "bar_style": "",
            "description": "",
            "description_tooltip": null,
            "layout": "IPY_MODEL_3dd3ceca5c1645d7ac3f0d836dd3ae0c",
            "max": 1,
            "min": 0,
            "orientation": "horizontal",
            "style": "IPY_MODEL_38abe4661e8a416782e2095d26df9cec",
            "value": 1
          }
        },
        "b76a95cd835e4d65aa0f2edb12537fa2": {
          "model_module": "@jupyter-widgets/base",
          "model_name": "LayoutModel",
          "model_module_version": "1.2.0",
          "state": {
            "_model_module": "@jupyter-widgets/base",
            "_model_module_version": "1.2.0",
            "_model_name": "LayoutModel",
            "_view_count": null,
            "_view_module": "@jupyter-widgets/base",
            "_view_module_version": "1.2.0",
            "_view_name": "LayoutView",
            "align_content": null,
            "align_items": null,
            "align_self": null,
            "border": null,
            "bottom": null,
            "display": null,
            "flex": null,
            "flex_flow": null,
            "grid_area": null,
            "grid_auto_columns": null,
            "grid_auto_flow": null,
            "grid_auto_rows": null,
            "grid_column": null,
            "grid_gap": null,
            "grid_row": null,
            "grid_template_areas": null,
            "grid_template_columns": null,
            "grid_template_rows": null,
            "height": null,
            "justify_content": null,
            "justify_items": null,
            "left": null,
            "margin": null,
            "max_height": null,
            "max_width": null,
            "min_height": null,
            "min_width": null,
            "object_fit": null,
            "object_position": null,
            "order": null,
            "overflow": null,
            "overflow_x": null,
            "overflow_y": null,
            "padding": null,
            "right": null,
            "top": null,
            "visibility": null,
            "width": null
          }
        },
        "2f6b9d35dad5493688bfe67e9a85c021": {
          "model_module": "@jupyter-widgets/base",
          "model_name": "LayoutModel",
          "model_module_version": "1.2.0",
          "state": {
            "_model_module": "@jupyter-widgets/base",
            "_model_module_version": "1.2.0",
            "_model_name": "LayoutModel",
            "_view_count": null,
            "_view_module": "@jupyter-widgets/base",
            "_view_module_version": "1.2.0",
            "_view_name": "LayoutView",
            "align_content": null,
            "align_items": null,
            "align_self": null,
            "border": null,
            "bottom": null,
            "display": null,
            "flex": null,
            "flex_flow": null,
            "grid_area": null,
            "grid_auto_columns": null,
            "grid_auto_flow": null,
            "grid_auto_rows": null,
            "grid_column": null,
            "grid_gap": null,
            "grid_row": null,
            "grid_template_areas": null,
            "grid_template_columns": null,
            "grid_template_rows": null,
            "height": null,
            "justify_content": null,
            "justify_items": null,
            "left": null,
            "margin": null,
            "max_height": null,
            "max_width": null,
            "min_height": null,
            "min_width": null,
            "object_fit": null,
            "object_position": null,
            "order": null,
            "overflow": null,
            "overflow_x": null,
            "overflow_y": null,
            "padding": null,
            "right": null,
            "top": null,
            "visibility": null,
            "width": null
          }
        },
        "cfd308de8eb24a55a97daa9aa578c44e": {
          "model_module": "@jupyter-widgets/controls",
          "model_name": "DescriptionStyleModel",
          "model_module_version": "1.5.0",
          "state": {
            "_model_module": "@jupyter-widgets/controls",
            "_model_module_version": "1.5.0",
            "_model_name": "DescriptionStyleModel",
            "_view_count": null,
            "_view_module": "@jupyter-widgets/base",
            "_view_module_version": "1.2.0",
            "_view_name": "StyleView",
            "description_width": ""
          }
        },
        "3dd3ceca5c1645d7ac3f0d836dd3ae0c": {
          "model_module": "@jupyter-widgets/base",
          "model_name": "LayoutModel",
          "model_module_version": "1.2.0",
          "state": {
            "_model_module": "@jupyter-widgets/base",
            "_model_module_version": "1.2.0",
            "_model_name": "LayoutModel",
            "_view_count": null,
            "_view_module": "@jupyter-widgets/base",
            "_view_module_version": "1.2.0",
            "_view_name": "LayoutView",
            "align_content": null,
            "align_items": null,
            "align_self": null,
            "border": null,
            "bottom": null,
            "display": null,
            "flex": null,
            "flex_flow": null,
            "grid_area": null,
            "grid_auto_columns": null,
            "grid_auto_flow": null,
            "grid_auto_rows": null,
            "grid_column": null,
            "grid_gap": null,
            "grid_row": null,
            "grid_template_areas": null,
            "grid_template_columns": null,
            "grid_template_rows": null,
            "height": null,
            "justify_content": null,
            "justify_items": null,
            "left": null,
            "margin": null,
            "max_height": null,
            "max_width": null,
            "min_height": null,
            "min_width": null,
            "object_fit": null,
            "object_position": null,
            "order": null,
            "overflow": null,
            "overflow_x": null,
            "overflow_y": null,
            "padding": null,
            "right": null,
            "top": null,
            "visibility": null,
            "width": null
          }
        },
        "38abe4661e8a416782e2095d26df9cec": {
          "model_module": "@jupyter-widgets/controls",
          "model_name": "ProgressStyleModel",
          "model_module_version": "1.5.0",
          "state": {
            "_model_module": "@jupyter-widgets/controls",
            "_model_module_version": "1.5.0",
            "_model_name": "ProgressStyleModel",
            "_view_count": null,
            "_view_module": "@jupyter-widgets/base",
            "_view_module_version": "1.2.0",
            "_view_name": "StyleView",
            "bar_color": null,
            "description_width": ""
          }
        },
        "b3f11f95fc13469ebcdb4a2e0c121165": {
          "model_module": "@jupyter-widgets/controls",
          "model_name": "VBoxModel",
          "model_module_version": "1.5.0",
          "state": {
            "_dom_classes": [],
            "_model_module": "@jupyter-widgets/controls",
            "_model_module_version": "1.5.0",
            "_model_name": "VBoxModel",
            "_view_count": null,
            "_view_module": "@jupyter-widgets/controls",
            "_view_module_version": "1.5.0",
            "_view_name": "VBoxView",
            "box_style": "",
            "children": [
              "IPY_MODEL_cdda147d3a40403298d3bcb9d0049375",
              "IPY_MODEL_deff025779e44147a5eec93a087fb8a0"
            ],
            "layout": "IPY_MODEL_83afbaba25ea4ee0a7248cbde1aa86da"
          }
        },
        "cdda147d3a40403298d3bcb9d0049375": {
          "model_module": "@jupyter-widgets/controls",
          "model_name": "LabelModel",
          "model_module_version": "1.5.0",
          "state": {
            "_dom_classes": [],
            "_model_module": "@jupyter-widgets/controls",
            "_model_module_version": "1.5.0",
            "_model_name": "LabelModel",
            "_view_count": null,
            "_view_module": "@jupyter-widgets/controls",
            "_view_module_version": "1.5.0",
            "_view_name": "LabelView",
            "description": "",
            "description_tooltip": null,
            "layout": "IPY_MODEL_bff4ef412b0b49cc80332198ef2c1ef4",
            "placeholder": "​",
            "style": "IPY_MODEL_aa1ffbda8078478ba97b3ec5fdbecfc0",
            "value": "630.410 MB of 630.410 MB uploaded\r"
          }
        },
        "deff025779e44147a5eec93a087fb8a0": {
          "model_module": "@jupyter-widgets/controls",
          "model_name": "FloatProgressModel",
          "model_module_version": "1.5.0",
          "state": {
            "_dom_classes": [],
            "_model_module": "@jupyter-widgets/controls",
            "_model_module_version": "1.5.0",
            "_model_name": "FloatProgressModel",
            "_view_count": null,
            "_view_module": "@jupyter-widgets/controls",
            "_view_module_version": "1.5.0",
            "_view_name": "ProgressView",
            "bar_style": "",
            "description": "",
            "description_tooltip": null,
            "layout": "IPY_MODEL_8fa9546bc89f4f52b4cee3c3949ddb7f",
            "max": 1,
            "min": 0,
            "orientation": "horizontal",
            "style": "IPY_MODEL_1770307a9732448ab07c5fc1d0801ee1",
            "value": 1
          }
        },
        "83afbaba25ea4ee0a7248cbde1aa86da": {
          "model_module": "@jupyter-widgets/base",
          "model_name": "LayoutModel",
          "model_module_version": "1.2.0",
          "state": {
            "_model_module": "@jupyter-widgets/base",
            "_model_module_version": "1.2.0",
            "_model_name": "LayoutModel",
            "_view_count": null,
            "_view_module": "@jupyter-widgets/base",
            "_view_module_version": "1.2.0",
            "_view_name": "LayoutView",
            "align_content": null,
            "align_items": null,
            "align_self": null,
            "border": null,
            "bottom": null,
            "display": null,
            "flex": null,
            "flex_flow": null,
            "grid_area": null,
            "grid_auto_columns": null,
            "grid_auto_flow": null,
            "grid_auto_rows": null,
            "grid_column": null,
            "grid_gap": null,
            "grid_row": null,
            "grid_template_areas": null,
            "grid_template_columns": null,
            "grid_template_rows": null,
            "height": null,
            "justify_content": null,
            "justify_items": null,
            "left": null,
            "margin": null,
            "max_height": null,
            "max_width": null,
            "min_height": null,
            "min_width": null,
            "object_fit": null,
            "object_position": null,
            "order": null,
            "overflow": null,
            "overflow_x": null,
            "overflow_y": null,
            "padding": null,
            "right": null,
            "top": null,
            "visibility": null,
            "width": null
          }
        },
        "bff4ef412b0b49cc80332198ef2c1ef4": {
          "model_module": "@jupyter-widgets/base",
          "model_name": "LayoutModel",
          "model_module_version": "1.2.0",
          "state": {
            "_model_module": "@jupyter-widgets/base",
            "_model_module_version": "1.2.0",
            "_model_name": "LayoutModel",
            "_view_count": null,
            "_view_module": "@jupyter-widgets/base",
            "_view_module_version": "1.2.0",
            "_view_name": "LayoutView",
            "align_content": null,
            "align_items": null,
            "align_self": null,
            "border": null,
            "bottom": null,
            "display": null,
            "flex": null,
            "flex_flow": null,
            "grid_area": null,
            "grid_auto_columns": null,
            "grid_auto_flow": null,
            "grid_auto_rows": null,
            "grid_column": null,
            "grid_gap": null,
            "grid_row": null,
            "grid_template_areas": null,
            "grid_template_columns": null,
            "grid_template_rows": null,
            "height": null,
            "justify_content": null,
            "justify_items": null,
            "left": null,
            "margin": null,
            "max_height": null,
            "max_width": null,
            "min_height": null,
            "min_width": null,
            "object_fit": null,
            "object_position": null,
            "order": null,
            "overflow": null,
            "overflow_x": null,
            "overflow_y": null,
            "padding": null,
            "right": null,
            "top": null,
            "visibility": null,
            "width": null
          }
        },
        "aa1ffbda8078478ba97b3ec5fdbecfc0": {
          "model_module": "@jupyter-widgets/controls",
          "model_name": "DescriptionStyleModel",
          "model_module_version": "1.5.0",
          "state": {
            "_model_module": "@jupyter-widgets/controls",
            "_model_module_version": "1.5.0",
            "_model_name": "DescriptionStyleModel",
            "_view_count": null,
            "_view_module": "@jupyter-widgets/base",
            "_view_module_version": "1.2.0",
            "_view_name": "StyleView",
            "description_width": ""
          }
        },
        "8fa9546bc89f4f52b4cee3c3949ddb7f": {
          "model_module": "@jupyter-widgets/base",
          "model_name": "LayoutModel",
          "model_module_version": "1.2.0",
          "state": {
            "_model_module": "@jupyter-widgets/base",
            "_model_module_version": "1.2.0",
            "_model_name": "LayoutModel",
            "_view_count": null,
            "_view_module": "@jupyter-widgets/base",
            "_view_module_version": "1.2.0",
            "_view_name": "LayoutView",
            "align_content": null,
            "align_items": null,
            "align_self": null,
            "border": null,
            "bottom": null,
            "display": null,
            "flex": null,
            "flex_flow": null,
            "grid_area": null,
            "grid_auto_columns": null,
            "grid_auto_flow": null,
            "grid_auto_rows": null,
            "grid_column": null,
            "grid_gap": null,
            "grid_row": null,
            "grid_template_areas": null,
            "grid_template_columns": null,
            "grid_template_rows": null,
            "height": null,
            "justify_content": null,
            "justify_items": null,
            "left": null,
            "margin": null,
            "max_height": null,
            "max_width": null,
            "min_height": null,
            "min_width": null,
            "object_fit": null,
            "object_position": null,
            "order": null,
            "overflow": null,
            "overflow_x": null,
            "overflow_y": null,
            "padding": null,
            "right": null,
            "top": null,
            "visibility": null,
            "width": null
          }
        },
        "1770307a9732448ab07c5fc1d0801ee1": {
          "model_module": "@jupyter-widgets/controls",
          "model_name": "ProgressStyleModel",
          "model_module_version": "1.5.0",
          "state": {
            "_model_module": "@jupyter-widgets/controls",
            "_model_module_version": "1.5.0",
            "_model_name": "ProgressStyleModel",
            "_view_count": null,
            "_view_module": "@jupyter-widgets/base",
            "_view_module_version": "1.2.0",
            "_view_name": "StyleView",
            "bar_color": null,
            "description_width": ""
          }
        },
        "6d398af959284aa2a4aced082e912d97": {
          "model_module": "@jupyter-widgets/controls",
          "model_name": "VBoxModel",
          "model_module_version": "1.5.0",
          "state": {
            "_dom_classes": [],
            "_model_module": "@jupyter-widgets/controls",
            "_model_module_version": "1.5.0",
            "_model_name": "VBoxModel",
            "_view_count": null,
            "_view_module": "@jupyter-widgets/controls",
            "_view_module_version": "1.5.0",
            "_view_name": "VBoxView",
            "box_style": "",
            "children": [
              "IPY_MODEL_61ca31c587314e56bbb8e01be5c74fd2",
              "IPY_MODEL_e1a695740879468bbe604a0ef360f547"
            ],
            "layout": "IPY_MODEL_f6caf6bfb5f6499ebc008d2594735aa2"
          }
        },
        "61ca31c587314e56bbb8e01be5c74fd2": {
          "model_module": "@jupyter-widgets/controls",
          "model_name": "LabelModel",
          "model_module_version": "1.5.0",
          "state": {
            "_dom_classes": [],
            "_model_module": "@jupyter-widgets/controls",
            "_model_module_version": "1.5.0",
            "_model_name": "LabelModel",
            "_view_count": null,
            "_view_module": "@jupyter-widgets/controls",
            "_view_module_version": "1.5.0",
            "_view_name": "LabelView",
            "description": "",
            "description_tooltip": null,
            "layout": "IPY_MODEL_5ef3765e1d964cc0a9c45446498ba212",
            "placeholder": "​",
            "style": "IPY_MODEL_ca660e235cf544209b76406f09c5aa3f",
            "value": "647.073 MB of 647.073 MB uploaded\r"
          }
        },
        "e1a695740879468bbe604a0ef360f547": {
          "model_module": "@jupyter-widgets/controls",
          "model_name": "FloatProgressModel",
          "model_module_version": "1.5.0",
          "state": {
            "_dom_classes": [],
            "_model_module": "@jupyter-widgets/controls",
            "_model_module_version": "1.5.0",
            "_model_name": "FloatProgressModel",
            "_view_count": null,
            "_view_module": "@jupyter-widgets/controls",
            "_view_module_version": "1.5.0",
            "_view_name": "ProgressView",
            "bar_style": "",
            "description": "",
            "description_tooltip": null,
            "layout": "IPY_MODEL_20ed32b1b6634393875936cceda51676",
            "max": 1,
            "min": 0,
            "orientation": "horizontal",
            "style": "IPY_MODEL_ae5bb882e4fa4c7593f3271a2c4715aa",
            "value": 1
          }
        },
        "f6caf6bfb5f6499ebc008d2594735aa2": {
          "model_module": "@jupyter-widgets/base",
          "model_name": "LayoutModel",
          "model_module_version": "1.2.0",
          "state": {
            "_model_module": "@jupyter-widgets/base",
            "_model_module_version": "1.2.0",
            "_model_name": "LayoutModel",
            "_view_count": null,
            "_view_module": "@jupyter-widgets/base",
            "_view_module_version": "1.2.0",
            "_view_name": "LayoutView",
            "align_content": null,
            "align_items": null,
            "align_self": null,
            "border": null,
            "bottom": null,
            "display": null,
            "flex": null,
            "flex_flow": null,
            "grid_area": null,
            "grid_auto_columns": null,
            "grid_auto_flow": null,
            "grid_auto_rows": null,
            "grid_column": null,
            "grid_gap": null,
            "grid_row": null,
            "grid_template_areas": null,
            "grid_template_columns": null,
            "grid_template_rows": null,
            "height": null,
            "justify_content": null,
            "justify_items": null,
            "left": null,
            "margin": null,
            "max_height": null,
            "max_width": null,
            "min_height": null,
            "min_width": null,
            "object_fit": null,
            "object_position": null,
            "order": null,
            "overflow": null,
            "overflow_x": null,
            "overflow_y": null,
            "padding": null,
            "right": null,
            "top": null,
            "visibility": null,
            "width": null
          }
        },
        "5ef3765e1d964cc0a9c45446498ba212": {
          "model_module": "@jupyter-widgets/base",
          "model_name": "LayoutModel",
          "model_module_version": "1.2.0",
          "state": {
            "_model_module": "@jupyter-widgets/base",
            "_model_module_version": "1.2.0",
            "_model_name": "LayoutModel",
            "_view_count": null,
            "_view_module": "@jupyter-widgets/base",
            "_view_module_version": "1.2.0",
            "_view_name": "LayoutView",
            "align_content": null,
            "align_items": null,
            "align_self": null,
            "border": null,
            "bottom": null,
            "display": null,
            "flex": null,
            "flex_flow": null,
            "grid_area": null,
            "grid_auto_columns": null,
            "grid_auto_flow": null,
            "grid_auto_rows": null,
            "grid_column": null,
            "grid_gap": null,
            "grid_row": null,
            "grid_template_areas": null,
            "grid_template_columns": null,
            "grid_template_rows": null,
            "height": null,
            "justify_content": null,
            "justify_items": null,
            "left": null,
            "margin": null,
            "max_height": null,
            "max_width": null,
            "min_height": null,
            "min_width": null,
            "object_fit": null,
            "object_position": null,
            "order": null,
            "overflow": null,
            "overflow_x": null,
            "overflow_y": null,
            "padding": null,
            "right": null,
            "top": null,
            "visibility": null,
            "width": null
          }
        },
        "ca660e235cf544209b76406f09c5aa3f": {
          "model_module": "@jupyter-widgets/controls",
          "model_name": "DescriptionStyleModel",
          "model_module_version": "1.5.0",
          "state": {
            "_model_module": "@jupyter-widgets/controls",
            "_model_module_version": "1.5.0",
            "_model_name": "DescriptionStyleModel",
            "_view_count": null,
            "_view_module": "@jupyter-widgets/base",
            "_view_module_version": "1.2.0",
            "_view_name": "StyleView",
            "description_width": ""
          }
        },
        "20ed32b1b6634393875936cceda51676": {
          "model_module": "@jupyter-widgets/base",
          "model_name": "LayoutModel",
          "model_module_version": "1.2.0",
          "state": {
            "_model_module": "@jupyter-widgets/base",
            "_model_module_version": "1.2.0",
            "_model_name": "LayoutModel",
            "_view_count": null,
            "_view_module": "@jupyter-widgets/base",
            "_view_module_version": "1.2.0",
            "_view_name": "LayoutView",
            "align_content": null,
            "align_items": null,
            "align_self": null,
            "border": null,
            "bottom": null,
            "display": null,
            "flex": null,
            "flex_flow": null,
            "grid_area": null,
            "grid_auto_columns": null,
            "grid_auto_flow": null,
            "grid_auto_rows": null,
            "grid_column": null,
            "grid_gap": null,
            "grid_row": null,
            "grid_template_areas": null,
            "grid_template_columns": null,
            "grid_template_rows": null,
            "height": null,
            "justify_content": null,
            "justify_items": null,
            "left": null,
            "margin": null,
            "max_height": null,
            "max_width": null,
            "min_height": null,
            "min_width": null,
            "object_fit": null,
            "object_position": null,
            "order": null,
            "overflow": null,
            "overflow_x": null,
            "overflow_y": null,
            "padding": null,
            "right": null,
            "top": null,
            "visibility": null,
            "width": null
          }
        },
        "ae5bb882e4fa4c7593f3271a2c4715aa": {
          "model_module": "@jupyter-widgets/controls",
          "model_name": "ProgressStyleModel",
          "model_module_version": "1.5.0",
          "state": {
            "_model_module": "@jupyter-widgets/controls",
            "_model_module_version": "1.5.0",
            "_model_name": "ProgressStyleModel",
            "_view_count": null,
            "_view_module": "@jupyter-widgets/base",
            "_view_module_version": "1.2.0",
            "_view_name": "StyleView",
            "bar_color": null,
            "description_width": ""
          }
        },
        "95b6a798e03240a3a589724d7395c1bd": {
          "model_module": "@jupyter-widgets/controls",
          "model_name": "VBoxModel",
          "model_module_version": "1.5.0",
          "state": {
            "_dom_classes": [],
            "_model_module": "@jupyter-widgets/controls",
            "_model_module_version": "1.5.0",
            "_model_name": "VBoxModel",
            "_view_count": null,
            "_view_module": "@jupyter-widgets/controls",
            "_view_module_version": "1.5.0",
            "_view_name": "VBoxView",
            "box_style": "",
            "children": [
              "IPY_MODEL_817cd5301e614cae97ff536583cb7d03",
              "IPY_MODEL_da64344d14b7400fac44ac57faad9cc3"
            ],
            "layout": "IPY_MODEL_928c6dd6a7104459affb59d9785bf5ac"
          }
        },
        "817cd5301e614cae97ff536583cb7d03": {
          "model_module": "@jupyter-widgets/controls",
          "model_name": "LabelModel",
          "model_module_version": "1.5.0",
          "state": {
            "_dom_classes": [],
            "_model_module": "@jupyter-widgets/controls",
            "_model_module_version": "1.5.0",
            "_model_name": "LabelModel",
            "_view_count": null,
            "_view_module": "@jupyter-widgets/controls",
            "_view_module_version": "1.5.0",
            "_view_name": "LabelView",
            "description": "",
            "description_tooltip": null,
            "layout": "IPY_MODEL_bd53305d52e942538576368fdbd8fa16",
            "placeholder": "​",
            "style": "IPY_MODEL_c7f5a8e929884a3ca798c3f4e939bb71",
            "value": "629.908 MB of 629.908 MB uploaded\r"
          }
        },
        "da64344d14b7400fac44ac57faad9cc3": {
          "model_module": "@jupyter-widgets/controls",
          "model_name": "FloatProgressModel",
          "model_module_version": "1.5.0",
          "state": {
            "_dom_classes": [],
            "_model_module": "@jupyter-widgets/controls",
            "_model_module_version": "1.5.0",
            "_model_name": "FloatProgressModel",
            "_view_count": null,
            "_view_module": "@jupyter-widgets/controls",
            "_view_module_version": "1.5.0",
            "_view_name": "ProgressView",
            "bar_style": "",
            "description": "",
            "description_tooltip": null,
            "layout": "IPY_MODEL_48ad5d99799244bcbb73100652d523b3",
            "max": 1,
            "min": 0,
            "orientation": "horizontal",
            "style": "IPY_MODEL_39e1853fe07148b79c2410360809d17b",
            "value": 1
          }
        },
        "928c6dd6a7104459affb59d9785bf5ac": {
          "model_module": "@jupyter-widgets/base",
          "model_name": "LayoutModel",
          "model_module_version": "1.2.0",
          "state": {
            "_model_module": "@jupyter-widgets/base",
            "_model_module_version": "1.2.0",
            "_model_name": "LayoutModel",
            "_view_count": null,
            "_view_module": "@jupyter-widgets/base",
            "_view_module_version": "1.2.0",
            "_view_name": "LayoutView",
            "align_content": null,
            "align_items": null,
            "align_self": null,
            "border": null,
            "bottom": null,
            "display": null,
            "flex": null,
            "flex_flow": null,
            "grid_area": null,
            "grid_auto_columns": null,
            "grid_auto_flow": null,
            "grid_auto_rows": null,
            "grid_column": null,
            "grid_gap": null,
            "grid_row": null,
            "grid_template_areas": null,
            "grid_template_columns": null,
            "grid_template_rows": null,
            "height": null,
            "justify_content": null,
            "justify_items": null,
            "left": null,
            "margin": null,
            "max_height": null,
            "max_width": null,
            "min_height": null,
            "min_width": null,
            "object_fit": null,
            "object_position": null,
            "order": null,
            "overflow": null,
            "overflow_x": null,
            "overflow_y": null,
            "padding": null,
            "right": null,
            "top": null,
            "visibility": null,
            "width": null
          }
        },
        "bd53305d52e942538576368fdbd8fa16": {
          "model_module": "@jupyter-widgets/base",
          "model_name": "LayoutModel",
          "model_module_version": "1.2.0",
          "state": {
            "_model_module": "@jupyter-widgets/base",
            "_model_module_version": "1.2.0",
            "_model_name": "LayoutModel",
            "_view_count": null,
            "_view_module": "@jupyter-widgets/base",
            "_view_module_version": "1.2.0",
            "_view_name": "LayoutView",
            "align_content": null,
            "align_items": null,
            "align_self": null,
            "border": null,
            "bottom": null,
            "display": null,
            "flex": null,
            "flex_flow": null,
            "grid_area": null,
            "grid_auto_columns": null,
            "grid_auto_flow": null,
            "grid_auto_rows": null,
            "grid_column": null,
            "grid_gap": null,
            "grid_row": null,
            "grid_template_areas": null,
            "grid_template_columns": null,
            "grid_template_rows": null,
            "height": null,
            "justify_content": null,
            "justify_items": null,
            "left": null,
            "margin": null,
            "max_height": null,
            "max_width": null,
            "min_height": null,
            "min_width": null,
            "object_fit": null,
            "object_position": null,
            "order": null,
            "overflow": null,
            "overflow_x": null,
            "overflow_y": null,
            "padding": null,
            "right": null,
            "top": null,
            "visibility": null,
            "width": null
          }
        },
        "c7f5a8e929884a3ca798c3f4e939bb71": {
          "model_module": "@jupyter-widgets/controls",
          "model_name": "DescriptionStyleModel",
          "model_module_version": "1.5.0",
          "state": {
            "_model_module": "@jupyter-widgets/controls",
            "_model_module_version": "1.5.0",
            "_model_name": "DescriptionStyleModel",
            "_view_count": null,
            "_view_module": "@jupyter-widgets/base",
            "_view_module_version": "1.2.0",
            "_view_name": "StyleView",
            "description_width": ""
          }
        },
        "48ad5d99799244bcbb73100652d523b3": {
          "model_module": "@jupyter-widgets/base",
          "model_name": "LayoutModel",
          "model_module_version": "1.2.0",
          "state": {
            "_model_module": "@jupyter-widgets/base",
            "_model_module_version": "1.2.0",
            "_model_name": "LayoutModel",
            "_view_count": null,
            "_view_module": "@jupyter-widgets/base",
            "_view_module_version": "1.2.0",
            "_view_name": "LayoutView",
            "align_content": null,
            "align_items": null,
            "align_self": null,
            "border": null,
            "bottom": null,
            "display": null,
            "flex": null,
            "flex_flow": null,
            "grid_area": null,
            "grid_auto_columns": null,
            "grid_auto_flow": null,
            "grid_auto_rows": null,
            "grid_column": null,
            "grid_gap": null,
            "grid_row": null,
            "grid_template_areas": null,
            "grid_template_columns": null,
            "grid_template_rows": null,
            "height": null,
            "justify_content": null,
            "justify_items": null,
            "left": null,
            "margin": null,
            "max_height": null,
            "max_width": null,
            "min_height": null,
            "min_width": null,
            "object_fit": null,
            "object_position": null,
            "order": null,
            "overflow": null,
            "overflow_x": null,
            "overflow_y": null,
            "padding": null,
            "right": null,
            "top": null,
            "visibility": null,
            "width": null
          }
        },
        "39e1853fe07148b79c2410360809d17b": {
          "model_module": "@jupyter-widgets/controls",
          "model_name": "ProgressStyleModel",
          "model_module_version": "1.5.0",
          "state": {
            "_model_module": "@jupyter-widgets/controls",
            "_model_module_version": "1.5.0",
            "_model_name": "ProgressStyleModel",
            "_view_count": null,
            "_view_module": "@jupyter-widgets/base",
            "_view_module_version": "1.2.0",
            "_view_name": "StyleView",
            "bar_color": null,
            "description_width": ""
          }
        },
        "fe0a80634e9b48ef9f75071a9973633a": {
          "model_module": "@jupyter-widgets/controls",
          "model_name": "VBoxModel",
          "model_module_version": "1.5.0",
          "state": {
            "_dom_classes": [],
            "_model_module": "@jupyter-widgets/controls",
            "_model_module_version": "1.5.0",
            "_model_name": "VBoxModel",
            "_view_count": null,
            "_view_module": "@jupyter-widgets/controls",
            "_view_module_version": "1.5.0",
            "_view_name": "VBoxView",
            "box_style": "",
            "children": [
              "IPY_MODEL_a0112a4472694d2ea6cfca401ea02290",
              "IPY_MODEL_ced5dc2d13124698b45b19a6420fab6a"
            ],
            "layout": "IPY_MODEL_c60d3e9fe73b485c95768b3e50a2b3fd"
          }
        },
        "a0112a4472694d2ea6cfca401ea02290": {
          "model_module": "@jupyter-widgets/controls",
          "model_name": "LabelModel",
          "model_module_version": "1.5.0",
          "state": {
            "_dom_classes": [],
            "_model_module": "@jupyter-widgets/controls",
            "_model_module_version": "1.5.0",
            "_model_name": "LabelModel",
            "_view_count": null,
            "_view_module": "@jupyter-widgets/controls",
            "_view_module_version": "1.5.0",
            "_view_name": "LabelView",
            "description": "",
            "description_tooltip": null,
            "layout": "IPY_MODEL_6f5e66c34afa4c8c8b1913c5255ad91d",
            "placeholder": "​",
            "style": "IPY_MODEL_7e576d74a3fb4717b5d17d1913fa2865",
            "value": "629.740 MB of 629.740 MB uploaded\r"
          }
        },
        "ced5dc2d13124698b45b19a6420fab6a": {
          "model_module": "@jupyter-widgets/controls",
          "model_name": "FloatProgressModel",
          "model_module_version": "1.5.0",
          "state": {
            "_dom_classes": [],
            "_model_module": "@jupyter-widgets/controls",
            "_model_module_version": "1.5.0",
            "_model_name": "FloatProgressModel",
            "_view_count": null,
            "_view_module": "@jupyter-widgets/controls",
            "_view_module_version": "1.5.0",
            "_view_name": "ProgressView",
            "bar_style": "",
            "description": "",
            "description_tooltip": null,
            "layout": "IPY_MODEL_1055e1f2cdee473ebcef6f66dca72288",
            "max": 1,
            "min": 0,
            "orientation": "horizontal",
            "style": "IPY_MODEL_b892efcf691d46f68408615786ce12ba",
            "value": 1
          }
        },
        "c60d3e9fe73b485c95768b3e50a2b3fd": {
          "model_module": "@jupyter-widgets/base",
          "model_name": "LayoutModel",
          "model_module_version": "1.2.0",
          "state": {
            "_model_module": "@jupyter-widgets/base",
            "_model_module_version": "1.2.0",
            "_model_name": "LayoutModel",
            "_view_count": null,
            "_view_module": "@jupyter-widgets/base",
            "_view_module_version": "1.2.0",
            "_view_name": "LayoutView",
            "align_content": null,
            "align_items": null,
            "align_self": null,
            "border": null,
            "bottom": null,
            "display": null,
            "flex": null,
            "flex_flow": null,
            "grid_area": null,
            "grid_auto_columns": null,
            "grid_auto_flow": null,
            "grid_auto_rows": null,
            "grid_column": null,
            "grid_gap": null,
            "grid_row": null,
            "grid_template_areas": null,
            "grid_template_columns": null,
            "grid_template_rows": null,
            "height": null,
            "justify_content": null,
            "justify_items": null,
            "left": null,
            "margin": null,
            "max_height": null,
            "max_width": null,
            "min_height": null,
            "min_width": null,
            "object_fit": null,
            "object_position": null,
            "order": null,
            "overflow": null,
            "overflow_x": null,
            "overflow_y": null,
            "padding": null,
            "right": null,
            "top": null,
            "visibility": null,
            "width": null
          }
        },
        "6f5e66c34afa4c8c8b1913c5255ad91d": {
          "model_module": "@jupyter-widgets/base",
          "model_name": "LayoutModel",
          "model_module_version": "1.2.0",
          "state": {
            "_model_module": "@jupyter-widgets/base",
            "_model_module_version": "1.2.0",
            "_model_name": "LayoutModel",
            "_view_count": null,
            "_view_module": "@jupyter-widgets/base",
            "_view_module_version": "1.2.0",
            "_view_name": "LayoutView",
            "align_content": null,
            "align_items": null,
            "align_self": null,
            "border": null,
            "bottom": null,
            "display": null,
            "flex": null,
            "flex_flow": null,
            "grid_area": null,
            "grid_auto_columns": null,
            "grid_auto_flow": null,
            "grid_auto_rows": null,
            "grid_column": null,
            "grid_gap": null,
            "grid_row": null,
            "grid_template_areas": null,
            "grid_template_columns": null,
            "grid_template_rows": null,
            "height": null,
            "justify_content": null,
            "justify_items": null,
            "left": null,
            "margin": null,
            "max_height": null,
            "max_width": null,
            "min_height": null,
            "min_width": null,
            "object_fit": null,
            "object_position": null,
            "order": null,
            "overflow": null,
            "overflow_x": null,
            "overflow_y": null,
            "padding": null,
            "right": null,
            "top": null,
            "visibility": null,
            "width": null
          }
        },
        "7e576d74a3fb4717b5d17d1913fa2865": {
          "model_module": "@jupyter-widgets/controls",
          "model_name": "DescriptionStyleModel",
          "model_module_version": "1.5.0",
          "state": {
            "_model_module": "@jupyter-widgets/controls",
            "_model_module_version": "1.5.0",
            "_model_name": "DescriptionStyleModel",
            "_view_count": null,
            "_view_module": "@jupyter-widgets/base",
            "_view_module_version": "1.2.0",
            "_view_name": "StyleView",
            "description_width": ""
          }
        },
        "1055e1f2cdee473ebcef6f66dca72288": {
          "model_module": "@jupyter-widgets/base",
          "model_name": "LayoutModel",
          "model_module_version": "1.2.0",
          "state": {
            "_model_module": "@jupyter-widgets/base",
            "_model_module_version": "1.2.0",
            "_model_name": "LayoutModel",
            "_view_count": null,
            "_view_module": "@jupyter-widgets/base",
            "_view_module_version": "1.2.0",
            "_view_name": "LayoutView",
            "align_content": null,
            "align_items": null,
            "align_self": null,
            "border": null,
            "bottom": null,
            "display": null,
            "flex": null,
            "flex_flow": null,
            "grid_area": null,
            "grid_auto_columns": null,
            "grid_auto_flow": null,
            "grid_auto_rows": null,
            "grid_column": null,
            "grid_gap": null,
            "grid_row": null,
            "grid_template_areas": null,
            "grid_template_columns": null,
            "grid_template_rows": null,
            "height": null,
            "justify_content": null,
            "justify_items": null,
            "left": null,
            "margin": null,
            "max_height": null,
            "max_width": null,
            "min_height": null,
            "min_width": null,
            "object_fit": null,
            "object_position": null,
            "order": null,
            "overflow": null,
            "overflow_x": null,
            "overflow_y": null,
            "padding": null,
            "right": null,
            "top": null,
            "visibility": null,
            "width": null
          }
        },
        "b892efcf691d46f68408615786ce12ba": {
          "model_module": "@jupyter-widgets/controls",
          "model_name": "ProgressStyleModel",
          "model_module_version": "1.5.0",
          "state": {
            "_model_module": "@jupyter-widgets/controls",
            "_model_module_version": "1.5.0",
            "_model_name": "ProgressStyleModel",
            "_view_count": null,
            "_view_module": "@jupyter-widgets/base",
            "_view_module_version": "1.2.0",
            "_view_name": "StyleView",
            "bar_color": null,
            "description_width": ""
          }
        },
        "5c025ef8ddd846b7a52e69bc65618496": {
          "model_module": "@jupyter-widgets/controls",
          "model_name": "VBoxModel",
          "model_module_version": "1.5.0",
          "state": {
            "_dom_classes": [],
            "_model_module": "@jupyter-widgets/controls",
            "_model_module_version": "1.5.0",
            "_model_name": "VBoxModel",
            "_view_count": null,
            "_view_module": "@jupyter-widgets/controls",
            "_view_module_version": "1.5.0",
            "_view_name": "VBoxView",
            "box_style": "",
            "children": [
              "IPY_MODEL_d4b4f66486374c98820362401d70b573",
              "IPY_MODEL_99fb14ffefce41e8a5e22c7c14e18ac1"
            ],
            "layout": "IPY_MODEL_293edeb38345440a95e683a76c677549"
          }
        },
        "d4b4f66486374c98820362401d70b573": {
          "model_module": "@jupyter-widgets/controls",
          "model_name": "LabelModel",
          "model_module_version": "1.5.0",
          "state": {
            "_dom_classes": [],
            "_model_module": "@jupyter-widgets/controls",
            "_model_module_version": "1.5.0",
            "_model_name": "LabelModel",
            "_view_count": null,
            "_view_module": "@jupyter-widgets/controls",
            "_view_module_version": "1.5.0",
            "_view_name": "LabelView",
            "description": "",
            "description_tooltip": null,
            "layout": "IPY_MODEL_71b41b6ec737473c93b4cb91da3e029b",
            "placeholder": "​",
            "style": "IPY_MODEL_1d751235973240978751ec4580af93a1",
            "value": "629.740 MB of 629.740 MB uploaded\r"
          }
        },
        "99fb14ffefce41e8a5e22c7c14e18ac1": {
          "model_module": "@jupyter-widgets/controls",
          "model_name": "FloatProgressModel",
          "model_module_version": "1.5.0",
          "state": {
            "_dom_classes": [],
            "_model_module": "@jupyter-widgets/controls",
            "_model_module_version": "1.5.0",
            "_model_name": "FloatProgressModel",
            "_view_count": null,
            "_view_module": "@jupyter-widgets/controls",
            "_view_module_version": "1.5.0",
            "_view_name": "ProgressView",
            "bar_style": "",
            "description": "",
            "description_tooltip": null,
            "layout": "IPY_MODEL_4704b28971f14e4ea11aec7d366a6333",
            "max": 1,
            "min": 0,
            "orientation": "horizontal",
            "style": "IPY_MODEL_7cb9d4b1ccc34830aaf775379b85b810",
            "value": 1
          }
        },
        "293edeb38345440a95e683a76c677549": {
          "model_module": "@jupyter-widgets/base",
          "model_name": "LayoutModel",
          "model_module_version": "1.2.0",
          "state": {
            "_model_module": "@jupyter-widgets/base",
            "_model_module_version": "1.2.0",
            "_model_name": "LayoutModel",
            "_view_count": null,
            "_view_module": "@jupyter-widgets/base",
            "_view_module_version": "1.2.0",
            "_view_name": "LayoutView",
            "align_content": null,
            "align_items": null,
            "align_self": null,
            "border": null,
            "bottom": null,
            "display": null,
            "flex": null,
            "flex_flow": null,
            "grid_area": null,
            "grid_auto_columns": null,
            "grid_auto_flow": null,
            "grid_auto_rows": null,
            "grid_column": null,
            "grid_gap": null,
            "grid_row": null,
            "grid_template_areas": null,
            "grid_template_columns": null,
            "grid_template_rows": null,
            "height": null,
            "justify_content": null,
            "justify_items": null,
            "left": null,
            "margin": null,
            "max_height": null,
            "max_width": null,
            "min_height": null,
            "min_width": null,
            "object_fit": null,
            "object_position": null,
            "order": null,
            "overflow": null,
            "overflow_x": null,
            "overflow_y": null,
            "padding": null,
            "right": null,
            "top": null,
            "visibility": null,
            "width": null
          }
        },
        "71b41b6ec737473c93b4cb91da3e029b": {
          "model_module": "@jupyter-widgets/base",
          "model_name": "LayoutModel",
          "model_module_version": "1.2.0",
          "state": {
            "_model_module": "@jupyter-widgets/base",
            "_model_module_version": "1.2.0",
            "_model_name": "LayoutModel",
            "_view_count": null,
            "_view_module": "@jupyter-widgets/base",
            "_view_module_version": "1.2.0",
            "_view_name": "LayoutView",
            "align_content": null,
            "align_items": null,
            "align_self": null,
            "border": null,
            "bottom": null,
            "display": null,
            "flex": null,
            "flex_flow": null,
            "grid_area": null,
            "grid_auto_columns": null,
            "grid_auto_flow": null,
            "grid_auto_rows": null,
            "grid_column": null,
            "grid_gap": null,
            "grid_row": null,
            "grid_template_areas": null,
            "grid_template_columns": null,
            "grid_template_rows": null,
            "height": null,
            "justify_content": null,
            "justify_items": null,
            "left": null,
            "margin": null,
            "max_height": null,
            "max_width": null,
            "min_height": null,
            "min_width": null,
            "object_fit": null,
            "object_position": null,
            "order": null,
            "overflow": null,
            "overflow_x": null,
            "overflow_y": null,
            "padding": null,
            "right": null,
            "top": null,
            "visibility": null,
            "width": null
          }
        },
        "1d751235973240978751ec4580af93a1": {
          "model_module": "@jupyter-widgets/controls",
          "model_name": "DescriptionStyleModel",
          "model_module_version": "1.5.0",
          "state": {
            "_model_module": "@jupyter-widgets/controls",
            "_model_module_version": "1.5.0",
            "_model_name": "DescriptionStyleModel",
            "_view_count": null,
            "_view_module": "@jupyter-widgets/base",
            "_view_module_version": "1.2.0",
            "_view_name": "StyleView",
            "description_width": ""
          }
        },
        "4704b28971f14e4ea11aec7d366a6333": {
          "model_module": "@jupyter-widgets/base",
          "model_name": "LayoutModel",
          "model_module_version": "1.2.0",
          "state": {
            "_model_module": "@jupyter-widgets/base",
            "_model_module_version": "1.2.0",
            "_model_name": "LayoutModel",
            "_view_count": null,
            "_view_module": "@jupyter-widgets/base",
            "_view_module_version": "1.2.0",
            "_view_name": "LayoutView",
            "align_content": null,
            "align_items": null,
            "align_self": null,
            "border": null,
            "bottom": null,
            "display": null,
            "flex": null,
            "flex_flow": null,
            "grid_area": null,
            "grid_auto_columns": null,
            "grid_auto_flow": null,
            "grid_auto_rows": null,
            "grid_column": null,
            "grid_gap": null,
            "grid_row": null,
            "grid_template_areas": null,
            "grid_template_columns": null,
            "grid_template_rows": null,
            "height": null,
            "justify_content": null,
            "justify_items": null,
            "left": null,
            "margin": null,
            "max_height": null,
            "max_width": null,
            "min_height": null,
            "min_width": null,
            "object_fit": null,
            "object_position": null,
            "order": null,
            "overflow": null,
            "overflow_x": null,
            "overflow_y": null,
            "padding": null,
            "right": null,
            "top": null,
            "visibility": null,
            "width": null
          }
        },
        "7cb9d4b1ccc34830aaf775379b85b810": {
          "model_module": "@jupyter-widgets/controls",
          "model_name": "ProgressStyleModel",
          "model_module_version": "1.5.0",
          "state": {
            "_model_module": "@jupyter-widgets/controls",
            "_model_module_version": "1.5.0",
            "_model_name": "ProgressStyleModel",
            "_view_count": null,
            "_view_module": "@jupyter-widgets/base",
            "_view_module_version": "1.2.0",
            "_view_name": "StyleView",
            "bar_color": null,
            "description_width": ""
          }
        },
        "442ae3c6fd3f412dbba1b7cf7c052858": {
          "model_module": "@jupyter-widgets/controls",
          "model_name": "VBoxModel",
          "model_module_version": "1.5.0",
          "state": {
            "_dom_classes": [],
            "_model_module": "@jupyter-widgets/controls",
            "_model_module_version": "1.5.0",
            "_model_name": "VBoxModel",
            "_view_count": null,
            "_view_module": "@jupyter-widgets/controls",
            "_view_module_version": "1.5.0",
            "_view_name": "VBoxView",
            "box_style": "",
            "children": [
              "IPY_MODEL_f676c9b11a4542668a4a604f34915c7f",
              "IPY_MODEL_f6ccc57e752443ffa16796727da3488e"
            ],
            "layout": "IPY_MODEL_45e30ff506b8491aa4427d2bab39016b"
          }
        },
        "f676c9b11a4542668a4a604f34915c7f": {
          "model_module": "@jupyter-widgets/controls",
          "model_name": "LabelModel",
          "model_module_version": "1.5.0",
          "state": {
            "_dom_classes": [],
            "_model_module": "@jupyter-widgets/controls",
            "_model_module_version": "1.5.0",
            "_model_name": "LabelModel",
            "_view_count": null,
            "_view_module": "@jupyter-widgets/controls",
            "_view_module_version": "1.5.0",
            "_view_name": "LabelView",
            "description": "",
            "description_tooltip": null,
            "layout": "IPY_MODEL_3104865f5afe435cba3278ce84331210",
            "placeholder": "​",
            "style": "IPY_MODEL_faabc0d1c3c44f9eb8fe64ad1bda1496",
            "value": "633.073 MB of 633.073 MB uploaded\r"
          }
        },
        "f6ccc57e752443ffa16796727da3488e": {
          "model_module": "@jupyter-widgets/controls",
          "model_name": "FloatProgressModel",
          "model_module_version": "1.5.0",
          "state": {
            "_dom_classes": [],
            "_model_module": "@jupyter-widgets/controls",
            "_model_module_version": "1.5.0",
            "_model_name": "FloatProgressModel",
            "_view_count": null,
            "_view_module": "@jupyter-widgets/controls",
            "_view_module_version": "1.5.0",
            "_view_name": "ProgressView",
            "bar_style": "",
            "description": "",
            "description_tooltip": null,
            "layout": "IPY_MODEL_e403454015e840d69361f44cfcca6446",
            "max": 1,
            "min": 0,
            "orientation": "horizontal",
            "style": "IPY_MODEL_2a4f09b8f4c4456ab17f89715776ac75",
            "value": 1
          }
        },
        "45e30ff506b8491aa4427d2bab39016b": {
          "model_module": "@jupyter-widgets/base",
          "model_name": "LayoutModel",
          "model_module_version": "1.2.0",
          "state": {
            "_model_module": "@jupyter-widgets/base",
            "_model_module_version": "1.2.0",
            "_model_name": "LayoutModel",
            "_view_count": null,
            "_view_module": "@jupyter-widgets/base",
            "_view_module_version": "1.2.0",
            "_view_name": "LayoutView",
            "align_content": null,
            "align_items": null,
            "align_self": null,
            "border": null,
            "bottom": null,
            "display": null,
            "flex": null,
            "flex_flow": null,
            "grid_area": null,
            "grid_auto_columns": null,
            "grid_auto_flow": null,
            "grid_auto_rows": null,
            "grid_column": null,
            "grid_gap": null,
            "grid_row": null,
            "grid_template_areas": null,
            "grid_template_columns": null,
            "grid_template_rows": null,
            "height": null,
            "justify_content": null,
            "justify_items": null,
            "left": null,
            "margin": null,
            "max_height": null,
            "max_width": null,
            "min_height": null,
            "min_width": null,
            "object_fit": null,
            "object_position": null,
            "order": null,
            "overflow": null,
            "overflow_x": null,
            "overflow_y": null,
            "padding": null,
            "right": null,
            "top": null,
            "visibility": null,
            "width": null
          }
        },
        "3104865f5afe435cba3278ce84331210": {
          "model_module": "@jupyter-widgets/base",
          "model_name": "LayoutModel",
          "model_module_version": "1.2.0",
          "state": {
            "_model_module": "@jupyter-widgets/base",
            "_model_module_version": "1.2.0",
            "_model_name": "LayoutModel",
            "_view_count": null,
            "_view_module": "@jupyter-widgets/base",
            "_view_module_version": "1.2.0",
            "_view_name": "LayoutView",
            "align_content": null,
            "align_items": null,
            "align_self": null,
            "border": null,
            "bottom": null,
            "display": null,
            "flex": null,
            "flex_flow": null,
            "grid_area": null,
            "grid_auto_columns": null,
            "grid_auto_flow": null,
            "grid_auto_rows": null,
            "grid_column": null,
            "grid_gap": null,
            "grid_row": null,
            "grid_template_areas": null,
            "grid_template_columns": null,
            "grid_template_rows": null,
            "height": null,
            "justify_content": null,
            "justify_items": null,
            "left": null,
            "margin": null,
            "max_height": null,
            "max_width": null,
            "min_height": null,
            "min_width": null,
            "object_fit": null,
            "object_position": null,
            "order": null,
            "overflow": null,
            "overflow_x": null,
            "overflow_y": null,
            "padding": null,
            "right": null,
            "top": null,
            "visibility": null,
            "width": null
          }
        },
        "faabc0d1c3c44f9eb8fe64ad1bda1496": {
          "model_module": "@jupyter-widgets/controls",
          "model_name": "DescriptionStyleModel",
          "model_module_version": "1.5.0",
          "state": {
            "_model_module": "@jupyter-widgets/controls",
            "_model_module_version": "1.5.0",
            "_model_name": "DescriptionStyleModel",
            "_view_count": null,
            "_view_module": "@jupyter-widgets/base",
            "_view_module_version": "1.2.0",
            "_view_name": "StyleView",
            "description_width": ""
          }
        },
        "e403454015e840d69361f44cfcca6446": {
          "model_module": "@jupyter-widgets/base",
          "model_name": "LayoutModel",
          "model_module_version": "1.2.0",
          "state": {
            "_model_module": "@jupyter-widgets/base",
            "_model_module_version": "1.2.0",
            "_model_name": "LayoutModel",
            "_view_count": null,
            "_view_module": "@jupyter-widgets/base",
            "_view_module_version": "1.2.0",
            "_view_name": "LayoutView",
            "align_content": null,
            "align_items": null,
            "align_self": null,
            "border": null,
            "bottom": null,
            "display": null,
            "flex": null,
            "flex_flow": null,
            "grid_area": null,
            "grid_auto_columns": null,
            "grid_auto_flow": null,
            "grid_auto_rows": null,
            "grid_column": null,
            "grid_gap": null,
            "grid_row": null,
            "grid_template_areas": null,
            "grid_template_columns": null,
            "grid_template_rows": null,
            "height": null,
            "justify_content": null,
            "justify_items": null,
            "left": null,
            "margin": null,
            "max_height": null,
            "max_width": null,
            "min_height": null,
            "min_width": null,
            "object_fit": null,
            "object_position": null,
            "order": null,
            "overflow": null,
            "overflow_x": null,
            "overflow_y": null,
            "padding": null,
            "right": null,
            "top": null,
            "visibility": null,
            "width": null
          }
        },
        "2a4f09b8f4c4456ab17f89715776ac75": {
          "model_module": "@jupyter-widgets/controls",
          "model_name": "ProgressStyleModel",
          "model_module_version": "1.5.0",
          "state": {
            "_model_module": "@jupyter-widgets/controls",
            "_model_module_version": "1.5.0",
            "_model_name": "ProgressStyleModel",
            "_view_count": null,
            "_view_module": "@jupyter-widgets/base",
            "_view_module_version": "1.2.0",
            "_view_name": "StyleView",
            "bar_color": null,
            "description_width": ""
          }
        },
        "b085226693b74b4fa21d0f4add81acbc": {
          "model_module": "@jupyter-widgets/controls",
          "model_name": "VBoxModel",
          "model_module_version": "1.5.0",
          "state": {
            "_dom_classes": [],
            "_model_module": "@jupyter-widgets/controls",
            "_model_module_version": "1.5.0",
            "_model_name": "VBoxModel",
            "_view_count": null,
            "_view_module": "@jupyter-widgets/controls",
            "_view_module_version": "1.5.0",
            "_view_name": "VBoxView",
            "box_style": "",
            "children": [
              "IPY_MODEL_c76082b758eb44129f4a0b26a45d5d01",
              "IPY_MODEL_1247d09ec6f64f3493ecd35805d55cd8"
            ],
            "layout": "IPY_MODEL_6b2ef9d2eb35498797dacd74a2a10ed2"
          }
        },
        "c76082b758eb44129f4a0b26a45d5d01": {
          "model_module": "@jupyter-widgets/controls",
          "model_name": "LabelModel",
          "model_module_version": "1.5.0",
          "state": {
            "_dom_classes": [],
            "_model_module": "@jupyter-widgets/controls",
            "_model_module_version": "1.5.0",
            "_model_name": "LabelModel",
            "_view_count": null,
            "_view_module": "@jupyter-widgets/controls",
            "_view_module_version": "1.5.0",
            "_view_name": "LabelView",
            "description": "",
            "description_tooltip": null,
            "layout": "IPY_MODEL_f77350fd8f4e41c6bb4eabe30470d2b0",
            "placeholder": "​",
            "style": "IPY_MODEL_7264b6c99c4e4d48ba91fced709eba23",
            "value": "629.573 MB of 629.573 MB uploaded\r"
          }
        },
        "1247d09ec6f64f3493ecd35805d55cd8": {
          "model_module": "@jupyter-widgets/controls",
          "model_name": "FloatProgressModel",
          "model_module_version": "1.5.0",
          "state": {
            "_dom_classes": [],
            "_model_module": "@jupyter-widgets/controls",
            "_model_module_version": "1.5.0",
            "_model_name": "FloatProgressModel",
            "_view_count": null,
            "_view_module": "@jupyter-widgets/controls",
            "_view_module_version": "1.5.0",
            "_view_name": "ProgressView",
            "bar_style": "",
            "description": "",
            "description_tooltip": null,
            "layout": "IPY_MODEL_08d3a71acfb44fd3ab96937242d4daaf",
            "max": 1,
            "min": 0,
            "orientation": "horizontal",
            "style": "IPY_MODEL_0160de1eee4c4051bda13f5aa974cc58",
            "value": 1
          }
        },
        "6b2ef9d2eb35498797dacd74a2a10ed2": {
          "model_module": "@jupyter-widgets/base",
          "model_name": "LayoutModel",
          "model_module_version": "1.2.0",
          "state": {
            "_model_module": "@jupyter-widgets/base",
            "_model_module_version": "1.2.0",
            "_model_name": "LayoutModel",
            "_view_count": null,
            "_view_module": "@jupyter-widgets/base",
            "_view_module_version": "1.2.0",
            "_view_name": "LayoutView",
            "align_content": null,
            "align_items": null,
            "align_self": null,
            "border": null,
            "bottom": null,
            "display": null,
            "flex": null,
            "flex_flow": null,
            "grid_area": null,
            "grid_auto_columns": null,
            "grid_auto_flow": null,
            "grid_auto_rows": null,
            "grid_column": null,
            "grid_gap": null,
            "grid_row": null,
            "grid_template_areas": null,
            "grid_template_columns": null,
            "grid_template_rows": null,
            "height": null,
            "justify_content": null,
            "justify_items": null,
            "left": null,
            "margin": null,
            "max_height": null,
            "max_width": null,
            "min_height": null,
            "min_width": null,
            "object_fit": null,
            "object_position": null,
            "order": null,
            "overflow": null,
            "overflow_x": null,
            "overflow_y": null,
            "padding": null,
            "right": null,
            "top": null,
            "visibility": null,
            "width": null
          }
        },
        "f77350fd8f4e41c6bb4eabe30470d2b0": {
          "model_module": "@jupyter-widgets/base",
          "model_name": "LayoutModel",
          "model_module_version": "1.2.0",
          "state": {
            "_model_module": "@jupyter-widgets/base",
            "_model_module_version": "1.2.0",
            "_model_name": "LayoutModel",
            "_view_count": null,
            "_view_module": "@jupyter-widgets/base",
            "_view_module_version": "1.2.0",
            "_view_name": "LayoutView",
            "align_content": null,
            "align_items": null,
            "align_self": null,
            "border": null,
            "bottom": null,
            "display": null,
            "flex": null,
            "flex_flow": null,
            "grid_area": null,
            "grid_auto_columns": null,
            "grid_auto_flow": null,
            "grid_auto_rows": null,
            "grid_column": null,
            "grid_gap": null,
            "grid_row": null,
            "grid_template_areas": null,
            "grid_template_columns": null,
            "grid_template_rows": null,
            "height": null,
            "justify_content": null,
            "justify_items": null,
            "left": null,
            "margin": null,
            "max_height": null,
            "max_width": null,
            "min_height": null,
            "min_width": null,
            "object_fit": null,
            "object_position": null,
            "order": null,
            "overflow": null,
            "overflow_x": null,
            "overflow_y": null,
            "padding": null,
            "right": null,
            "top": null,
            "visibility": null,
            "width": null
          }
        },
        "7264b6c99c4e4d48ba91fced709eba23": {
          "model_module": "@jupyter-widgets/controls",
          "model_name": "DescriptionStyleModel",
          "model_module_version": "1.5.0",
          "state": {
            "_model_module": "@jupyter-widgets/controls",
            "_model_module_version": "1.5.0",
            "_model_name": "DescriptionStyleModel",
            "_view_count": null,
            "_view_module": "@jupyter-widgets/base",
            "_view_module_version": "1.2.0",
            "_view_name": "StyleView",
            "description_width": ""
          }
        },
        "08d3a71acfb44fd3ab96937242d4daaf": {
          "model_module": "@jupyter-widgets/base",
          "model_name": "LayoutModel",
          "model_module_version": "1.2.0",
          "state": {
            "_model_module": "@jupyter-widgets/base",
            "_model_module_version": "1.2.0",
            "_model_name": "LayoutModel",
            "_view_count": null,
            "_view_module": "@jupyter-widgets/base",
            "_view_module_version": "1.2.0",
            "_view_name": "LayoutView",
            "align_content": null,
            "align_items": null,
            "align_self": null,
            "border": null,
            "bottom": null,
            "display": null,
            "flex": null,
            "flex_flow": null,
            "grid_area": null,
            "grid_auto_columns": null,
            "grid_auto_flow": null,
            "grid_auto_rows": null,
            "grid_column": null,
            "grid_gap": null,
            "grid_row": null,
            "grid_template_areas": null,
            "grid_template_columns": null,
            "grid_template_rows": null,
            "height": null,
            "justify_content": null,
            "justify_items": null,
            "left": null,
            "margin": null,
            "max_height": null,
            "max_width": null,
            "min_height": null,
            "min_width": null,
            "object_fit": null,
            "object_position": null,
            "order": null,
            "overflow": null,
            "overflow_x": null,
            "overflow_y": null,
            "padding": null,
            "right": null,
            "top": null,
            "visibility": null,
            "width": null
          }
        },
        "0160de1eee4c4051bda13f5aa974cc58": {
          "model_module": "@jupyter-widgets/controls",
          "model_name": "ProgressStyleModel",
          "model_module_version": "1.5.0",
          "state": {
            "_model_module": "@jupyter-widgets/controls",
            "_model_module_version": "1.5.0",
            "_model_name": "ProgressStyleModel",
            "_view_count": null,
            "_view_module": "@jupyter-widgets/base",
            "_view_module_version": "1.2.0",
            "_view_name": "StyleView",
            "bar_color": null,
            "description_width": ""
          }
        }
      }
    }
  },
  "nbformat": 4,
  "nbformat_minor": 0
}